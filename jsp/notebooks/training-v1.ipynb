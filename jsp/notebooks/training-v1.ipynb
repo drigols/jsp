{
  "cells": [
    {
      "cell_type": "code",
      "execution_count": 2,
      "id": "hpQT1YBFf_Iw",
      "metadata": {
        "id": "hpQT1YBFf_Iw"
      },
      "outputs": [],
      "source": [
        "# !pip install -U pandas catboost scikit-learn"
      ]
    },
    {
      "cell_type": "markdown",
      "id": "b4c7659a-52bc-4953-862a-994f64223421",
      "metadata": {
        "id": "b4c7659a-52bc-4953-862a-994f64223421"
      },
      "source": [
        "# [v1] - Training & Evaluation (baseline, dummy, PoC, prototype)\n",
        "\n",
        "> The notebook's goal is to Training & Evaluation Machine Learning model."
      ]
    },
    {
      "cell_type": "markdown",
      "id": "3b00930f-e566-41c9-b3d9-adf989d91777",
      "metadata": {
        "id": "3b00930f-e566-41c9-b3d9-adf989d91777"
      },
      "source": [
        "---"
      ]
    },
    {
      "cell_type": "markdown",
      "id": "e9374470-9301-4a68-b3d4-9632e090dfeb",
      "metadata": {
        "id": "e9374470-9301-4a68-b3d4-9632e090dfeb"
      },
      "source": [
        "## Get Training and Testing datasets"
      ]
    },
    {
      "cell_type": "code",
      "execution_count": 3,
      "id": "pza_uWH6uLE4",
      "metadata": {
        "id": "pza_uWH6uLE4"
      },
      "outputs": [],
      "source": [
        "import pandas as pd\n",
        "\n",
        "train_df = pd.read_csv(\"Train_rev1.csv\")"
      ]
    },
    {
      "cell_type": "markdown",
      "id": "0ad505ea-4fd7-4c2e-869c-1f290bd4f27a",
      "metadata": {
        "id": "0ad505ea-4fd7-4c2e-869c-1f290bd4f27a"
      },
      "source": [
        "---"
      ]
    },
    {
      "cell_type": "markdown",
      "id": "dbcebba8-112d-4007-9d9b-012d61de056e",
      "metadata": {
        "id": "dbcebba8-112d-4007-9d9b-012d61de056e"
      },
      "source": [
        "## Get Independent and Dependent (target) variables to training the model"
      ]
    },
    {
      "cell_type": "code",
      "execution_count": 4,
      "id": "612a8eba-1fb1-4a47-a6f7-148272140a6c",
      "metadata": {
        "colab": {
          "base_uri": "https://localhost:8080/",
          "height": 570
        },
        "id": "612a8eba-1fb1-4a47-a6f7-148272140a6c",
        "outputId": "704edd5e-caf4-440d-8e4e-c89f4880d901"
      },
      "outputs": [
        {
          "name": "stdout",
          "output_type": "stream",
          "text": [
            "<class 'pandas.core.frame.DataFrame'>\n",
            "RangeIndex: 244768 entries, 0 to 244767\n",
            "Data columns (total 8 columns):\n",
            " #   Column              Non-Null Count   Dtype \n",
            "---  ------              --------------   ----- \n",
            " 0   Title               244768 non-null  object\n",
            " 1   FullDescription     244768 non-null  object\n",
            " 2   LocationNormalized  244768 non-null  object\n",
            " 3   ContractType        244768 non-null  object\n",
            " 4   ContractTime        244768 non-null  object\n",
            " 5   Company             244768 non-null  object\n",
            " 6   Category            244768 non-null  object\n",
            " 7   SourceName          244768 non-null  object\n",
            "dtypes: object(8)\n",
            "memory usage: 14.9+ MB\n"
          ]
        },
        {
          "data": {
            "application/vnd.google.colaboratory.intrinsic+json": {
              "type": "dataframe",
              "variable_name": "X"
            },
            "text/html": [
              "\n",
              "  <div id=\"df-50c64541-30fd-4eae-a51a-977d73d453dd\" class=\"colab-df-container\">\n",
              "    <div>\n",
              "<style scoped>\n",
              "    .dataframe tbody tr th:only-of-type {\n",
              "        vertical-align: middle;\n",
              "    }\n",
              "\n",
              "    .dataframe tbody tr th {\n",
              "        vertical-align: top;\n",
              "    }\n",
              "\n",
              "    .dataframe thead th {\n",
              "        text-align: right;\n",
              "    }\n",
              "</style>\n",
              "<table border=\"1\" class=\"dataframe\">\n",
              "  <thead>\n",
              "    <tr style=\"text-align: right;\">\n",
              "      <th></th>\n",
              "      <th>Title</th>\n",
              "      <th>FullDescription</th>\n",
              "      <th>LocationNormalized</th>\n",
              "      <th>ContractType</th>\n",
              "      <th>ContractTime</th>\n",
              "      <th>Company</th>\n",
              "      <th>Category</th>\n",
              "      <th>SourceName</th>\n",
              "    </tr>\n",
              "  </thead>\n",
              "  <tbody>\n",
              "    <tr>\n",
              "      <th>0</th>\n",
              "      <td>Engineering Systems Analyst</td>\n",
              "      <td>Engineering Systems Analyst Dorking Surrey Sal...</td>\n",
              "      <td>Dorking</td>\n",
              "      <td>nan</td>\n",
              "      <td>permanent</td>\n",
              "      <td>Gregory Martin International</td>\n",
              "      <td>Engineering Jobs</td>\n",
              "      <td>cv-library.co.uk</td>\n",
              "    </tr>\n",
              "    <tr>\n",
              "      <th>1</th>\n",
              "      <td>Stress Engineer Glasgow</td>\n",
              "      <td>Stress Engineer Glasgow Salary **** to **** We...</td>\n",
              "      <td>Glasgow</td>\n",
              "      <td>nan</td>\n",
              "      <td>permanent</td>\n",
              "      <td>Gregory Martin International</td>\n",
              "      <td>Engineering Jobs</td>\n",
              "      <td>cv-library.co.uk</td>\n",
              "    </tr>\n",
              "    <tr>\n",
              "      <th>2</th>\n",
              "      <td>Modelling and simulation analyst</td>\n",
              "      <td>Mathematical Modeller / Simulation Analyst / O...</td>\n",
              "      <td>Hampshire</td>\n",
              "      <td>nan</td>\n",
              "      <td>permanent</td>\n",
              "      <td>Gregory Martin International</td>\n",
              "      <td>Engineering Jobs</td>\n",
              "      <td>cv-library.co.uk</td>\n",
              "    </tr>\n",
              "    <tr>\n",
              "      <th>3</th>\n",
              "      <td>Engineering Systems Analyst / Mathematical Mod...</td>\n",
              "      <td>Engineering Systems Analyst / Mathematical Mod...</td>\n",
              "      <td>Surrey</td>\n",
              "      <td>nan</td>\n",
              "      <td>permanent</td>\n",
              "      <td>Gregory Martin International</td>\n",
              "      <td>Engineering Jobs</td>\n",
              "      <td>cv-library.co.uk</td>\n",
              "    </tr>\n",
              "    <tr>\n",
              "      <th>4</th>\n",
              "      <td>Pioneer, Miser Engineering Systems Analyst</td>\n",
              "      <td>Pioneer, Miser  Engineering Systems Analyst Do...</td>\n",
              "      <td>Surrey</td>\n",
              "      <td>nan</td>\n",
              "      <td>permanent</td>\n",
              "      <td>Gregory Martin International</td>\n",
              "      <td>Engineering Jobs</td>\n",
              "      <td>cv-library.co.uk</td>\n",
              "    </tr>\n",
              "  </tbody>\n",
              "</table>\n",
              "</div>\n",
              "    <div class=\"colab-df-buttons\">\n",
              "\n",
              "  <div class=\"colab-df-container\">\n",
              "    <button class=\"colab-df-convert\" onclick=\"convertToInteractive('df-50c64541-30fd-4eae-a51a-977d73d453dd')\"\n",
              "            title=\"Convert this dataframe to an interactive table.\"\n",
              "            style=\"display:none;\">\n",
              "\n",
              "  <svg xmlns=\"http://www.w3.org/2000/svg\" height=\"24px\" viewBox=\"0 -960 960 960\">\n",
              "    <path d=\"M120-120v-720h720v720H120Zm60-500h600v-160H180v160Zm220 220h160v-160H400v160Zm0 220h160v-160H400v160ZM180-400h160v-160H180v160Zm440 0h160v-160H620v160ZM180-180h160v-160H180v160Zm440 0h160v-160H620v160Z\"/>\n",
              "  </svg>\n",
              "    </button>\n",
              "\n",
              "  <style>\n",
              "    .colab-df-container {\n",
              "      display:flex;\n",
              "      gap: 12px;\n",
              "    }\n",
              "\n",
              "    .colab-df-convert {\n",
              "      background-color: #E8F0FE;\n",
              "      border: none;\n",
              "      border-radius: 50%;\n",
              "      cursor: pointer;\n",
              "      display: none;\n",
              "      fill: #1967D2;\n",
              "      height: 32px;\n",
              "      padding: 0 0 0 0;\n",
              "      width: 32px;\n",
              "    }\n",
              "\n",
              "    .colab-df-convert:hover {\n",
              "      background-color: #E2EBFA;\n",
              "      box-shadow: 0px 1px 2px rgba(60, 64, 67, 0.3), 0px 1px 3px 1px rgba(60, 64, 67, 0.15);\n",
              "      fill: #174EA6;\n",
              "    }\n",
              "\n",
              "    .colab-df-buttons div {\n",
              "      margin-bottom: 4px;\n",
              "    }\n",
              "\n",
              "    [theme=dark] .colab-df-convert {\n",
              "      background-color: #3B4455;\n",
              "      fill: #D2E3FC;\n",
              "    }\n",
              "\n",
              "    [theme=dark] .colab-df-convert:hover {\n",
              "      background-color: #434B5C;\n",
              "      box-shadow: 0px 1px 3px 1px rgba(0, 0, 0, 0.15);\n",
              "      filter: drop-shadow(0px 1px 2px rgba(0, 0, 0, 0.3));\n",
              "      fill: #FFFFFF;\n",
              "    }\n",
              "  </style>\n",
              "\n",
              "    <script>\n",
              "      const buttonEl =\n",
              "        document.querySelector('#df-50c64541-30fd-4eae-a51a-977d73d453dd button.colab-df-convert');\n",
              "      buttonEl.style.display =\n",
              "        google.colab.kernel.accessAllowed ? 'block' : 'none';\n",
              "\n",
              "      async function convertToInteractive(key) {\n",
              "        const element = document.querySelector('#df-50c64541-30fd-4eae-a51a-977d73d453dd');\n",
              "        const dataTable =\n",
              "          await google.colab.kernel.invokeFunction('convertToInteractive',\n",
              "                                                    [key], {});\n",
              "        if (!dataTable) return;\n",
              "\n",
              "        const docLinkHtml = 'Like what you see? Visit the ' +\n",
              "          '<a target=\"_blank\" href=https://colab.research.google.com/notebooks/data_table.ipynb>data table notebook</a>'\n",
              "          + ' to learn more about interactive tables.';\n",
              "        element.innerHTML = '';\n",
              "        dataTable['output_type'] = 'display_data';\n",
              "        await google.colab.output.renderOutput(dataTable, element);\n",
              "        const docLink = document.createElement('div');\n",
              "        docLink.innerHTML = docLinkHtml;\n",
              "        element.appendChild(docLink);\n",
              "      }\n",
              "    </script>\n",
              "  </div>\n",
              "\n",
              "\n",
              "<div id=\"df-ed8f7730-10a2-4de3-8729-8f7d78167ed4\">\n",
              "  <button class=\"colab-df-quickchart\" onclick=\"quickchart('df-ed8f7730-10a2-4de3-8729-8f7d78167ed4')\"\n",
              "            title=\"Suggest charts\"\n",
              "            style=\"display:none;\">\n",
              "\n",
              "<svg xmlns=\"http://www.w3.org/2000/svg\" height=\"24px\"viewBox=\"0 0 24 24\"\n",
              "     width=\"24px\">\n",
              "    <g>\n",
              "        <path d=\"M19 3H5c-1.1 0-2 .9-2 2v14c0 1.1.9 2 2 2h14c1.1 0 2-.9 2-2V5c0-1.1-.9-2-2-2zM9 17H7v-7h2v7zm4 0h-2V7h2v10zm4 0h-2v-4h2v4z\"/>\n",
              "    </g>\n",
              "</svg>\n",
              "  </button>\n",
              "\n",
              "<style>\n",
              "  .colab-df-quickchart {\n",
              "      --bg-color: #E8F0FE;\n",
              "      --fill-color: #1967D2;\n",
              "      --hover-bg-color: #E2EBFA;\n",
              "      --hover-fill-color: #174EA6;\n",
              "      --disabled-fill-color: #AAA;\n",
              "      --disabled-bg-color: #DDD;\n",
              "  }\n",
              "\n",
              "  [theme=dark] .colab-df-quickchart {\n",
              "      --bg-color: #3B4455;\n",
              "      --fill-color: #D2E3FC;\n",
              "      --hover-bg-color: #434B5C;\n",
              "      --hover-fill-color: #FFFFFF;\n",
              "      --disabled-bg-color: #3B4455;\n",
              "      --disabled-fill-color: #666;\n",
              "  }\n",
              "\n",
              "  .colab-df-quickchart {\n",
              "    background-color: var(--bg-color);\n",
              "    border: none;\n",
              "    border-radius: 50%;\n",
              "    cursor: pointer;\n",
              "    display: none;\n",
              "    fill: var(--fill-color);\n",
              "    height: 32px;\n",
              "    padding: 0;\n",
              "    width: 32px;\n",
              "  }\n",
              "\n",
              "  .colab-df-quickchart:hover {\n",
              "    background-color: var(--hover-bg-color);\n",
              "    box-shadow: 0 1px 2px rgba(60, 64, 67, 0.3), 0 1px 3px 1px rgba(60, 64, 67, 0.15);\n",
              "    fill: var(--button-hover-fill-color);\n",
              "  }\n",
              "\n",
              "  .colab-df-quickchart-complete:disabled,\n",
              "  .colab-df-quickchart-complete:disabled:hover {\n",
              "    background-color: var(--disabled-bg-color);\n",
              "    fill: var(--disabled-fill-color);\n",
              "    box-shadow: none;\n",
              "  }\n",
              "\n",
              "  .colab-df-spinner {\n",
              "    border: 2px solid var(--fill-color);\n",
              "    border-color: transparent;\n",
              "    border-bottom-color: var(--fill-color);\n",
              "    animation:\n",
              "      spin 1s steps(1) infinite;\n",
              "  }\n",
              "\n",
              "  @keyframes spin {\n",
              "    0% {\n",
              "      border-color: transparent;\n",
              "      border-bottom-color: var(--fill-color);\n",
              "      border-left-color: var(--fill-color);\n",
              "    }\n",
              "    20% {\n",
              "      border-color: transparent;\n",
              "      border-left-color: var(--fill-color);\n",
              "      border-top-color: var(--fill-color);\n",
              "    }\n",
              "    30% {\n",
              "      border-color: transparent;\n",
              "      border-left-color: var(--fill-color);\n",
              "      border-top-color: var(--fill-color);\n",
              "      border-right-color: var(--fill-color);\n",
              "    }\n",
              "    40% {\n",
              "      border-color: transparent;\n",
              "      border-right-color: var(--fill-color);\n",
              "      border-top-color: var(--fill-color);\n",
              "    }\n",
              "    60% {\n",
              "      border-color: transparent;\n",
              "      border-right-color: var(--fill-color);\n",
              "    }\n",
              "    80% {\n",
              "      border-color: transparent;\n",
              "      border-right-color: var(--fill-color);\n",
              "      border-bottom-color: var(--fill-color);\n",
              "    }\n",
              "    90% {\n",
              "      border-color: transparent;\n",
              "      border-bottom-color: var(--fill-color);\n",
              "    }\n",
              "  }\n",
              "</style>\n",
              "\n",
              "  <script>\n",
              "    async function quickchart(key) {\n",
              "      const quickchartButtonEl =\n",
              "        document.querySelector('#' + key + ' button');\n",
              "      quickchartButtonEl.disabled = true;  // To prevent multiple clicks.\n",
              "      quickchartButtonEl.classList.add('colab-df-spinner');\n",
              "      try {\n",
              "        const charts = await google.colab.kernel.invokeFunction(\n",
              "            'suggestCharts', [key], {});\n",
              "      } catch (error) {\n",
              "        console.error('Error during call to suggestCharts:', error);\n",
              "      }\n",
              "      quickchartButtonEl.classList.remove('colab-df-spinner');\n",
              "      quickchartButtonEl.classList.add('colab-df-quickchart-complete');\n",
              "    }\n",
              "    (() => {\n",
              "      let quickchartButtonEl =\n",
              "        document.querySelector('#df-ed8f7730-10a2-4de3-8729-8f7d78167ed4 button');\n",
              "      quickchartButtonEl.style.display =\n",
              "        google.colab.kernel.accessAllowed ? 'block' : 'none';\n",
              "    })();\n",
              "  </script>\n",
              "</div>\n",
              "\n",
              "    </div>\n",
              "  </div>\n"
            ],
            "text/plain": [
              "                                               Title  \\\n",
              "0                        Engineering Systems Analyst   \n",
              "1                            Stress Engineer Glasgow   \n",
              "2                   Modelling and simulation analyst   \n",
              "3  Engineering Systems Analyst / Mathematical Mod...   \n",
              "4         Pioneer, Miser Engineering Systems Analyst   \n",
              "\n",
              "                                     FullDescription LocationNormalized  \\\n",
              "0  Engineering Systems Analyst Dorking Surrey Sal...            Dorking   \n",
              "1  Stress Engineer Glasgow Salary **** to **** We...            Glasgow   \n",
              "2  Mathematical Modeller / Simulation Analyst / O...          Hampshire   \n",
              "3  Engineering Systems Analyst / Mathematical Mod...             Surrey   \n",
              "4  Pioneer, Miser  Engineering Systems Analyst Do...             Surrey   \n",
              "\n",
              "  ContractType ContractTime                       Company          Category  \\\n",
              "0          nan    permanent  Gregory Martin International  Engineering Jobs   \n",
              "1          nan    permanent  Gregory Martin International  Engineering Jobs   \n",
              "2          nan    permanent  Gregory Martin International  Engineering Jobs   \n",
              "3          nan    permanent  Gregory Martin International  Engineering Jobs   \n",
              "4          nan    permanent  Gregory Martin International  Engineering Jobs   \n",
              "\n",
              "         SourceName  \n",
              "0  cv-library.co.uk  \n",
              "1  cv-library.co.uk  \n",
              "2  cv-library.co.uk  \n",
              "3  cv-library.co.uk  \n",
              "4  cv-library.co.uk  "
            ]
          },
          "execution_count": 4,
          "metadata": {},
          "output_type": "execute_result"
        }
      ],
      "source": [
        "X = train_df.drop(columns=[\n",
        "    'Id',\n",
        "    'LocationRaw',\n",
        "    'SalaryRaw',\n",
        "    'SalaryNormalized',\n",
        "]).astype(str)\n",
        "X.info()\n",
        "X.head(5)"
      ]
    },
    {
      "cell_type": "code",
      "execution_count": 5,
      "id": "dcfc6b0a-48e2-4125-b572-218438315b8d",
      "metadata": {
        "colab": {
          "base_uri": "https://localhost:8080/"
        },
        "id": "dcfc6b0a-48e2-4125-b572-218438315b8d",
        "outputId": "ce3ffdb8-a999-457c-ffa3-d2e3258bcd8d"
      },
      "outputs": [
        {
          "data": {
            "text/plain": [
              "0         25000\n",
              "1         30000\n",
              "2         30000\n",
              "3         27500\n",
              "4         25000\n",
              "          ...  \n",
              "244763    22800\n",
              "244764    22800\n",
              "244765    22800\n",
              "244766    22800\n",
              "244767    42500\n",
              "Name: SalaryNormalized, Length: 244768, dtype: int64"
            ]
          },
          "execution_count": 5,
          "metadata": {},
          "output_type": "execute_result"
        }
      ],
      "source": [
        "y = train_df[\"SalaryNormalized\"]\n",
        "y"
      ]
    },
    {
      "cell_type": "markdown",
      "id": "f181b382-9113-4c4b-b4d9-ade06f479247",
      "metadata": {
        "id": "f181b382-9113-4c4b-b4d9-ade06f479247"
      },
      "source": [
        "---"
      ]
    },
    {
      "cell_type": "markdown",
      "id": "4c82ca97-2c3f-4a2c-947d-286e6621a6ec",
      "metadata": {
        "id": "4c82ca97-2c3f-4a2c-947d-286e6621a6ec"
      },
      "source": [
        "## Split Training dataset \"training\" and \"validation\""
      ]
    },
    {
      "cell_type": "code",
      "execution_count": 6,
      "id": "afa6a5ef-f430-4417-8f91-e95c82942354",
      "metadata": {
        "id": "afa6a5ef-f430-4417-8f91-e95c82942354"
      },
      "outputs": [],
      "source": [
        "from sklearn.model_selection import train_test_split\n",
        "\n",
        "X_train, X_valid, y_train, y_valid = train_test_split(\n",
        "    X,\n",
        "    y,\n",
        "    test_size=0.3,\n",
        "    random_state=42\n",
        ")"
      ]
    },
    {
      "cell_type": "code",
      "execution_count": 7,
      "id": "0PixIHDYr7ca",
      "metadata": {
        "colab": {
          "base_uri": "https://localhost:8080/"
        },
        "id": "0PixIHDYr7ca",
        "outputId": "e38d2aaa-4851-49f7-f909-956b0123cd31"
      },
      "outputs": [
        {
          "data": {
            "text/plain": [
              "(171337, 8)"
            ]
          },
          "execution_count": 7,
          "metadata": {},
          "output_type": "execute_result"
        }
      ],
      "source": [
        "X_train.shape"
      ]
    },
    {
      "cell_type": "code",
      "execution_count": 8,
      "id": "qhUDG8n8sIA7",
      "metadata": {
        "colab": {
          "base_uri": "https://localhost:8080/"
        },
        "id": "qhUDG8n8sIA7",
        "outputId": "db08e61e-5e24-4f1d-a204-542e1dd91a6c"
      },
      "outputs": [
        {
          "data": {
            "text/plain": [
              "(171337,)"
            ]
          },
          "execution_count": 8,
          "metadata": {},
          "output_type": "execute_result"
        }
      ],
      "source": [
        "y_train.shape"
      ]
    },
    {
      "cell_type": "code",
      "execution_count": 9,
      "id": "KYyeZV2isVjf",
      "metadata": {
        "colab": {
          "base_uri": "https://localhost:8080/"
        },
        "id": "KYyeZV2isVjf",
        "outputId": "6af06a5d-b367-4bbb-c88a-bf608e1fa4ef"
      },
      "outputs": [
        {
          "data": {
            "text/plain": [
              "(73431, 8)"
            ]
          },
          "execution_count": 9,
          "metadata": {},
          "output_type": "execute_result"
        }
      ],
      "source": [
        "X_valid.shape"
      ]
    },
    {
      "cell_type": "code",
      "execution_count": 10,
      "id": "ikFfEfZUsVwg",
      "metadata": {
        "colab": {
          "base_uri": "https://localhost:8080/"
        },
        "id": "ikFfEfZUsVwg",
        "outputId": "6d8bf9e6-0ef3-4e5c-e382-1ee4e6f66418"
      },
      "outputs": [
        {
          "data": {
            "text/plain": [
              "(73431,)"
            ]
          },
          "execution_count": 10,
          "metadata": {},
          "output_type": "execute_result"
        }
      ],
      "source": [
        "y_valid.shape"
      ]
    },
    {
      "cell_type": "markdown",
      "id": "c5dcdb93-ad3c-438c-9862-8bd0107e3111",
      "metadata": {
        "id": "c5dcdb93-ad3c-438c-9862-8bd0107e3111"
      },
      "source": [
        "---"
      ]
    },
    {
      "cell_type": "markdown",
      "id": "5730dc2b-64a4-4a17-9b12-09a7f3c848e2",
      "metadata": {
        "id": "5730dc2b-64a4-4a17-9b12-09a7f3c848e2"
      },
      "source": [
        "## Training the model"
      ]
    },
    {
      "cell_type": "code",
      "execution_count": 11,
      "id": "71f58199-e148-4c18-8c04-02e4106504a8",
      "metadata": {
        "id": "71f58199-e148-4c18-8c04-02e4106504a8"
      },
      "outputs": [],
      "source": [
        "from catboost import Pool\n",
        "\n",
        "# Pool training data.\n",
        "pool_train = Pool(\n",
        "    X_train,\n",
        "    y_train,\n",
        "    cat_features= ['LocationNormalized', 'ContractType', 'ContractTime', 'Company', 'Category', 'SourceName'],\n",
        "    text_features = ['Title', 'FullDescription'],\n",
        ")\n",
        "\n",
        "# Pool validate data.\n",
        "pool_valid = Pool(\n",
        "    X_valid,\n",
        "    y_valid,\n",
        "    cat_features= ['LocationNormalized', 'ContractType', 'ContractTime', 'Company', 'Category', 'SourceName'],\n",
        "    text_features = ['Title', 'FullDescription'],\n",
        ")"
      ]
    },
    {
      "cell_type": "code",
      "execution_count": 12,
      "id": "jDKdni0DrbIj",
      "metadata": {
        "id": "jDKdni0DrbIj"
      },
      "outputs": [],
      "source": [
        "from catboost import CatBoostRegressor\n",
        "import time\n",
        "\n",
        "start = time.time()\n",
        "model = CatBoostRegressor()\n",
        "model.fit(\n",
        "    pool_train,\n",
        "    eval_set=pool_valid,\n",
        "    silent=True,\n",
        ")\n",
        "end = time.time()\n",
        "elapsed_time = end - start"
      ]
    },
    {
      "cell_type": "code",
      "execution_count": 13,
      "id": "xMPb8Nqsw2Hq",
      "metadata": {
        "colab": {
          "base_uri": "https://localhost:8080/"
        },
        "id": "xMPb8Nqsw2Hq",
        "outputId": "8eeb7ceb-5b71-4dfd-c050-a232d9e17a4d"
      },
      "outputs": [
        {
          "name": "stdout",
          "output_type": "stream",
          "text": [
            "The model took '21.163' minutes to train.\n"
          ]
        }
      ],
      "source": [
        "minutes = elapsed_time / 60\n",
        "print(f\"The model took '{round(minutes, 3)}' minutes to train.\")"
      ]
    },
    {
      "cell_type": "markdown",
      "id": "ed8dd081-40cf-46b2-92a0-c5ee352c5960",
      "metadata": {
        "id": "ed8dd081-40cf-46b2-92a0-c5ee352c5960"
      },
      "source": [
        "---"
      ]
    },
    {
      "cell_type": "markdown",
      "id": "c4349ad4-d4a0-467d-a111-4b8eba1dcddc",
      "metadata": {
        "id": "c4349ad4-d4a0-467d-a111-4b8eba1dcddc"
      },
      "source": [
        "## Making some predictions"
      ]
    },
    {
      "cell_type": "markdown",
      "id": "ZrvSsURKUJzM",
      "metadata": {
        "id": "ZrvSsURKUJzM"
      },
      "source": [
        "**Manual Predict:**"
      ]
    },
    {
      "cell_type": "code",
      "execution_count": 14,
      "id": "Fw6Z5RoqVYDw",
      "metadata": {
        "id": "Fw6Z5RoqVYDw"
      },
      "outputs": [],
      "source": [
        "data = {\n",
        "    'Title': 'Engineering Systems Analyst',\n",
        "    'FullDescription': 'Engineering Systems Analyst Dorking Surrey Salary ****K Our client is located in Dorking, Surrey and are looking for Engineering Systems Analyst our client provides specialist software development Keywords Mathematical Modelling, Risk Analysis, System Modelling, Optimisation, MISER, PIONEEER Engineering Systems Analyst Dorking Surrey Salary ****K',\n",
        "    'LocationNormalized': 'Dorking',\n",
        "    'ContractType': 'full_time',\n",
        "    'ContractTime': 'permanent',\n",
        "    'Company': 'Gregory Martin International',\n",
        "    'Category': 'Engineering Jobs',\n",
        "    'SourceName': 'cv-library.co.uk'\n",
        "}"
      ]
    },
    {
      "cell_type": "code",
      "execution_count": 17,
      "id": "y37SavShUI8H",
      "metadata": {
        "id": "y37SavShUI8H"
      },
      "outputs": [],
      "source": [
        "manual_predict = model.predict([*data])"
      ]
    },
    {
      "cell_type": "code",
      "execution_count": 18,
      "id": "pGE8kFizUJAc",
      "metadata": {
        "colab": {
          "base_uri": "https://localhost:8080/"
        },
        "id": "pGE8kFizUJAc",
        "outputId": "cb22f277-b796-47d6-f38c-683c128dbf3f"
      },
      "outputs": [
        {
          "data": {
            "text/plain": [
              "29041.310879113495"
            ]
          },
          "execution_count": 18,
          "metadata": {},
          "output_type": "execute_result"
        }
      ],
      "source": [
        "manual_predict"
      ]
    },
    {
      "cell_type": "markdown",
      "id": "M3Pcufc3Un6c",
      "metadata": {
        "id": "M3Pcufc3Un6c"
      },
      "source": [
        "**Predicts from \"X_valid\":**"
      ]
    },
    {
      "cell_type": "code",
      "execution_count": 19,
      "id": "9p1I2GkYTvSU",
      "metadata": {
        "colab": {
          "base_uri": "https://localhost:8080/"
        },
        "id": "9p1I2GkYTvSU",
        "outputId": "55ace676-2897-42c4-ed1d-4ea4747df47a"
      },
      "outputs": [
        {
          "data": {
            "text/plain": [
              "array([29580.07092388, 23685.2599251 , 29864.38212494, ...,\n",
              "       21278.34007141, 24466.79012426, 33353.1406066 ])"
            ]
          },
          "execution_count": 19,
          "metadata": {},
          "output_type": "execute_result"
        }
      ],
      "source": [
        "# Predictions to validation data.\n",
        "salaries_predicted = model.predict(X_valid)\n",
        "salaries_predicted"
      ]
    },
    {
      "cell_type": "code",
      "execution_count": 20,
      "id": "Pvkk6cr8TvWs",
      "metadata": {
        "colab": {
          "base_uri": "https://localhost:8080/"
        },
        "id": "Pvkk6cr8TvWs",
        "outputId": "569c3b9a-f438-4db5-8479-8da5df21733b"
      },
      "outputs": [
        {
          "data": {
            "text/plain": [
              "(73431,)"
            ]
          },
          "execution_count": 20,
          "metadata": {},
          "output_type": "execute_result"
        }
      ],
      "source": [
        "salaries_predicted.shape"
      ]
    },
    {
      "cell_type": "markdown",
      "id": "e706e275-963f-4970-bbb2-d00c2f4b3cd7",
      "metadata": {
        "id": "e706e275-963f-4970-bbb2-d00c2f4b3cd7"
      },
      "source": [
        "## Comparing \"predicted salaries\" with actual salaries (y_valid)"
      ]
    },
    {
      "cell_type": "markdown",
      "id": "ce1851a5-589e-4983-95cb-57af8697bfbf",
      "metadata": {
        "id": "ce1851a5-589e-4983-95cb-57af8697bfbf"
      },
      "source": [
        "**Preparing statistics for predicted salaries:**  \n",
        "I had problems adding the mode() statistic at the end of the DataFrame. So I had to take a manual approach with dictionaries."
      ]
    },
    {
      "cell_type": "code",
      "execution_count": 21,
      "id": "afe47718-fe21-42ff-bb55-5b2873c0cf4e",
      "metadata": {
        "id": "afe47718-fe21-42ff-bb55-5b2873c0cf4e"
      },
      "outputs": [],
      "source": [
        "# Create a DataFrame to store salaries predicted.\n",
        "df_salaries_predicted = pd.DataFrame({'Salary Predicted': salaries_predicted})"
      ]
    },
    {
      "cell_type": "code",
      "execution_count": 22,
      "id": "80869799-ef88-4fdc-9444-8d6bbf907f7b",
      "metadata": {
        "id": "80869799-ef88-4fdc-9444-8d6bbf907f7b"
      },
      "outputs": [],
      "source": [
        "# Create a dictionary to store describe() method statistics.\n",
        "predicted_dict = {}\n",
        "for index, value in zip(df_salaries_predicted.describe().index, df_salaries_predicted.describe().values):\n",
        "    predicted_dict[index] = value[0]"
      ]
    },
    {
      "cell_type": "code",
      "execution_count": 23,
      "id": "3bdedd0f-c057-4152-8837-099c7641b7f6",
      "metadata": {
        "id": "3bdedd0f-c057-4152-8837-099c7641b7f6"
      },
      "outputs": [],
      "source": [
        "# Append mode() statistics to dictionary.\n",
        "predicted_dict['mode'] = df_salaries_predicted.mode().iloc[0, 0]"
      ]
    },
    {
      "cell_type": "code",
      "execution_count": 24,
      "id": "8ef59ce7-00fb-4207-8730-296f046dd649",
      "metadata": {
        "colab": {
          "base_uri": "https://localhost:8080/",
          "height": 331
        },
        "id": "8ef59ce7-00fb-4207-8730-296f046dd649",
        "outputId": "1449c1ee-0acd-42bb-e8a2-fc6f1e3dbb28"
      },
      "outputs": [
        {
          "data": {
            "application/vnd.google.colaboratory.intrinsic+json": {
              "summary": "{\n  \"name\": \"salaries_predicted_statistics\",\n  \"rows\": 9,\n  \"fields\": [\n    {\n      \"column\": \"Statistics of the \\\"Predicted Salaries\\\"\",\n      \"properties\": {\n        \"dtype\": \"number\",\n        \"std\": 41704.76726807,\n        \"min\": 538.3364897435313,\n        \"max\": 142030.6288325044,\n        \"num_unique_values\": 9,\n        \"samples\": [\n          142030.6288325044,\n          34133.79689260088,\n          32051.749540977453\n        ],\n        \"semantic_type\": \"\",\n        \"description\": \"\"\n      }\n    }\n  ]\n}",
              "type": "dataframe",
              "variable_name": "salaries_predicted_statistics"
            },
            "text/html": [
              "\n",
              "  <div id=\"df-8ffd4dbe-91aa-47a1-ac1d-7d43e3f63cf9\" class=\"colab-df-container\">\n",
              "    <div>\n",
              "<style scoped>\n",
              "    .dataframe tbody tr th:only-of-type {\n",
              "        vertical-align: middle;\n",
              "    }\n",
              "\n",
              "    .dataframe tbody tr th {\n",
              "        vertical-align: top;\n",
              "    }\n",
              "\n",
              "    .dataframe thead th {\n",
              "        text-align: right;\n",
              "    }\n",
              "</style>\n",
              "<table border=\"1\" class=\"dataframe\">\n",
              "  <thead>\n",
              "    <tr style=\"text-align: right;\">\n",
              "      <th></th>\n",
              "      <th>Statistics of the \"Predicted Salaries\"</th>\n",
              "    </tr>\n",
              "  </thead>\n",
              "  <tbody>\n",
              "    <tr>\n",
              "      <th>count</th>\n",
              "      <td>73431.000000</td>\n",
              "    </tr>\n",
              "    <tr>\n",
              "      <th>mean</th>\n",
              "      <td>34133.796893</td>\n",
              "    </tr>\n",
              "    <tr>\n",
              "      <th>std</th>\n",
              "      <td>14212.498298</td>\n",
              "    </tr>\n",
              "    <tr>\n",
              "      <th>min</th>\n",
              "      <td>538.336490</td>\n",
              "    </tr>\n",
              "    <tr>\n",
              "      <th>25%</th>\n",
              "      <td>23519.597509</td>\n",
              "    </tr>\n",
              "    <tr>\n",
              "      <th>50%</th>\n",
              "      <td>32051.749541</td>\n",
              "    </tr>\n",
              "    <tr>\n",
              "      <th>75%</th>\n",
              "      <td>42155.870355</td>\n",
              "    </tr>\n",
              "    <tr>\n",
              "      <th>max</th>\n",
              "      <td>142030.628833</td>\n",
              "    </tr>\n",
              "    <tr>\n",
              "      <th>mode</th>\n",
              "      <td>41641.180291</td>\n",
              "    </tr>\n",
              "  </tbody>\n",
              "</table>\n",
              "</div>\n",
              "    <div class=\"colab-df-buttons\">\n",
              "\n",
              "  <div class=\"colab-df-container\">\n",
              "    <button class=\"colab-df-convert\" onclick=\"convertToInteractive('df-8ffd4dbe-91aa-47a1-ac1d-7d43e3f63cf9')\"\n",
              "            title=\"Convert this dataframe to an interactive table.\"\n",
              "            style=\"display:none;\">\n",
              "\n",
              "  <svg xmlns=\"http://www.w3.org/2000/svg\" height=\"24px\" viewBox=\"0 -960 960 960\">\n",
              "    <path d=\"M120-120v-720h720v720H120Zm60-500h600v-160H180v160Zm220 220h160v-160H400v160Zm0 220h160v-160H400v160ZM180-400h160v-160H180v160Zm440 0h160v-160H620v160ZM180-180h160v-160H180v160Zm440 0h160v-160H620v160Z\"/>\n",
              "  </svg>\n",
              "    </button>\n",
              "\n",
              "  <style>\n",
              "    .colab-df-container {\n",
              "      display:flex;\n",
              "      gap: 12px;\n",
              "    }\n",
              "\n",
              "    .colab-df-convert {\n",
              "      background-color: #E8F0FE;\n",
              "      border: none;\n",
              "      border-radius: 50%;\n",
              "      cursor: pointer;\n",
              "      display: none;\n",
              "      fill: #1967D2;\n",
              "      height: 32px;\n",
              "      padding: 0 0 0 0;\n",
              "      width: 32px;\n",
              "    }\n",
              "\n",
              "    .colab-df-convert:hover {\n",
              "      background-color: #E2EBFA;\n",
              "      box-shadow: 0px 1px 2px rgba(60, 64, 67, 0.3), 0px 1px 3px 1px rgba(60, 64, 67, 0.15);\n",
              "      fill: #174EA6;\n",
              "    }\n",
              "\n",
              "    .colab-df-buttons div {\n",
              "      margin-bottom: 4px;\n",
              "    }\n",
              "\n",
              "    [theme=dark] .colab-df-convert {\n",
              "      background-color: #3B4455;\n",
              "      fill: #D2E3FC;\n",
              "    }\n",
              "\n",
              "    [theme=dark] .colab-df-convert:hover {\n",
              "      background-color: #434B5C;\n",
              "      box-shadow: 0px 1px 3px 1px rgba(0, 0, 0, 0.15);\n",
              "      filter: drop-shadow(0px 1px 2px rgba(0, 0, 0, 0.3));\n",
              "      fill: #FFFFFF;\n",
              "    }\n",
              "  </style>\n",
              "\n",
              "    <script>\n",
              "      const buttonEl =\n",
              "        document.querySelector('#df-8ffd4dbe-91aa-47a1-ac1d-7d43e3f63cf9 button.colab-df-convert');\n",
              "      buttonEl.style.display =\n",
              "        google.colab.kernel.accessAllowed ? 'block' : 'none';\n",
              "\n",
              "      async function convertToInteractive(key) {\n",
              "        const element = document.querySelector('#df-8ffd4dbe-91aa-47a1-ac1d-7d43e3f63cf9');\n",
              "        const dataTable =\n",
              "          await google.colab.kernel.invokeFunction('convertToInteractive',\n",
              "                                                    [key], {});\n",
              "        if (!dataTable) return;\n",
              "\n",
              "        const docLinkHtml = 'Like what you see? Visit the ' +\n",
              "          '<a target=\"_blank\" href=https://colab.research.google.com/notebooks/data_table.ipynb>data table notebook</a>'\n",
              "          + ' to learn more about interactive tables.';\n",
              "        element.innerHTML = '';\n",
              "        dataTable['output_type'] = 'display_data';\n",
              "        await google.colab.output.renderOutput(dataTable, element);\n",
              "        const docLink = document.createElement('div');\n",
              "        docLink.innerHTML = docLinkHtml;\n",
              "        element.appendChild(docLink);\n",
              "      }\n",
              "    </script>\n",
              "  </div>\n",
              "\n",
              "\n",
              "<div id=\"df-540f9eb2-2aec-4a5c-9e44-ad77a4fd92b6\">\n",
              "  <button class=\"colab-df-quickchart\" onclick=\"quickchart('df-540f9eb2-2aec-4a5c-9e44-ad77a4fd92b6')\"\n",
              "            title=\"Suggest charts\"\n",
              "            style=\"display:none;\">\n",
              "\n",
              "<svg xmlns=\"http://www.w3.org/2000/svg\" height=\"24px\"viewBox=\"0 0 24 24\"\n",
              "     width=\"24px\">\n",
              "    <g>\n",
              "        <path d=\"M19 3H5c-1.1 0-2 .9-2 2v14c0 1.1.9 2 2 2h14c1.1 0 2-.9 2-2V5c0-1.1-.9-2-2-2zM9 17H7v-7h2v7zm4 0h-2V7h2v10zm4 0h-2v-4h2v4z\"/>\n",
              "    </g>\n",
              "</svg>\n",
              "  </button>\n",
              "\n",
              "<style>\n",
              "  .colab-df-quickchart {\n",
              "      --bg-color: #E8F0FE;\n",
              "      --fill-color: #1967D2;\n",
              "      --hover-bg-color: #E2EBFA;\n",
              "      --hover-fill-color: #174EA6;\n",
              "      --disabled-fill-color: #AAA;\n",
              "      --disabled-bg-color: #DDD;\n",
              "  }\n",
              "\n",
              "  [theme=dark] .colab-df-quickchart {\n",
              "      --bg-color: #3B4455;\n",
              "      --fill-color: #D2E3FC;\n",
              "      --hover-bg-color: #434B5C;\n",
              "      --hover-fill-color: #FFFFFF;\n",
              "      --disabled-bg-color: #3B4455;\n",
              "      --disabled-fill-color: #666;\n",
              "  }\n",
              "\n",
              "  .colab-df-quickchart {\n",
              "    background-color: var(--bg-color);\n",
              "    border: none;\n",
              "    border-radius: 50%;\n",
              "    cursor: pointer;\n",
              "    display: none;\n",
              "    fill: var(--fill-color);\n",
              "    height: 32px;\n",
              "    padding: 0;\n",
              "    width: 32px;\n",
              "  }\n",
              "\n",
              "  .colab-df-quickchart:hover {\n",
              "    background-color: var(--hover-bg-color);\n",
              "    box-shadow: 0 1px 2px rgba(60, 64, 67, 0.3), 0 1px 3px 1px rgba(60, 64, 67, 0.15);\n",
              "    fill: var(--button-hover-fill-color);\n",
              "  }\n",
              "\n",
              "  .colab-df-quickchart-complete:disabled,\n",
              "  .colab-df-quickchart-complete:disabled:hover {\n",
              "    background-color: var(--disabled-bg-color);\n",
              "    fill: var(--disabled-fill-color);\n",
              "    box-shadow: none;\n",
              "  }\n",
              "\n",
              "  .colab-df-spinner {\n",
              "    border: 2px solid var(--fill-color);\n",
              "    border-color: transparent;\n",
              "    border-bottom-color: var(--fill-color);\n",
              "    animation:\n",
              "      spin 1s steps(1) infinite;\n",
              "  }\n",
              "\n",
              "  @keyframes spin {\n",
              "    0% {\n",
              "      border-color: transparent;\n",
              "      border-bottom-color: var(--fill-color);\n",
              "      border-left-color: var(--fill-color);\n",
              "    }\n",
              "    20% {\n",
              "      border-color: transparent;\n",
              "      border-left-color: var(--fill-color);\n",
              "      border-top-color: var(--fill-color);\n",
              "    }\n",
              "    30% {\n",
              "      border-color: transparent;\n",
              "      border-left-color: var(--fill-color);\n",
              "      border-top-color: var(--fill-color);\n",
              "      border-right-color: var(--fill-color);\n",
              "    }\n",
              "    40% {\n",
              "      border-color: transparent;\n",
              "      border-right-color: var(--fill-color);\n",
              "      border-top-color: var(--fill-color);\n",
              "    }\n",
              "    60% {\n",
              "      border-color: transparent;\n",
              "      border-right-color: var(--fill-color);\n",
              "    }\n",
              "    80% {\n",
              "      border-color: transparent;\n",
              "      border-right-color: var(--fill-color);\n",
              "      border-bottom-color: var(--fill-color);\n",
              "    }\n",
              "    90% {\n",
              "      border-color: transparent;\n",
              "      border-bottom-color: var(--fill-color);\n",
              "    }\n",
              "  }\n",
              "</style>\n",
              "\n",
              "  <script>\n",
              "    async function quickchart(key) {\n",
              "      const quickchartButtonEl =\n",
              "        document.querySelector('#' + key + ' button');\n",
              "      quickchartButtonEl.disabled = true;  // To prevent multiple clicks.\n",
              "      quickchartButtonEl.classList.add('colab-df-spinner');\n",
              "      try {\n",
              "        const charts = await google.colab.kernel.invokeFunction(\n",
              "            'suggestCharts', [key], {});\n",
              "      } catch (error) {\n",
              "        console.error('Error during call to suggestCharts:', error);\n",
              "      }\n",
              "      quickchartButtonEl.classList.remove('colab-df-spinner');\n",
              "      quickchartButtonEl.classList.add('colab-df-quickchart-complete');\n",
              "    }\n",
              "    (() => {\n",
              "      let quickchartButtonEl =\n",
              "        document.querySelector('#df-540f9eb2-2aec-4a5c-9e44-ad77a4fd92b6 button');\n",
              "      quickchartButtonEl.style.display =\n",
              "        google.colab.kernel.accessAllowed ? 'block' : 'none';\n",
              "    })();\n",
              "  </script>\n",
              "</div>\n",
              "\n",
              "  <div id=\"id_41ad5f52-f00a-4a06-9f44-153b4b1aceb1\">\n",
              "    <style>\n",
              "      .colab-df-generate {\n",
              "        background-color: #E8F0FE;\n",
              "        border: none;\n",
              "        border-radius: 50%;\n",
              "        cursor: pointer;\n",
              "        display: none;\n",
              "        fill: #1967D2;\n",
              "        height: 32px;\n",
              "        padding: 0 0 0 0;\n",
              "        width: 32px;\n",
              "      }\n",
              "\n",
              "      .colab-df-generate:hover {\n",
              "        background-color: #E2EBFA;\n",
              "        box-shadow: 0px 1px 2px rgba(60, 64, 67, 0.3), 0px 1px 3px 1px rgba(60, 64, 67, 0.15);\n",
              "        fill: #174EA6;\n",
              "      }\n",
              "\n",
              "      [theme=dark] .colab-df-generate {\n",
              "        background-color: #3B4455;\n",
              "        fill: #D2E3FC;\n",
              "      }\n",
              "\n",
              "      [theme=dark] .colab-df-generate:hover {\n",
              "        background-color: #434B5C;\n",
              "        box-shadow: 0px 1px 3px 1px rgba(0, 0, 0, 0.15);\n",
              "        filter: drop-shadow(0px 1px 2px rgba(0, 0, 0, 0.3));\n",
              "        fill: #FFFFFF;\n",
              "      }\n",
              "    </style>\n",
              "    <button class=\"colab-df-generate\" onclick=\"generateWithVariable('salaries_predicted_statistics')\"\n",
              "            title=\"Generate code using this dataframe.\"\n",
              "            style=\"display:none;\">\n",
              "\n",
              "  <svg xmlns=\"http://www.w3.org/2000/svg\" height=\"24px\"viewBox=\"0 0 24 24\"\n",
              "       width=\"24px\">\n",
              "    <path d=\"M7,19H8.4L18.45,9,17,7.55,7,17.6ZM5,21V16.75L18.45,3.32a2,2,0,0,1,2.83,0l1.4,1.43a1.91,1.91,0,0,1,.58,1.4,1.91,1.91,0,0,1-.58,1.4L9.25,21ZM18.45,9,17,7.55Zm-12,3A5.31,5.31,0,0,0,4.9,8.1,5.31,5.31,0,0,0,1,6.5,5.31,5.31,0,0,0,4.9,4.9,5.31,5.31,0,0,0,6.5,1,5.31,5.31,0,0,0,8.1,4.9,5.31,5.31,0,0,0,12,6.5,5.46,5.46,0,0,0,6.5,12Z\"/>\n",
              "  </svg>\n",
              "    </button>\n",
              "    <script>\n",
              "      (() => {\n",
              "      const buttonEl =\n",
              "        document.querySelector('#id_41ad5f52-f00a-4a06-9f44-153b4b1aceb1 button.colab-df-generate');\n",
              "      buttonEl.style.display =\n",
              "        google.colab.kernel.accessAllowed ? 'block' : 'none';\n",
              "\n",
              "      buttonEl.onclick = () => {\n",
              "        google.colab.notebook.generateWithVariable('salaries_predicted_statistics');\n",
              "      }\n",
              "      })();\n",
              "    </script>\n",
              "  </div>\n",
              "\n",
              "    </div>\n",
              "  </div>\n"
            ],
            "text/plain": [
              "       Statistics of the \"Predicted Salaries\"\n",
              "count                            73431.000000\n",
              "mean                             34133.796893\n",
              "std                              14212.498298\n",
              "min                                538.336490\n",
              "25%                              23519.597509\n",
              "50%                              32051.749541\n",
              "75%                              42155.870355\n",
              "max                             142030.628833\n",
              "mode                             41641.180291"
            ]
          },
          "execution_count": 24,
          "metadata": {},
          "output_type": "execute_result"
        }
      ],
      "source": [
        "# Create a DataFrame to store statistics of the predicted salaries.\n",
        "salaries_predicted_statistics = pd.DataFrame({'Statistics of the \"Predicted Salaries\"': predicted_dict}, predicted_dict.keys())\n",
        "salaries_predicted_statistics"
      ]
    },
    {
      "cell_type": "markdown",
      "id": "9e25e9f2-75c8-4c91-b1c6-8f19be0124ff",
      "metadata": {
        "id": "9e25e9f2-75c8-4c91-b1c6-8f19be0124ff"
      },
      "source": [
        "**Preparing statistics for actual salaries (y_valid):**"
      ]
    },
    {
      "cell_type": "code",
      "execution_count": 25,
      "id": "f1aef8ff-5bcf-4259-bcca-e98fd6d0bb8a",
      "metadata": {
        "id": "f1aef8ff-5bcf-4259-bcca-e98fd6d0bb8a"
      },
      "outputs": [],
      "source": [
        "# Create a DataFrame to store actual salaries (y_valid).\n",
        "df_actual_salaries = pd.DataFrame({'Actual Salaries': y_valid})"
      ]
    },
    {
      "cell_type": "code",
      "execution_count": 26,
      "id": "7250d8a8-607d-4ecf-9bb0-e92a5c3ccb1f",
      "metadata": {
        "id": "7250d8a8-607d-4ecf-9bb0-e92a5c3ccb1f"
      },
      "outputs": [],
      "source": [
        "# Create a dictionary to store describe() method statistics.\n",
        "actual_salaries_dict = {}\n",
        "for index, value in zip(df_actual_salaries.describe().index, df_actual_salaries.describe().values):\n",
        "    actual_salaries_dict[index] = value[0]"
      ]
    },
    {
      "cell_type": "code",
      "execution_count": 27,
      "id": "c75be6d3-9b8d-4bc9-a12d-bef99b3d0f4a",
      "metadata": {
        "id": "c75be6d3-9b8d-4bc9-a12d-bef99b3d0f4a"
      },
      "outputs": [],
      "source": [
        "# Append mode() statistics to dictionary.\n",
        "actual_salaries_dict['mode'] = df_actual_salaries.mode().iloc[0, 0]"
      ]
    },
    {
      "cell_type": "code",
      "execution_count": 28,
      "id": "638d45bd-01da-40c3-9f35-7df69e26167a",
      "metadata": {
        "colab": {
          "base_uri": "https://localhost:8080/",
          "height": 331
        },
        "id": "638d45bd-01da-40c3-9f35-7df69e26167a",
        "outputId": "cfa1b900-e445-4ea3-d4fa-312d05c0f25c"
      },
      "outputs": [
        {
          "data": {
            "application/vnd.google.colaboratory.intrinsic+json": {
              "summary": "{\n  \"name\": \"actual_salaries_statistics\",\n  \"rows\": 9,\n  \"fields\": [\n    {\n      \"column\": \"Statistics of the \\\"y_valid\\\"\",\n      \"properties\": {\n        \"dtype\": \"number\",\n        \"std\": 59015.39257964362,\n        \"min\": 5000.0,\n        \"max\": 200000.0,\n        \"num_unique_values\": 9,\n        \"samples\": [\n          200000.0,\n          34070.29753101551,\n          30000.0\n        ],\n        \"semantic_type\": \"\",\n        \"description\": \"\"\n      }\n    }\n  ]\n}",
              "type": "dataframe",
              "variable_name": "actual_salaries_statistics"
            },
            "text/html": [
              "\n",
              "  <div id=\"df-0d095acf-041b-4842-8b09-c3610534982a\" class=\"colab-df-container\">\n",
              "    <div>\n",
              "<style scoped>\n",
              "    .dataframe tbody tr th:only-of-type {\n",
              "        vertical-align: middle;\n",
              "    }\n",
              "\n",
              "    .dataframe tbody tr th {\n",
              "        vertical-align: top;\n",
              "    }\n",
              "\n",
              "    .dataframe thead th {\n",
              "        text-align: right;\n",
              "    }\n",
              "</style>\n",
              "<table border=\"1\" class=\"dataframe\">\n",
              "  <thead>\n",
              "    <tr style=\"text-align: right;\">\n",
              "      <th></th>\n",
              "      <th>Statistics of the \"y_valid\"</th>\n",
              "    </tr>\n",
              "  </thead>\n",
              "  <tbody>\n",
              "    <tr>\n",
              "      <th>count</th>\n",
              "      <td>73431.000000</td>\n",
              "    </tr>\n",
              "    <tr>\n",
              "      <th>mean</th>\n",
              "      <td>34070.297531</td>\n",
              "    </tr>\n",
              "    <tr>\n",
              "      <th>std</th>\n",
              "      <td>17589.390641</td>\n",
              "    </tr>\n",
              "    <tr>\n",
              "      <th>min</th>\n",
              "      <td>5000.000000</td>\n",
              "    </tr>\n",
              "    <tr>\n",
              "      <th>25%</th>\n",
              "      <td>21500.000000</td>\n",
              "    </tr>\n",
              "    <tr>\n",
              "      <th>50%</th>\n",
              "      <td>30000.000000</td>\n",
              "    </tr>\n",
              "    <tr>\n",
              "      <th>75%</th>\n",
              "      <td>42500.000000</td>\n",
              "    </tr>\n",
              "    <tr>\n",
              "      <th>max</th>\n",
              "      <td>200000.000000</td>\n",
              "    </tr>\n",
              "    <tr>\n",
              "      <th>mode</th>\n",
              "      <td>35000.000000</td>\n",
              "    </tr>\n",
              "  </tbody>\n",
              "</table>\n",
              "</div>\n",
              "    <div class=\"colab-df-buttons\">\n",
              "\n",
              "  <div class=\"colab-df-container\">\n",
              "    <button class=\"colab-df-convert\" onclick=\"convertToInteractive('df-0d095acf-041b-4842-8b09-c3610534982a')\"\n",
              "            title=\"Convert this dataframe to an interactive table.\"\n",
              "            style=\"display:none;\">\n",
              "\n",
              "  <svg xmlns=\"http://www.w3.org/2000/svg\" height=\"24px\" viewBox=\"0 -960 960 960\">\n",
              "    <path d=\"M120-120v-720h720v720H120Zm60-500h600v-160H180v160Zm220 220h160v-160H400v160Zm0 220h160v-160H400v160ZM180-400h160v-160H180v160Zm440 0h160v-160H620v160ZM180-180h160v-160H180v160Zm440 0h160v-160H620v160Z\"/>\n",
              "  </svg>\n",
              "    </button>\n",
              "\n",
              "  <style>\n",
              "    .colab-df-container {\n",
              "      display:flex;\n",
              "      gap: 12px;\n",
              "    }\n",
              "\n",
              "    .colab-df-convert {\n",
              "      background-color: #E8F0FE;\n",
              "      border: none;\n",
              "      border-radius: 50%;\n",
              "      cursor: pointer;\n",
              "      display: none;\n",
              "      fill: #1967D2;\n",
              "      height: 32px;\n",
              "      padding: 0 0 0 0;\n",
              "      width: 32px;\n",
              "    }\n",
              "\n",
              "    .colab-df-convert:hover {\n",
              "      background-color: #E2EBFA;\n",
              "      box-shadow: 0px 1px 2px rgba(60, 64, 67, 0.3), 0px 1px 3px 1px rgba(60, 64, 67, 0.15);\n",
              "      fill: #174EA6;\n",
              "    }\n",
              "\n",
              "    .colab-df-buttons div {\n",
              "      margin-bottom: 4px;\n",
              "    }\n",
              "\n",
              "    [theme=dark] .colab-df-convert {\n",
              "      background-color: #3B4455;\n",
              "      fill: #D2E3FC;\n",
              "    }\n",
              "\n",
              "    [theme=dark] .colab-df-convert:hover {\n",
              "      background-color: #434B5C;\n",
              "      box-shadow: 0px 1px 3px 1px rgba(0, 0, 0, 0.15);\n",
              "      filter: drop-shadow(0px 1px 2px rgba(0, 0, 0, 0.3));\n",
              "      fill: #FFFFFF;\n",
              "    }\n",
              "  </style>\n",
              "\n",
              "    <script>\n",
              "      const buttonEl =\n",
              "        document.querySelector('#df-0d095acf-041b-4842-8b09-c3610534982a button.colab-df-convert');\n",
              "      buttonEl.style.display =\n",
              "        google.colab.kernel.accessAllowed ? 'block' : 'none';\n",
              "\n",
              "      async function convertToInteractive(key) {\n",
              "        const element = document.querySelector('#df-0d095acf-041b-4842-8b09-c3610534982a');\n",
              "        const dataTable =\n",
              "          await google.colab.kernel.invokeFunction('convertToInteractive',\n",
              "                                                    [key], {});\n",
              "        if (!dataTable) return;\n",
              "\n",
              "        const docLinkHtml = 'Like what you see? Visit the ' +\n",
              "          '<a target=\"_blank\" href=https://colab.research.google.com/notebooks/data_table.ipynb>data table notebook</a>'\n",
              "          + ' to learn more about interactive tables.';\n",
              "        element.innerHTML = '';\n",
              "        dataTable['output_type'] = 'display_data';\n",
              "        await google.colab.output.renderOutput(dataTable, element);\n",
              "        const docLink = document.createElement('div');\n",
              "        docLink.innerHTML = docLinkHtml;\n",
              "        element.appendChild(docLink);\n",
              "      }\n",
              "    </script>\n",
              "  </div>\n",
              "\n",
              "\n",
              "<div id=\"df-c5b71e3a-48d0-4e27-b1d4-3731d6b78057\">\n",
              "  <button class=\"colab-df-quickchart\" onclick=\"quickchart('df-c5b71e3a-48d0-4e27-b1d4-3731d6b78057')\"\n",
              "            title=\"Suggest charts\"\n",
              "            style=\"display:none;\">\n",
              "\n",
              "<svg xmlns=\"http://www.w3.org/2000/svg\" height=\"24px\"viewBox=\"0 0 24 24\"\n",
              "     width=\"24px\">\n",
              "    <g>\n",
              "        <path d=\"M19 3H5c-1.1 0-2 .9-2 2v14c0 1.1.9 2 2 2h14c1.1 0 2-.9 2-2V5c0-1.1-.9-2-2-2zM9 17H7v-7h2v7zm4 0h-2V7h2v10zm4 0h-2v-4h2v4z\"/>\n",
              "    </g>\n",
              "</svg>\n",
              "  </button>\n",
              "\n",
              "<style>\n",
              "  .colab-df-quickchart {\n",
              "      --bg-color: #E8F0FE;\n",
              "      --fill-color: #1967D2;\n",
              "      --hover-bg-color: #E2EBFA;\n",
              "      --hover-fill-color: #174EA6;\n",
              "      --disabled-fill-color: #AAA;\n",
              "      --disabled-bg-color: #DDD;\n",
              "  }\n",
              "\n",
              "  [theme=dark] .colab-df-quickchart {\n",
              "      --bg-color: #3B4455;\n",
              "      --fill-color: #D2E3FC;\n",
              "      --hover-bg-color: #434B5C;\n",
              "      --hover-fill-color: #FFFFFF;\n",
              "      --disabled-bg-color: #3B4455;\n",
              "      --disabled-fill-color: #666;\n",
              "  }\n",
              "\n",
              "  .colab-df-quickchart {\n",
              "    background-color: var(--bg-color);\n",
              "    border: none;\n",
              "    border-radius: 50%;\n",
              "    cursor: pointer;\n",
              "    display: none;\n",
              "    fill: var(--fill-color);\n",
              "    height: 32px;\n",
              "    padding: 0;\n",
              "    width: 32px;\n",
              "  }\n",
              "\n",
              "  .colab-df-quickchart:hover {\n",
              "    background-color: var(--hover-bg-color);\n",
              "    box-shadow: 0 1px 2px rgba(60, 64, 67, 0.3), 0 1px 3px 1px rgba(60, 64, 67, 0.15);\n",
              "    fill: var(--button-hover-fill-color);\n",
              "  }\n",
              "\n",
              "  .colab-df-quickchart-complete:disabled,\n",
              "  .colab-df-quickchart-complete:disabled:hover {\n",
              "    background-color: var(--disabled-bg-color);\n",
              "    fill: var(--disabled-fill-color);\n",
              "    box-shadow: none;\n",
              "  }\n",
              "\n",
              "  .colab-df-spinner {\n",
              "    border: 2px solid var(--fill-color);\n",
              "    border-color: transparent;\n",
              "    border-bottom-color: var(--fill-color);\n",
              "    animation:\n",
              "      spin 1s steps(1) infinite;\n",
              "  }\n",
              "\n",
              "  @keyframes spin {\n",
              "    0% {\n",
              "      border-color: transparent;\n",
              "      border-bottom-color: var(--fill-color);\n",
              "      border-left-color: var(--fill-color);\n",
              "    }\n",
              "    20% {\n",
              "      border-color: transparent;\n",
              "      border-left-color: var(--fill-color);\n",
              "      border-top-color: var(--fill-color);\n",
              "    }\n",
              "    30% {\n",
              "      border-color: transparent;\n",
              "      border-left-color: var(--fill-color);\n",
              "      border-top-color: var(--fill-color);\n",
              "      border-right-color: var(--fill-color);\n",
              "    }\n",
              "    40% {\n",
              "      border-color: transparent;\n",
              "      border-right-color: var(--fill-color);\n",
              "      border-top-color: var(--fill-color);\n",
              "    }\n",
              "    60% {\n",
              "      border-color: transparent;\n",
              "      border-right-color: var(--fill-color);\n",
              "    }\n",
              "    80% {\n",
              "      border-color: transparent;\n",
              "      border-right-color: var(--fill-color);\n",
              "      border-bottom-color: var(--fill-color);\n",
              "    }\n",
              "    90% {\n",
              "      border-color: transparent;\n",
              "      border-bottom-color: var(--fill-color);\n",
              "    }\n",
              "  }\n",
              "</style>\n",
              "\n",
              "  <script>\n",
              "    async function quickchart(key) {\n",
              "      const quickchartButtonEl =\n",
              "        document.querySelector('#' + key + ' button');\n",
              "      quickchartButtonEl.disabled = true;  // To prevent multiple clicks.\n",
              "      quickchartButtonEl.classList.add('colab-df-spinner');\n",
              "      try {\n",
              "        const charts = await google.colab.kernel.invokeFunction(\n",
              "            'suggestCharts', [key], {});\n",
              "      } catch (error) {\n",
              "        console.error('Error during call to suggestCharts:', error);\n",
              "      }\n",
              "      quickchartButtonEl.classList.remove('colab-df-spinner');\n",
              "      quickchartButtonEl.classList.add('colab-df-quickchart-complete');\n",
              "    }\n",
              "    (() => {\n",
              "      let quickchartButtonEl =\n",
              "        document.querySelector('#df-c5b71e3a-48d0-4e27-b1d4-3731d6b78057 button');\n",
              "      quickchartButtonEl.style.display =\n",
              "        google.colab.kernel.accessAllowed ? 'block' : 'none';\n",
              "    })();\n",
              "  </script>\n",
              "</div>\n",
              "\n",
              "  <div id=\"id_70881077-1c8f-4944-a46a-69781f51721a\">\n",
              "    <style>\n",
              "      .colab-df-generate {\n",
              "        background-color: #E8F0FE;\n",
              "        border: none;\n",
              "        border-radius: 50%;\n",
              "        cursor: pointer;\n",
              "        display: none;\n",
              "        fill: #1967D2;\n",
              "        height: 32px;\n",
              "        padding: 0 0 0 0;\n",
              "        width: 32px;\n",
              "      }\n",
              "\n",
              "      .colab-df-generate:hover {\n",
              "        background-color: #E2EBFA;\n",
              "        box-shadow: 0px 1px 2px rgba(60, 64, 67, 0.3), 0px 1px 3px 1px rgba(60, 64, 67, 0.15);\n",
              "        fill: #174EA6;\n",
              "      }\n",
              "\n",
              "      [theme=dark] .colab-df-generate {\n",
              "        background-color: #3B4455;\n",
              "        fill: #D2E3FC;\n",
              "      }\n",
              "\n",
              "      [theme=dark] .colab-df-generate:hover {\n",
              "        background-color: #434B5C;\n",
              "        box-shadow: 0px 1px 3px 1px rgba(0, 0, 0, 0.15);\n",
              "        filter: drop-shadow(0px 1px 2px rgba(0, 0, 0, 0.3));\n",
              "        fill: #FFFFFF;\n",
              "      }\n",
              "    </style>\n",
              "    <button class=\"colab-df-generate\" onclick=\"generateWithVariable('actual_salaries_statistics')\"\n",
              "            title=\"Generate code using this dataframe.\"\n",
              "            style=\"display:none;\">\n",
              "\n",
              "  <svg xmlns=\"http://www.w3.org/2000/svg\" height=\"24px\"viewBox=\"0 0 24 24\"\n",
              "       width=\"24px\">\n",
              "    <path d=\"M7,19H8.4L18.45,9,17,7.55,7,17.6ZM5,21V16.75L18.45,3.32a2,2,0,0,1,2.83,0l1.4,1.43a1.91,1.91,0,0,1,.58,1.4,1.91,1.91,0,0,1-.58,1.4L9.25,21ZM18.45,9,17,7.55Zm-12,3A5.31,5.31,0,0,0,4.9,8.1,5.31,5.31,0,0,0,1,6.5,5.31,5.31,0,0,0,4.9,4.9,5.31,5.31,0,0,0,6.5,1,5.31,5.31,0,0,0,8.1,4.9,5.31,5.31,0,0,0,12,6.5,5.46,5.46,0,0,0,6.5,12Z\"/>\n",
              "  </svg>\n",
              "    </button>\n",
              "    <script>\n",
              "      (() => {\n",
              "      const buttonEl =\n",
              "        document.querySelector('#id_70881077-1c8f-4944-a46a-69781f51721a button.colab-df-generate');\n",
              "      buttonEl.style.display =\n",
              "        google.colab.kernel.accessAllowed ? 'block' : 'none';\n",
              "\n",
              "      buttonEl.onclick = () => {\n",
              "        google.colab.notebook.generateWithVariable('actual_salaries_statistics');\n",
              "      }\n",
              "      })();\n",
              "    </script>\n",
              "  </div>\n",
              "\n",
              "    </div>\n",
              "  </div>\n"
            ],
            "text/plain": [
              "       Statistics of the \"y_valid\"\n",
              "count                 73431.000000\n",
              "mean                  34070.297531\n",
              "std                   17589.390641\n",
              "min                    5000.000000\n",
              "25%                   21500.000000\n",
              "50%                   30000.000000\n",
              "75%                   42500.000000\n",
              "max                  200000.000000\n",
              "mode                  35000.000000"
            ]
          },
          "execution_count": 28,
          "metadata": {},
          "output_type": "execute_result"
        }
      ],
      "source": [
        "# Create a DataFrame to store statistics of the actual salaries (y_valid).\n",
        "actual_salaries_statistics = pd.DataFrame({'Statistics of the \"y_valid\"': actual_salaries_dict}, actual_salaries_dict.keys())\n",
        "actual_salaries_statistics"
      ]
    },
    {
      "cell_type": "markdown",
      "id": "11dd7693-1990-478b-9dfa-787abab0336c",
      "metadata": {
        "id": "11dd7693-1990-478b-9dfa-787abab0336c"
      },
      "source": [
        "**Create a diff_df to compare the values:**"
      ]
    },
    {
      "cell_type": "code",
      "execution_count": 29,
      "id": "14340900-9c72-4569-84d8-26e16d53f4ea",
      "metadata": {
        "id": "14340900-9c72-4569-84d8-26e16d53f4ea"
      },
      "outputs": [],
      "source": [
        "diff_df = pd.concat([salaries_predicted_statistics, actual_salaries_statistics], axis=1)"
      ]
    },
    {
      "cell_type": "code",
      "execution_count": 30,
      "id": "deb9c237-916a-4b92-b077-07708b72de8c",
      "metadata": {
        "colab": {
          "base_uri": "https://localhost:8080/",
          "height": 331
        },
        "id": "deb9c237-916a-4b92-b077-07708b72de8c",
        "outputId": "48b05f7d-8927-4115-951f-402573080038"
      },
      "outputs": [
        {
          "data": {
            "application/vnd.google.colaboratory.intrinsic+json": {
              "summary": "{\n  \"name\": \"diff_df\",\n  \"rows\": 9,\n  \"fields\": [\n    {\n      \"column\": \"Statistics of the \\\"Predicted Salaries\\\"\",\n      \"properties\": {\n        \"dtype\": \"number\",\n        \"std\": 41704.76726807,\n        \"min\": 538.3364897435313,\n        \"max\": 142030.6288325044,\n        \"num_unique_values\": 9,\n        \"samples\": [\n          142030.6288325044,\n          34133.79689260088,\n          32051.749540977453\n        ],\n        \"semantic_type\": \"\",\n        \"description\": \"\"\n      }\n    },\n    {\n      \"column\": \"Statistics of the \\\"y_valid\\\"\",\n      \"properties\": {\n        \"dtype\": \"number\",\n        \"std\": 59015.39257964362,\n        \"min\": 5000.0,\n        \"max\": 200000.0,\n        \"num_unique_values\": 9,\n        \"samples\": [\n          200000.0,\n          34070.29753101551,\n          30000.0\n        ],\n        \"semantic_type\": \"\",\n        \"description\": \"\"\n      }\n    }\n  ]\n}",
              "type": "dataframe",
              "variable_name": "diff_df"
            },
            "text/html": [
              "\n",
              "  <div id=\"df-01386f9c-77ad-4ff6-b27a-cba15a7257fb\" class=\"colab-df-container\">\n",
              "    <div>\n",
              "<style scoped>\n",
              "    .dataframe tbody tr th:only-of-type {\n",
              "        vertical-align: middle;\n",
              "    }\n",
              "\n",
              "    .dataframe tbody tr th {\n",
              "        vertical-align: top;\n",
              "    }\n",
              "\n",
              "    .dataframe thead th {\n",
              "        text-align: right;\n",
              "    }\n",
              "</style>\n",
              "<table border=\"1\" class=\"dataframe\">\n",
              "  <thead>\n",
              "    <tr style=\"text-align: right;\">\n",
              "      <th></th>\n",
              "      <th>Statistics of the \"Predicted Salaries\"</th>\n",
              "      <th>Statistics of the \"y_valid\"</th>\n",
              "    </tr>\n",
              "  </thead>\n",
              "  <tbody>\n",
              "    <tr>\n",
              "      <th>count</th>\n",
              "      <td>73431.000000</td>\n",
              "      <td>73431.000000</td>\n",
              "    </tr>\n",
              "    <tr>\n",
              "      <th>mean</th>\n",
              "      <td>34133.796893</td>\n",
              "      <td>34070.297531</td>\n",
              "    </tr>\n",
              "    <tr>\n",
              "      <th>std</th>\n",
              "      <td>14212.498298</td>\n",
              "      <td>17589.390641</td>\n",
              "    </tr>\n",
              "    <tr>\n",
              "      <th>min</th>\n",
              "      <td>538.336490</td>\n",
              "      <td>5000.000000</td>\n",
              "    </tr>\n",
              "    <tr>\n",
              "      <th>25%</th>\n",
              "      <td>23519.597509</td>\n",
              "      <td>21500.000000</td>\n",
              "    </tr>\n",
              "    <tr>\n",
              "      <th>50%</th>\n",
              "      <td>32051.749541</td>\n",
              "      <td>30000.000000</td>\n",
              "    </tr>\n",
              "    <tr>\n",
              "      <th>75%</th>\n",
              "      <td>42155.870355</td>\n",
              "      <td>42500.000000</td>\n",
              "    </tr>\n",
              "    <tr>\n",
              "      <th>max</th>\n",
              "      <td>142030.628833</td>\n",
              "      <td>200000.000000</td>\n",
              "    </tr>\n",
              "    <tr>\n",
              "      <th>mode</th>\n",
              "      <td>41641.180291</td>\n",
              "      <td>35000.000000</td>\n",
              "    </tr>\n",
              "  </tbody>\n",
              "</table>\n",
              "</div>\n",
              "    <div class=\"colab-df-buttons\">\n",
              "\n",
              "  <div class=\"colab-df-container\">\n",
              "    <button class=\"colab-df-convert\" onclick=\"convertToInteractive('df-01386f9c-77ad-4ff6-b27a-cba15a7257fb')\"\n",
              "            title=\"Convert this dataframe to an interactive table.\"\n",
              "            style=\"display:none;\">\n",
              "\n",
              "  <svg xmlns=\"http://www.w3.org/2000/svg\" height=\"24px\" viewBox=\"0 -960 960 960\">\n",
              "    <path d=\"M120-120v-720h720v720H120Zm60-500h600v-160H180v160Zm220 220h160v-160H400v160Zm0 220h160v-160H400v160ZM180-400h160v-160H180v160Zm440 0h160v-160H620v160ZM180-180h160v-160H180v160Zm440 0h160v-160H620v160Z\"/>\n",
              "  </svg>\n",
              "    </button>\n",
              "\n",
              "  <style>\n",
              "    .colab-df-container {\n",
              "      display:flex;\n",
              "      gap: 12px;\n",
              "    }\n",
              "\n",
              "    .colab-df-convert {\n",
              "      background-color: #E8F0FE;\n",
              "      border: none;\n",
              "      border-radius: 50%;\n",
              "      cursor: pointer;\n",
              "      display: none;\n",
              "      fill: #1967D2;\n",
              "      height: 32px;\n",
              "      padding: 0 0 0 0;\n",
              "      width: 32px;\n",
              "    }\n",
              "\n",
              "    .colab-df-convert:hover {\n",
              "      background-color: #E2EBFA;\n",
              "      box-shadow: 0px 1px 2px rgba(60, 64, 67, 0.3), 0px 1px 3px 1px rgba(60, 64, 67, 0.15);\n",
              "      fill: #174EA6;\n",
              "    }\n",
              "\n",
              "    .colab-df-buttons div {\n",
              "      margin-bottom: 4px;\n",
              "    }\n",
              "\n",
              "    [theme=dark] .colab-df-convert {\n",
              "      background-color: #3B4455;\n",
              "      fill: #D2E3FC;\n",
              "    }\n",
              "\n",
              "    [theme=dark] .colab-df-convert:hover {\n",
              "      background-color: #434B5C;\n",
              "      box-shadow: 0px 1px 3px 1px rgba(0, 0, 0, 0.15);\n",
              "      filter: drop-shadow(0px 1px 2px rgba(0, 0, 0, 0.3));\n",
              "      fill: #FFFFFF;\n",
              "    }\n",
              "  </style>\n",
              "\n",
              "    <script>\n",
              "      const buttonEl =\n",
              "        document.querySelector('#df-01386f9c-77ad-4ff6-b27a-cba15a7257fb button.colab-df-convert');\n",
              "      buttonEl.style.display =\n",
              "        google.colab.kernel.accessAllowed ? 'block' : 'none';\n",
              "\n",
              "      async function convertToInteractive(key) {\n",
              "        const element = document.querySelector('#df-01386f9c-77ad-4ff6-b27a-cba15a7257fb');\n",
              "        const dataTable =\n",
              "          await google.colab.kernel.invokeFunction('convertToInteractive',\n",
              "                                                    [key], {});\n",
              "        if (!dataTable) return;\n",
              "\n",
              "        const docLinkHtml = 'Like what you see? Visit the ' +\n",
              "          '<a target=\"_blank\" href=https://colab.research.google.com/notebooks/data_table.ipynb>data table notebook</a>'\n",
              "          + ' to learn more about interactive tables.';\n",
              "        element.innerHTML = '';\n",
              "        dataTable['output_type'] = 'display_data';\n",
              "        await google.colab.output.renderOutput(dataTable, element);\n",
              "        const docLink = document.createElement('div');\n",
              "        docLink.innerHTML = docLinkHtml;\n",
              "        element.appendChild(docLink);\n",
              "      }\n",
              "    </script>\n",
              "  </div>\n",
              "\n",
              "\n",
              "<div id=\"df-ffb681cd-cb68-4d76-90d9-5e490a998d37\">\n",
              "  <button class=\"colab-df-quickchart\" onclick=\"quickchart('df-ffb681cd-cb68-4d76-90d9-5e490a998d37')\"\n",
              "            title=\"Suggest charts\"\n",
              "            style=\"display:none;\">\n",
              "\n",
              "<svg xmlns=\"http://www.w3.org/2000/svg\" height=\"24px\"viewBox=\"0 0 24 24\"\n",
              "     width=\"24px\">\n",
              "    <g>\n",
              "        <path d=\"M19 3H5c-1.1 0-2 .9-2 2v14c0 1.1.9 2 2 2h14c1.1 0 2-.9 2-2V5c0-1.1-.9-2-2-2zM9 17H7v-7h2v7zm4 0h-2V7h2v10zm4 0h-2v-4h2v4z\"/>\n",
              "    </g>\n",
              "</svg>\n",
              "  </button>\n",
              "\n",
              "<style>\n",
              "  .colab-df-quickchart {\n",
              "      --bg-color: #E8F0FE;\n",
              "      --fill-color: #1967D2;\n",
              "      --hover-bg-color: #E2EBFA;\n",
              "      --hover-fill-color: #174EA6;\n",
              "      --disabled-fill-color: #AAA;\n",
              "      --disabled-bg-color: #DDD;\n",
              "  }\n",
              "\n",
              "  [theme=dark] .colab-df-quickchart {\n",
              "      --bg-color: #3B4455;\n",
              "      --fill-color: #D2E3FC;\n",
              "      --hover-bg-color: #434B5C;\n",
              "      --hover-fill-color: #FFFFFF;\n",
              "      --disabled-bg-color: #3B4455;\n",
              "      --disabled-fill-color: #666;\n",
              "  }\n",
              "\n",
              "  .colab-df-quickchart {\n",
              "    background-color: var(--bg-color);\n",
              "    border: none;\n",
              "    border-radius: 50%;\n",
              "    cursor: pointer;\n",
              "    display: none;\n",
              "    fill: var(--fill-color);\n",
              "    height: 32px;\n",
              "    padding: 0;\n",
              "    width: 32px;\n",
              "  }\n",
              "\n",
              "  .colab-df-quickchart:hover {\n",
              "    background-color: var(--hover-bg-color);\n",
              "    box-shadow: 0 1px 2px rgba(60, 64, 67, 0.3), 0 1px 3px 1px rgba(60, 64, 67, 0.15);\n",
              "    fill: var(--button-hover-fill-color);\n",
              "  }\n",
              "\n",
              "  .colab-df-quickchart-complete:disabled,\n",
              "  .colab-df-quickchart-complete:disabled:hover {\n",
              "    background-color: var(--disabled-bg-color);\n",
              "    fill: var(--disabled-fill-color);\n",
              "    box-shadow: none;\n",
              "  }\n",
              "\n",
              "  .colab-df-spinner {\n",
              "    border: 2px solid var(--fill-color);\n",
              "    border-color: transparent;\n",
              "    border-bottom-color: var(--fill-color);\n",
              "    animation:\n",
              "      spin 1s steps(1) infinite;\n",
              "  }\n",
              "\n",
              "  @keyframes spin {\n",
              "    0% {\n",
              "      border-color: transparent;\n",
              "      border-bottom-color: var(--fill-color);\n",
              "      border-left-color: var(--fill-color);\n",
              "    }\n",
              "    20% {\n",
              "      border-color: transparent;\n",
              "      border-left-color: var(--fill-color);\n",
              "      border-top-color: var(--fill-color);\n",
              "    }\n",
              "    30% {\n",
              "      border-color: transparent;\n",
              "      border-left-color: var(--fill-color);\n",
              "      border-top-color: var(--fill-color);\n",
              "      border-right-color: var(--fill-color);\n",
              "    }\n",
              "    40% {\n",
              "      border-color: transparent;\n",
              "      border-right-color: var(--fill-color);\n",
              "      border-top-color: var(--fill-color);\n",
              "    }\n",
              "    60% {\n",
              "      border-color: transparent;\n",
              "      border-right-color: var(--fill-color);\n",
              "    }\n",
              "    80% {\n",
              "      border-color: transparent;\n",
              "      border-right-color: var(--fill-color);\n",
              "      border-bottom-color: var(--fill-color);\n",
              "    }\n",
              "    90% {\n",
              "      border-color: transparent;\n",
              "      border-bottom-color: var(--fill-color);\n",
              "    }\n",
              "  }\n",
              "</style>\n",
              "\n",
              "  <script>\n",
              "    async function quickchart(key) {\n",
              "      const quickchartButtonEl =\n",
              "        document.querySelector('#' + key + ' button');\n",
              "      quickchartButtonEl.disabled = true;  // To prevent multiple clicks.\n",
              "      quickchartButtonEl.classList.add('colab-df-spinner');\n",
              "      try {\n",
              "        const charts = await google.colab.kernel.invokeFunction(\n",
              "            'suggestCharts', [key], {});\n",
              "      } catch (error) {\n",
              "        console.error('Error during call to suggestCharts:', error);\n",
              "      }\n",
              "      quickchartButtonEl.classList.remove('colab-df-spinner');\n",
              "      quickchartButtonEl.classList.add('colab-df-quickchart-complete');\n",
              "    }\n",
              "    (() => {\n",
              "      let quickchartButtonEl =\n",
              "        document.querySelector('#df-ffb681cd-cb68-4d76-90d9-5e490a998d37 button');\n",
              "      quickchartButtonEl.style.display =\n",
              "        google.colab.kernel.accessAllowed ? 'block' : 'none';\n",
              "    })();\n",
              "  </script>\n",
              "</div>\n",
              "\n",
              "  <div id=\"id_db8b0f46-dd5f-4271-8cb6-bf567c6d6cb9\">\n",
              "    <style>\n",
              "      .colab-df-generate {\n",
              "        background-color: #E8F0FE;\n",
              "        border: none;\n",
              "        border-radius: 50%;\n",
              "        cursor: pointer;\n",
              "        display: none;\n",
              "        fill: #1967D2;\n",
              "        height: 32px;\n",
              "        padding: 0 0 0 0;\n",
              "        width: 32px;\n",
              "      }\n",
              "\n",
              "      .colab-df-generate:hover {\n",
              "        background-color: #E2EBFA;\n",
              "        box-shadow: 0px 1px 2px rgba(60, 64, 67, 0.3), 0px 1px 3px 1px rgba(60, 64, 67, 0.15);\n",
              "        fill: #174EA6;\n",
              "      }\n",
              "\n",
              "      [theme=dark] .colab-df-generate {\n",
              "        background-color: #3B4455;\n",
              "        fill: #D2E3FC;\n",
              "      }\n",
              "\n",
              "      [theme=dark] .colab-df-generate:hover {\n",
              "        background-color: #434B5C;\n",
              "        box-shadow: 0px 1px 3px 1px rgba(0, 0, 0, 0.15);\n",
              "        filter: drop-shadow(0px 1px 2px rgba(0, 0, 0, 0.3));\n",
              "        fill: #FFFFFF;\n",
              "      }\n",
              "    </style>\n",
              "    <button class=\"colab-df-generate\" onclick=\"generateWithVariable('diff_df')\"\n",
              "            title=\"Generate code using this dataframe.\"\n",
              "            style=\"display:none;\">\n",
              "\n",
              "  <svg xmlns=\"http://www.w3.org/2000/svg\" height=\"24px\"viewBox=\"0 0 24 24\"\n",
              "       width=\"24px\">\n",
              "    <path d=\"M7,19H8.4L18.45,9,17,7.55,7,17.6ZM5,21V16.75L18.45,3.32a2,2,0,0,1,2.83,0l1.4,1.43a1.91,1.91,0,0,1,.58,1.4,1.91,1.91,0,0,1-.58,1.4L9.25,21ZM18.45,9,17,7.55Zm-12,3A5.31,5.31,0,0,0,4.9,8.1,5.31,5.31,0,0,0,1,6.5,5.31,5.31,0,0,0,4.9,4.9,5.31,5.31,0,0,0,6.5,1,5.31,5.31,0,0,0,8.1,4.9,5.31,5.31,0,0,0,12,6.5,5.46,5.46,0,0,0,6.5,12Z\"/>\n",
              "  </svg>\n",
              "    </button>\n",
              "    <script>\n",
              "      (() => {\n",
              "      const buttonEl =\n",
              "        document.querySelector('#id_db8b0f46-dd5f-4271-8cb6-bf567c6d6cb9 button.colab-df-generate');\n",
              "      buttonEl.style.display =\n",
              "        google.colab.kernel.accessAllowed ? 'block' : 'none';\n",
              "\n",
              "      buttonEl.onclick = () => {\n",
              "        google.colab.notebook.generateWithVariable('diff_df');\n",
              "      }\n",
              "      })();\n",
              "    </script>\n",
              "  </div>\n",
              "\n",
              "    </div>\n",
              "  </div>\n"
            ],
            "text/plain": [
              "       Statistics of the \"Predicted Salaries\"  Statistics of the \"y_valid\"\n",
              "count                            73431.000000                 73431.000000\n",
              "mean                             34133.796893                 34070.297531\n",
              "std                              14212.498298                 17589.390641\n",
              "min                                538.336490                  5000.000000\n",
              "25%                              23519.597509                 21500.000000\n",
              "50%                              32051.749541                 30000.000000\n",
              "75%                              42155.870355                 42500.000000\n",
              "max                             142030.628833                200000.000000\n",
              "mode                             41641.180291                 35000.000000"
            ]
          },
          "execution_count": 30,
          "metadata": {},
          "output_type": "execute_result"
        }
      ],
      "source": [
        "diff_df"
      ]
    },
    {
      "cell_type": "markdown",
      "id": "6adb5cea-8293-4692-8ee6-6620afe94df8",
      "metadata": {
        "id": "6adb5cea-8293-4692-8ee6-6620afe94df8"
      },
      "source": [
        "---"
      ]
    },
    {
      "cell_type": "markdown",
      "id": "3d2c5960-b184-4776-b2ed-44dfbf584a04",
      "metadata": {
        "id": "3d2c5960-b184-4776-b2ed-44dfbf584a04"
      },
      "source": [
        "## Evaluation the model\n",
        "\n",
        "> Finally, let's **Evaluation the model**.\n",
        "\n",
        "The **Evaluation Metric** is **[MAE](https://en.wikipedia.org/wiki/Mean_absolute_error)**."
      ]
    },
    {
      "cell_type": "code",
      "execution_count": 31,
      "id": "98f28cb6-374d-470e-a936-f61383d2fd75",
      "metadata": {
        "id": "98f28cb6-374d-470e-a936-f61383d2fd75"
      },
      "outputs": [],
      "source": [
        "from sklearn.metrics import mean_absolute_error"
      ]
    },
    {
      "cell_type": "code",
      "execution_count": 32,
      "id": "02fbb820-a80a-4ba1-8133-8f3e9688b831",
      "metadata": {
        "id": "02fbb820-a80a-4ba1-8133-8f3e9688b831"
      },
      "outputs": [],
      "source": [
        "mae = mean_absolute_error(y_valid, salaries_predicted)"
      ]
    },
    {
      "cell_type": "code",
      "execution_count": 33,
      "id": "46dc97f2-9db2-46b6-877e-20a3c7b71b07",
      "metadata": {
        "colab": {
          "base_uri": "https://localhost:8080/"
        },
        "id": "46dc97f2-9db2-46b6-877e-20a3c7b71b07",
        "outputId": "cd47d880-2699-453c-dbe7-7e8da2fcfc6d"
      },
      "outputs": [
        {
          "data": {
            "text/plain": [
              "6586.161901115121"
            ]
          },
          "execution_count": 33,
          "metadata": {},
          "output_type": "execute_result"
        }
      ],
      "source": [
        "mae"
      ]
    },
    {
      "cell_type": "markdown",
      "id": "beb31c19-7dda-4c61-a78d-d905d5db3192",
      "metadata": {
        "id": "beb31c19-7dda-4c61-a78d-d905d5db3192"
      },
      "source": [
        "---"
      ]
    },
    {
      "cell_type": "markdown",
      "id": "a22d7acd-161c-4054-90a4-6bc38d672f24",
      "metadata": {
        "id": "a22d7acd-161c-4054-90a4-6bc38d672f24"
      },
      "source": [
        "## Saving the model"
      ]
    },
    {
      "cell_type": "code",
      "execution_count": 34,
      "id": "42e6b427-73f1-4131-a1cd-e27d57a0698c",
      "metadata": {
        "id": "42e6b427-73f1-4131-a1cd-e27d57a0698c"
      },
      "outputs": [],
      "source": [
        "model.save_model(\"model-v1.cbm\")"
      ]
    },
    {
      "cell_type": "markdown",
      "id": "62bc6a34-a74d-4e9d-8b03-1be7de24a772",
      "metadata": {
        "id": "62bc6a34-a74d-4e9d-8b03-1be7de24a772"
      },
      "source": [
        "---"
      ]
    },
    {
      "cell_type": "markdown",
      "id": "621b2d78-beed-4851-a472-cde9d8b26f84",
      "metadata": {
        "id": "621b2d78-beed-4851-a472-cde9d8b26f84"
      },
      "source": [
        "# [v1] - Training & Evaluation (Resume)\n",
        "\n",
        " - **In this model, we use the features:**\n",
        "   - **Independent variable:**\n",
        "     - **Categorical Features:**\n",
        "       - LocationNormalized\n",
        "       - ContractType\n",
        "       - ContractTime\n",
        "       - Company\n",
        "       - Category\n",
        "       - SourceName\n",
        "     - **Text Features:**\n",
        "       - Title\n",
        "       - FullDescription\n",
        "   - **Dependent variable:**\n",
        "     - SalaryNormalized\n",
        " - **Preprocessing:**\n",
        "   - For the first training, I just trained the model without *preprocessing*.\n",
        "   - That is because this is the \"baseline (dummy, PoC, prototype)\".\n",
        " - **The result of Evaluation Metric (MAE) was:**\n",
        "   - 6.586"
      ]
    },
    {
      "cell_type": "markdown",
      "id": "eeb0a1eb-6983-429d-9e2f-67b629a27626",
      "metadata": {
        "id": "eeb0a1eb-6983-429d-9e2f-67b629a27626"
      },
      "source": [
        "---"
      ]
    },
    {
      "cell_type": "markdown",
      "id": "9a605544-ed81-4c28-bdd5-4c9806c3233f",
      "metadata": {
        "id": "9a605544-ed81-4c28-bdd5-4c9806c3233f"
      },
      "source": [
        "Ro**drigo** **L**eite da **S**ilva - **drigols**"
      ]
    }
  ],
  "metadata": {
    "colab": {
      "provenance": []
    },
    "kernelspec": {
      "display_name": "Python 3 (ipykernel)",
      "language": "python",
      "name": "python3"
    },
    "language_info": {
      "codemirror_mode": {
        "name": "ipython",
        "version": 3
      },
      "file_extension": ".py",
      "mimetype": "text/x-python",
      "name": "python",
      "nbconvert_exporter": "python",
      "pygments_lexer": "ipython3",
      "version": "3.10.12"
    }
  },
  "nbformat": 4,
  "nbformat_minor": 5
}
