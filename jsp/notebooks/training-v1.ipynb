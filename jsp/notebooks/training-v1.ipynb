{
 "cells": [
  {
   "cell_type": "markdown",
   "id": "b4c7659a-52bc-4953-862a-994f64223421",
   "metadata": {},
   "source": [
    "# [v1] - Training & Evaluation (baseline, dummy, PoC, prototype)\n",
    "\n",
    "> The notebook's goal is to Training & Evaluation Machine Learning model."
   ]
  },
  {
   "cell_type": "markdown",
   "id": "3b00930f-e566-41c9-b3d9-adf989d91777",
   "metadata": {},
   "source": [
    "---"
   ]
  },
  {
   "cell_type": "markdown",
   "id": "e9374470-9301-4a68-b3d4-9632e090dfeb",
   "metadata": {},
   "source": [
    "## Get Training and Testing datasets"
   ]
  },
  {
   "cell_type": "code",
   "execution_count": 1,
   "id": "d6bcba7d-fde3-45ae-bc5a-5884f495afdc",
   "metadata": {},
   "outputs": [],
   "source": [
    "import pandas as pd\n",
    "\n",
    "train_df = pd.read_csv(\"../datalake/landing/Train_rev1.csv\")\n",
    "test_df = pd.read_csv(\"../datalake/landing/Test_rev1.csv\")"
   ]
  },
  {
   "cell_type": "markdown",
   "id": "0ad505ea-4fd7-4c2e-869c-1f290bd4f27a",
   "metadata": {},
   "source": [
    "---"
   ]
  },
  {
   "cell_type": "markdown",
   "id": "dbcebba8-112d-4007-9d9b-012d61de056e",
   "metadata": {},
   "source": [
    "## Get Independent and Dependent (target) variables to training the model"
   ]
  },
  {
   "cell_type": "code",
   "execution_count": 2,
   "id": "612a8eba-1fb1-4a47-a6f7-148272140a6c",
   "metadata": {},
   "outputs": [
    {
     "data": {
      "text/html": [
       "<div>\n",
       "<style scoped>\n",
       "    .dataframe tbody tr th:only-of-type {\n",
       "        vertical-align: middle;\n",
       "    }\n",
       "\n",
       "    .dataframe tbody tr th {\n",
       "        vertical-align: top;\n",
       "    }\n",
       "\n",
       "    .dataframe thead th {\n",
       "        text-align: right;\n",
       "    }\n",
       "</style>\n",
       "<table border=\"1\" class=\"dataframe\">\n",
       "  <thead>\n",
       "    <tr style=\"text-align: right;\">\n",
       "      <th></th>\n",
       "      <th>ContractType</th>\n",
       "      <th>ContractTime</th>\n",
       "    </tr>\n",
       "  </thead>\n",
       "  <tbody>\n",
       "    <tr>\n",
       "      <th>0</th>\n",
       "      <td>0</td>\n",
       "      <td>permanent</td>\n",
       "    </tr>\n",
       "    <tr>\n",
       "      <th>1</th>\n",
       "      <td>0</td>\n",
       "      <td>permanent</td>\n",
       "    </tr>\n",
       "    <tr>\n",
       "      <th>2</th>\n",
       "      <td>0</td>\n",
       "      <td>permanent</td>\n",
       "    </tr>\n",
       "    <tr>\n",
       "      <th>3</th>\n",
       "      <td>0</td>\n",
       "      <td>permanent</td>\n",
       "    </tr>\n",
       "    <tr>\n",
       "      <th>4</th>\n",
       "      <td>0</td>\n",
       "      <td>permanent</td>\n",
       "    </tr>\n",
       "    <tr>\n",
       "      <th>...</th>\n",
       "      <td>...</td>\n",
       "      <td>...</td>\n",
       "    </tr>\n",
       "    <tr>\n",
       "      <th>244763</th>\n",
       "      <td>0</td>\n",
       "      <td>contract</td>\n",
       "    </tr>\n",
       "    <tr>\n",
       "      <th>244764</th>\n",
       "      <td>0</td>\n",
       "      <td>contract</td>\n",
       "    </tr>\n",
       "    <tr>\n",
       "      <th>244765</th>\n",
       "      <td>0</td>\n",
       "      <td>contract</td>\n",
       "    </tr>\n",
       "    <tr>\n",
       "      <th>244766</th>\n",
       "      <td>0</td>\n",
       "      <td>contract</td>\n",
       "    </tr>\n",
       "    <tr>\n",
       "      <th>244767</th>\n",
       "      <td>0</td>\n",
       "      <td>permanent</td>\n",
       "    </tr>\n",
       "  </tbody>\n",
       "</table>\n",
       "<p>244768 rows × 2 columns</p>\n",
       "</div>"
      ],
      "text/plain": [
       "       ContractType ContractTime\n",
       "0                 0    permanent\n",
       "1                 0    permanent\n",
       "2                 0    permanent\n",
       "3                 0    permanent\n",
       "4                 0    permanent\n",
       "...             ...          ...\n",
       "244763            0     contract\n",
       "244764            0     contract\n",
       "244765            0     contract\n",
       "244766            0     contract\n",
       "244767            0    permanent\n",
       "\n",
       "[244768 rows x 2 columns]"
      ]
     },
     "execution_count": 2,
     "metadata": {},
     "output_type": "execute_result"
    }
   ],
   "source": [
    "# Independent variables = ContractType + ContractTime.\n",
    "X = train_df.drop(columns=[\n",
    "    'Id',\n",
    "    'Title',\n",
    "    'FullDescription',\n",
    "    'LocationRaw',\n",
    "    'LocationNormalized',\n",
    "    'Company',\n",
    "    'Category',\n",
    "    'SalaryRaw',\n",
    "    'SalaryNormalized',\n",
    "    'SourceName'\n",
    "]).fillna(0)  # Fill missing data with zeros.\n",
    "X"
   ]
  },
  {
   "cell_type": "code",
   "execution_count": 3,
   "id": "dcfc6b0a-48e2-4125-b572-218438315b8d",
   "metadata": {},
   "outputs": [
    {
     "data": {
      "text/plain": [
       "0         25000\n",
       "1         30000\n",
       "2         30000\n",
       "3         27500\n",
       "4         25000\n",
       "          ...  \n",
       "244763    22800\n",
       "244764    22800\n",
       "244765    22800\n",
       "244766    22800\n",
       "244767    42500\n",
       "Name: SalaryNormalized, Length: 244768, dtype: int64"
      ]
     },
     "execution_count": 3,
     "metadata": {},
     "output_type": "execute_result"
    }
   ],
   "source": [
    "y = train_df[\"SalaryNormalized\"]\n",
    "y"
   ]
  },
  {
   "cell_type": "markdown",
   "id": "f181b382-9113-4c4b-b4d9-ade06f479247",
   "metadata": {},
   "source": [
    "---"
   ]
  },
  {
   "cell_type": "markdown",
   "id": "4c82ca97-2c3f-4a2c-947d-286e6621a6ec",
   "metadata": {},
   "source": [
    "## Split Training dataset \"training\" and \"validation\""
   ]
  },
  {
   "cell_type": "code",
   "execution_count": 4,
   "id": "afa6a5ef-f430-4417-8f91-e95c82942354",
   "metadata": {},
   "outputs": [],
   "source": [
    "from sklearn.model_selection import train_test_split\n",
    "\n",
    "X_train, X_valid, y_train, y_valid = train_test_split(\n",
    "    X,\n",
    "    y,\n",
    "    test_size=0.3,\n",
    "    random_state=42\n",
    ")"
   ]
  },
  {
   "cell_type": "markdown",
   "id": "c5dcdb93-ad3c-438c-9862-8bd0107e3111",
   "metadata": {},
   "source": [
    "---"
   ]
  },
  {
   "cell_type": "markdown",
   "id": "5730dc2b-64a4-4a17-9b12-09a7f3c848e2",
   "metadata": {},
   "source": [
    "## Training the model"
   ]
  },
  {
   "cell_type": "code",
   "execution_count": 5,
   "id": "71f58199-e148-4c18-8c04-02e4106504a8",
   "metadata": {},
   "outputs": [],
   "source": [
    "from catboost import Pool\n",
    "\n",
    "# Encapsulate training data.\n",
    "pool_train = Pool(\n",
    "    X_train,\n",
    "    y_train,\n",
    "    cat_features = ['ContractType', 'ContractTime'],\n",
    ")\n",
    "\n",
    "# Encapsulate validate data.\n",
    "pool_valid = Pool(\n",
    "    X_valid,\n",
    "    y_valid,\n",
    "    cat_features = ['ContractType', 'ContractTime'],\n",
    ")"
   ]
  },
  {
   "cell_type": "code",
   "execution_count": 6,
   "id": "84605023-0de9-48c3-a260-e0661f0c9b03",
   "metadata": {},
   "outputs": [
    {
     "data": {
      "text/plain": [
       "<catboost.core.CatBoostRegressor at 0x7f331d186a70>"
      ]
     },
     "execution_count": 6,
     "metadata": {},
     "output_type": "execute_result"
    }
   ],
   "source": [
    "from catboost import CatBoostRegressor\n",
    "\n",
    "model = CatBoostRegressor()\n",
    "\n",
    "model.fit(\n",
    "    pool_train,\n",
    "    eval_set=pool_valid,\n",
    "    silent=True,\n",
    ")"
   ]
  },
  {
   "cell_type": "markdown",
   "id": "ed8dd081-40cf-46b2-92a0-c5ee352c5960",
   "metadata": {},
   "source": [
    "---"
   ]
  },
  {
   "cell_type": "markdown",
   "id": "c4349ad4-d4a0-467d-a111-4b8eba1dcddc",
   "metadata": {},
   "source": [
    "## Making some predictions"
   ]
  },
  {
   "cell_type": "code",
   "execution_count": 7,
   "id": "87c26cf0-444e-411a-a316-5dbe2510b526",
   "metadata": {},
   "outputs": [],
   "source": [
    "# Predictions to validation data.\n",
    "salaries_predicted = model.predict(X_valid)"
   ]
  },
  {
   "cell_type": "code",
   "execution_count": 8,
   "id": "f631d8f3-ba2f-443b-965e-bb0bf75f1385",
   "metadata": {},
   "outputs": [
    {
     "data": {
      "text/plain": [
       "array([35356.20052772, 24519.87864313, 35898.96578245, ...,\n",
       "       35356.20052772, 18477.37896706, 35356.20052772])"
      ]
     },
     "execution_count": 8,
     "metadata": {},
     "output_type": "execute_result"
    }
   ],
   "source": [
    "salaries_predicted"
   ]
  },
  {
   "cell_type": "code",
   "execution_count": 9,
   "id": "d50317a5-9a8a-4cf1-94c7-ce0253757e94",
   "metadata": {},
   "outputs": [
    {
     "data": {
      "text/plain": [
       "(73431,)"
      ]
     },
     "execution_count": 9,
     "metadata": {},
     "output_type": "execute_result"
    }
   ],
   "source": [
    "salaries_predicted.shape"
   ]
  },
  {
   "cell_type": "markdown",
   "id": "83755121-73e1-425d-9a11-ec6f52a813bf",
   "metadata": {},
   "source": [
    "---"
   ]
  },
  {
   "cell_type": "markdown",
   "id": "e706e275-963f-4970-bbb2-d00c2f4b3cd7",
   "metadata": {},
   "source": [
    "## Comparing \"predicted salaries\" with actual salaries (y_valid)"
   ]
  },
  {
   "cell_type": "markdown",
   "id": "ce1851a5-589e-4983-95cb-57af8697bfbf",
   "metadata": {},
   "source": [
    "**Preparing statistics for predicted salaries:**  \n",
    "I had problems adding the mode() statistic at the end of the DataFrame. So I had to take a manual approach with dictionaries."
   ]
  },
  {
   "cell_type": "code",
   "execution_count": 10,
   "id": "afe47718-fe21-42ff-bb55-5b2873c0cf4e",
   "metadata": {},
   "outputs": [],
   "source": [
    "# Create a DataFrame to store salaries predicted.\n",
    "df_salaries_predicted = pd.DataFrame({'Salary Predicted': salaries_predicted})"
   ]
  },
  {
   "cell_type": "code",
   "execution_count": 11,
   "id": "80869799-ef88-4fdc-9444-8d6bbf907f7b",
   "metadata": {},
   "outputs": [],
   "source": [
    "# Create a dictionary to store describe() method statistics.\n",
    "predicted_dict = {}\n",
    "for index, value in zip(df_salaries_predicted.describe().index, df_salaries_predicted.describe().values):\n",
    "    predicted_dict[index] = value[0]"
   ]
  },
  {
   "cell_type": "code",
   "execution_count": 12,
   "id": "3bdedd0f-c057-4152-8837-099c7641b7f6",
   "metadata": {},
   "outputs": [],
   "source": [
    "# Append mode() statistics to dictionary.\n",
    "predicted_dict['mode'] = df_salaries_predicted.mode().iloc[0, 0]"
   ]
  },
  {
   "cell_type": "code",
   "execution_count": 13,
   "id": "8ef59ce7-00fb-4207-8730-296f046dd649",
   "metadata": {},
   "outputs": [
    {
     "data": {
      "text/html": [
       "<div>\n",
       "<style scoped>\n",
       "    .dataframe tbody tr th:only-of-type {\n",
       "        vertical-align: middle;\n",
       "    }\n",
       "\n",
       "    .dataframe tbody tr th {\n",
       "        vertical-align: top;\n",
       "    }\n",
       "\n",
       "    .dataframe thead th {\n",
       "        text-align: right;\n",
       "    }\n",
       "</style>\n",
       "<table border=\"1\" class=\"dataframe\">\n",
       "  <thead>\n",
       "    <tr style=\"text-align: right;\">\n",
       "      <th></th>\n",
       "      <th>Statistics of Predicted Salaries</th>\n",
       "    </tr>\n",
       "  </thead>\n",
       "  <tbody>\n",
       "    <tr>\n",
       "      <th>count</th>\n",
       "      <td>73431.000000</td>\n",
       "    </tr>\n",
       "    <tr>\n",
       "      <th>mean</th>\n",
       "      <td>34160.545258</td>\n",
       "    </tr>\n",
       "    <tr>\n",
       "      <th>std</th>\n",
       "      <td>4154.619585</td>\n",
       "    </tr>\n",
       "    <tr>\n",
       "      <th>min</th>\n",
       "      <td>18477.378967</td>\n",
       "    </tr>\n",
       "    <tr>\n",
       "      <th>25%</th>\n",
       "      <td>35356.200528</td>\n",
       "    </tr>\n",
       "    <tr>\n",
       "      <th>50%</th>\n",
       "      <td>35356.200528</td>\n",
       "    </tr>\n",
       "    <tr>\n",
       "      <th>75%</th>\n",
       "      <td>35767.796688</td>\n",
       "    </tr>\n",
       "    <tr>\n",
       "      <th>max</th>\n",
       "      <td>36596.411695</td>\n",
       "    </tr>\n",
       "    <tr>\n",
       "      <th>mode</th>\n",
       "      <td>35356.200528</td>\n",
       "    </tr>\n",
       "  </tbody>\n",
       "</table>\n",
       "</div>"
      ],
      "text/plain": [
       "       Statistics of Predicted Salaries\n",
       "count                      73431.000000\n",
       "mean                       34160.545258\n",
       "std                         4154.619585\n",
       "min                        18477.378967\n",
       "25%                        35356.200528\n",
       "50%                        35356.200528\n",
       "75%                        35767.796688\n",
       "max                        36596.411695\n",
       "mode                       35356.200528"
      ]
     },
     "execution_count": 13,
     "metadata": {},
     "output_type": "execute_result"
    }
   ],
   "source": [
    "# Create a DataFrame to store statistics of the predicted salaries.\n",
    "salaries_predicted_statistics = pd.DataFrame({'Statistics of Predicted Salaries': predicted_dict}, predicted_dict.keys())\n",
    "salaries_predicted_statistics"
   ]
  },
  {
   "cell_type": "markdown",
   "id": "9e25e9f2-75c8-4c91-b1c6-8f19be0124ff",
   "metadata": {},
   "source": [
    "**Preparing statistics for actual salaries (y_valid):**"
   ]
  },
  {
   "cell_type": "code",
   "execution_count": 14,
   "id": "f1aef8ff-5bcf-4259-bcca-e98fd6d0bb8a",
   "metadata": {},
   "outputs": [],
   "source": [
    "# Create a DataFrame to store actual salaries (y_valid).\n",
    "df_actual_salaries = pd.DataFrame({'Actual Salaries': y_valid})"
   ]
  },
  {
   "cell_type": "code",
   "execution_count": 15,
   "id": "7250d8a8-607d-4ecf-9bb0-e92a5c3ccb1f",
   "metadata": {},
   "outputs": [],
   "source": [
    "# Create a dictionary to store describe() method statistics.\n",
    "actual_salaries_dict = {}\n",
    "for index, value in zip(df_actual_salaries.describe().index, df_actual_salaries.describe().values):\n",
    "    actual_salaries_dict[index] = value[0]"
   ]
  },
  {
   "cell_type": "code",
   "execution_count": 16,
   "id": "c75be6d3-9b8d-4bc9-a12d-bef99b3d0f4a",
   "metadata": {},
   "outputs": [],
   "source": [
    "# Append mode() statistics to dictionary.\n",
    "actual_salaries_dict['mode'] = df_actual_salaries.mode().iloc[0, 0]"
   ]
  },
  {
   "cell_type": "code",
   "execution_count": 17,
   "id": "638d45bd-01da-40c3-9f35-7df69e26167a",
   "metadata": {},
   "outputs": [
    {
     "data": {
      "text/html": [
       "<div>\n",
       "<style scoped>\n",
       "    .dataframe tbody tr th:only-of-type {\n",
       "        vertical-align: middle;\n",
       "    }\n",
       "\n",
       "    .dataframe tbody tr th {\n",
       "        vertical-align: top;\n",
       "    }\n",
       "\n",
       "    .dataframe thead th {\n",
       "        text-align: right;\n",
       "    }\n",
       "</style>\n",
       "<table border=\"1\" class=\"dataframe\">\n",
       "  <thead>\n",
       "    <tr style=\"text-align: right;\">\n",
       "      <th></th>\n",
       "      <th>Statistics of  Actual Salaries (y_valid)</th>\n",
       "    </tr>\n",
       "  </thead>\n",
       "  <tbody>\n",
       "    <tr>\n",
       "      <th>count</th>\n",
       "      <td>73431.000000</td>\n",
       "    </tr>\n",
       "    <tr>\n",
       "      <th>mean</th>\n",
       "      <td>34070.297531</td>\n",
       "    </tr>\n",
       "    <tr>\n",
       "      <th>std</th>\n",
       "      <td>17589.390641</td>\n",
       "    </tr>\n",
       "    <tr>\n",
       "      <th>min</th>\n",
       "      <td>5000.000000</td>\n",
       "    </tr>\n",
       "    <tr>\n",
       "      <th>25%</th>\n",
       "      <td>21500.000000</td>\n",
       "    </tr>\n",
       "    <tr>\n",
       "      <th>50%</th>\n",
       "      <td>30000.000000</td>\n",
       "    </tr>\n",
       "    <tr>\n",
       "      <th>75%</th>\n",
       "      <td>42500.000000</td>\n",
       "    </tr>\n",
       "    <tr>\n",
       "      <th>max</th>\n",
       "      <td>200000.000000</td>\n",
       "    </tr>\n",
       "    <tr>\n",
       "      <th>mode</th>\n",
       "      <td>35000.000000</td>\n",
       "    </tr>\n",
       "  </tbody>\n",
       "</table>\n",
       "</div>"
      ],
      "text/plain": [
       "       Statistics of  Actual Salaries (y_valid)\n",
       "count                              73431.000000\n",
       "mean                               34070.297531\n",
       "std                                17589.390641\n",
       "min                                 5000.000000\n",
       "25%                                21500.000000\n",
       "50%                                30000.000000\n",
       "75%                                42500.000000\n",
       "max                               200000.000000\n",
       "mode                               35000.000000"
      ]
     },
     "execution_count": 17,
     "metadata": {},
     "output_type": "execute_result"
    }
   ],
   "source": [
    "# Create a DataFrame to store statistics of the actual salaries (y_valid).\n",
    "actual_salaries_statistics = pd.DataFrame({'Statistics of  Actual Salaries (y_valid)': actual_salaries_dict}, actual_salaries_dict.keys())\n",
    "actual_salaries_statistics"
   ]
  },
  {
   "cell_type": "markdown",
   "id": "11dd7693-1990-478b-9dfa-787abab0336c",
   "metadata": {},
   "source": [
    "**Create a diff_df to compare the values:**"
   ]
  },
  {
   "cell_type": "code",
   "execution_count": 18,
   "id": "14340900-9c72-4569-84d8-26e16d53f4ea",
   "metadata": {},
   "outputs": [],
   "source": [
    "diff_df = pd.concat([salaries_predicted_statistics, actual_salaries_statistics], axis=1)"
   ]
  },
  {
   "cell_type": "code",
   "execution_count": 19,
   "id": "deb9c237-916a-4b92-b077-07708b72de8c",
   "metadata": {},
   "outputs": [
    {
     "data": {
      "text/html": [
       "<div>\n",
       "<style scoped>\n",
       "    .dataframe tbody tr th:only-of-type {\n",
       "        vertical-align: middle;\n",
       "    }\n",
       "\n",
       "    .dataframe tbody tr th {\n",
       "        vertical-align: top;\n",
       "    }\n",
       "\n",
       "    .dataframe thead th {\n",
       "        text-align: right;\n",
       "    }\n",
       "</style>\n",
       "<table border=\"1\" class=\"dataframe\">\n",
       "  <thead>\n",
       "    <tr style=\"text-align: right;\">\n",
       "      <th></th>\n",
       "      <th>Statistics of Predicted Salaries</th>\n",
       "      <th>Statistics of  Actual Salaries (y_valid)</th>\n",
       "    </tr>\n",
       "  </thead>\n",
       "  <tbody>\n",
       "    <tr>\n",
       "      <th>count</th>\n",
       "      <td>73431.000000</td>\n",
       "      <td>73431.000000</td>\n",
       "    </tr>\n",
       "    <tr>\n",
       "      <th>mean</th>\n",
       "      <td>34160.545258</td>\n",
       "      <td>34070.297531</td>\n",
       "    </tr>\n",
       "    <tr>\n",
       "      <th>std</th>\n",
       "      <td>4154.619585</td>\n",
       "      <td>17589.390641</td>\n",
       "    </tr>\n",
       "    <tr>\n",
       "      <th>min</th>\n",
       "      <td>18477.378967</td>\n",
       "      <td>5000.000000</td>\n",
       "    </tr>\n",
       "    <tr>\n",
       "      <th>25%</th>\n",
       "      <td>35356.200528</td>\n",
       "      <td>21500.000000</td>\n",
       "    </tr>\n",
       "    <tr>\n",
       "      <th>50%</th>\n",
       "      <td>35356.200528</td>\n",
       "      <td>30000.000000</td>\n",
       "    </tr>\n",
       "    <tr>\n",
       "      <th>75%</th>\n",
       "      <td>35767.796688</td>\n",
       "      <td>42500.000000</td>\n",
       "    </tr>\n",
       "    <tr>\n",
       "      <th>max</th>\n",
       "      <td>36596.411695</td>\n",
       "      <td>200000.000000</td>\n",
       "    </tr>\n",
       "    <tr>\n",
       "      <th>mode</th>\n",
       "      <td>35356.200528</td>\n",
       "      <td>35000.000000</td>\n",
       "    </tr>\n",
       "  </tbody>\n",
       "</table>\n",
       "</div>"
      ],
      "text/plain": [
       "       Statistics of Predicted Salaries  \\\n",
       "count                      73431.000000   \n",
       "mean                       34160.545258   \n",
       "std                         4154.619585   \n",
       "min                        18477.378967   \n",
       "25%                        35356.200528   \n",
       "50%                        35356.200528   \n",
       "75%                        35767.796688   \n",
       "max                        36596.411695   \n",
       "mode                       35356.200528   \n",
       "\n",
       "       Statistics of  Actual Salaries (y_valid)  \n",
       "count                              73431.000000  \n",
       "mean                               34070.297531  \n",
       "std                                17589.390641  \n",
       "min                                 5000.000000  \n",
       "25%                                21500.000000  \n",
       "50%                                30000.000000  \n",
       "75%                                42500.000000  \n",
       "max                               200000.000000  \n",
       "mode                               35000.000000  "
      ]
     },
     "execution_count": 19,
     "metadata": {},
     "output_type": "execute_result"
    }
   ],
   "source": [
    "diff_df"
   ]
  },
  {
   "cell_type": "markdown",
   "id": "6adb5cea-8293-4692-8ee6-6620afe94df8",
   "metadata": {},
   "source": [
    "---"
   ]
  },
  {
   "cell_type": "markdown",
   "id": "3d2c5960-b184-4776-b2ed-44dfbf584a04",
   "metadata": {},
   "source": [
    "## Evaluation the model\n",
    "\n",
    "> Finally, let's **Evaluation the model**.\n",
    "\n",
    "The **Evaluation Metric** is **[MAE](https://en.wikipedia.org/wiki/Mean_absolute_error)**."
   ]
  },
  {
   "cell_type": "code",
   "execution_count": 20,
   "id": "98f28cb6-374d-470e-a936-f61383d2fd75",
   "metadata": {},
   "outputs": [],
   "source": [
    "from sklearn.metrics import mean_absolute_error"
   ]
  },
  {
   "cell_type": "code",
   "execution_count": 21,
   "id": "02fbb820-a80a-4ba1-8133-8f3e9688b831",
   "metadata": {},
   "outputs": [],
   "source": [
    "mae = mean_absolute_error(y_valid, salaries_predicted)"
   ]
  },
  {
   "cell_type": "code",
   "execution_count": 22,
   "id": "46dc97f2-9db2-46b6-877e-20a3c7b71b07",
   "metadata": {},
   "outputs": [
    {
     "data": {
      "text/plain": [
       "12877.813536658401"
      ]
     },
     "execution_count": 22,
     "metadata": {},
     "output_type": "execute_result"
    }
   ],
   "source": [
    "mae"
   ]
  },
  {
   "cell_type": "markdown",
   "id": "beb31c19-7dda-4c61-a78d-d905d5db3192",
   "metadata": {},
   "source": [
    "---"
   ]
  },
  {
   "cell_type": "markdown",
   "id": "a22d7acd-161c-4054-90a4-6bc38d672f24",
   "metadata": {},
   "source": [
    "## Saving the model"
   ]
  },
  {
   "cell_type": "code",
   "execution_count": 23,
   "id": "42e6b427-73f1-4131-a1cd-e27d57a0698c",
   "metadata": {},
   "outputs": [],
   "source": [
    "model.save_model(\"../datalake/curated/model-v1.cbm\")"
   ]
  },
  {
   "cell_type": "markdown",
   "id": "62bc6a34-a74d-4e9d-8b03-1be7de24a772",
   "metadata": {},
   "source": [
    "---"
   ]
  },
  {
   "cell_type": "markdown",
   "id": "621b2d78-beed-4851-a472-cde9d8b26f84",
   "metadata": {},
   "source": [
    "# [v1] - Training & Evaluation (Resume)\n",
    "\n",
    " - **In this model, we use the features:**\n",
    "   - **Independent variables:**\n",
    "     - ContractType\n",
    "     - ContractTime\n",
    "   - **Dependent variables:**\n",
    "     - SalaryNormalized\n",
    " - **Preprocessing:**\n",
    "   - We only apply \"fillna = 0\" to missing data.\n",
    "     - ContractType had 73% missing data.\n",
    "     - ContractTime had 26% missing data.\n",
    "   - **NOTE:**\n",
    "     - We have many missing data, but the focus for now is creating a baseline model (baseline, dummy, PoC, prototype).\n",
    "     - That's, creates a more simple model possible.\n",
    " - **Comparison between predicted data and validation data (y_valid):**\n",
    "   - **Mean:**\n",
    "     - Salary predicted: 34.160\n",
    "     - y_valid: 34.070\n",
    "   - **Standard Deviation (std):**\n",
    "     - Salary predicted: 4.154\n",
    "     - y_valid: 17.589\n",
    "   - **Min value:**\n",
    "     - Salary predicted: 18.477\n",
    "     - y_valid: 5.000\n",
    "   - **25% = Lower quartile, or first quartile (Q1):**\n",
    "     - Salary predicted: 35.356\n",
    "     - y_valid: 21.500\n",
    "   - **50% = Second quartile (Q2, or the Median):**\n",
    "     - Salary predicted: 35.356\n",
    "     - y_valid: 30.000\n",
    "   - **75% = The upper quartile, or third quartile (Q3):**\n",
    "     - Salary predicted: 35.767\n",
    "     - y_valid: 42.500\n",
    "   - **Max value:**\n",
    "     - Salary predicted: 36.596\n",
    "     - y_valid: 200.000\n",
    "   - **Mode:**\n",
    "     - Salary predicted: 35.356\n",
    "     - y_valid: 35.000\n",
    " - **The result of Evaluation Metric (MAE) was:**\n",
    "   - 12877.813536658401.1"
   ]
  },
  {
   "cell_type": "markdown",
   "id": "eeb0a1eb-6983-429d-9e2f-67b629a27626",
   "metadata": {},
   "source": [
    "---"
   ]
  },
  {
   "cell_type": "markdown",
   "id": "9a605544-ed81-4c28-bdd5-4c9806c3233f",
   "metadata": {},
   "source": [
    "Ro**drigo** **L**eite da **S**ilva - **drigols**"
   ]
  }
 ],
 "metadata": {
  "kernelspec": {
   "display_name": "Python 3 (ipykernel)",
   "language": "python",
   "name": "python3"
  },
  "language_info": {
   "codemirror_mode": {
    "name": "ipython",
    "version": 3
   },
   "file_extension": ".py",
   "mimetype": "text/x-python",
   "name": "python",
   "nbconvert_exporter": "python",
   "pygments_lexer": "ipython3",
   "version": "3.10.12"
  }
 },
 "nbformat": 4,
 "nbformat_minor": 5
}
