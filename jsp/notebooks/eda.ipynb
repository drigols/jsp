{
 "cells": [
  {
   "cell_type": "markdown",
   "id": "f4acf7cf-3e4e-40f4-ba45-f5f735afbbc4",
   "metadata": {},
   "source": [
    "# [v1] - Exploratory Data Analysis/EDA (Data understanding)\n",
    "\n",
    "> The notebook goal is to create a general *Exploratory Data Analysis (EDA)* on all Dataset features.\n",
    "\n",
    "However, no preprocessing or modeling will be created here. Just:\n",
    "\n",
    " - Analysis.\n",
    " - Hypothesis.\n",
    " - Observations."
   ]
  },
  {
   "cell_type": "markdown",
   "id": "973b5093-1fb9-412b-b443-1080c88e91a6",
   "metadata": {},
   "source": [
    "---"
   ]
  },
  {
   "cell_type": "markdown",
   "id": "44afed48-43e4-4917-bdd9-95bb42367628",
   "metadata": {},
   "source": [
    "## Dataset Overview"
   ]
  },
  {
   "cell_type": "code",
   "execution_count": 1,
   "id": "bb4880c3-2ce3-46e9-8eda-910158bae0c0",
   "metadata": {},
   "outputs": [],
   "source": [
    "import pandas as pd\n",
    "\n",
    "# For Linux users.\n",
    "train_df = pd.read_csv(\"../datalake/landing/Train_rev1.csv\")"
   ]
  },
  {
   "cell_type": "code",
   "execution_count": 2,
   "id": "15dcd283-f86b-43aa-81c7-91b52181f566",
   "metadata": {},
   "outputs": [
    {
     "data": {
      "text/html": [
       "<div>\n",
       "<style scoped>\n",
       "    .dataframe tbody tr th:only-of-type {\n",
       "        vertical-align: middle;\n",
       "    }\n",
       "\n",
       "    .dataframe tbody tr th {\n",
       "        vertical-align: top;\n",
       "    }\n",
       "\n",
       "    .dataframe thead th {\n",
       "        text-align: right;\n",
       "    }\n",
       "</style>\n",
       "<table border=\"1\" class=\"dataframe\">\n",
       "  <thead>\n",
       "    <tr style=\"text-align: right;\">\n",
       "      <th></th>\n",
       "      <th>Id</th>\n",
       "      <th>Title</th>\n",
       "      <th>FullDescription</th>\n",
       "      <th>LocationRaw</th>\n",
       "      <th>LocationNormalized</th>\n",
       "      <th>ContractType</th>\n",
       "      <th>ContractTime</th>\n",
       "      <th>Company</th>\n",
       "      <th>Category</th>\n",
       "      <th>SalaryRaw</th>\n",
       "      <th>SalaryNormalized</th>\n",
       "      <th>SourceName</th>\n",
       "    </tr>\n",
       "  </thead>\n",
       "  <tbody>\n",
       "    <tr>\n",
       "      <th>0</th>\n",
       "      <td>12612628</td>\n",
       "      <td>Engineering Systems Analyst</td>\n",
       "      <td>Engineering Systems Analyst Dorking Surrey Sal...</td>\n",
       "      <td>Dorking, Surrey, Surrey</td>\n",
       "      <td>Dorking</td>\n",
       "      <td>NaN</td>\n",
       "      <td>permanent</td>\n",
       "      <td>Gregory Martin International</td>\n",
       "      <td>Engineering Jobs</td>\n",
       "      <td>20000 - 30000/annum 20-30K</td>\n",
       "      <td>25000</td>\n",
       "      <td>cv-library.co.uk</td>\n",
       "    </tr>\n",
       "    <tr>\n",
       "      <th>1</th>\n",
       "      <td>12612830</td>\n",
       "      <td>Stress Engineer Glasgow</td>\n",
       "      <td>Stress Engineer Glasgow Salary **** to **** We...</td>\n",
       "      <td>Glasgow, Scotland, Scotland</td>\n",
       "      <td>Glasgow</td>\n",
       "      <td>NaN</td>\n",
       "      <td>permanent</td>\n",
       "      <td>Gregory Martin International</td>\n",
       "      <td>Engineering Jobs</td>\n",
       "      <td>25000 - 35000/annum 25-35K</td>\n",
       "      <td>30000</td>\n",
       "      <td>cv-library.co.uk</td>\n",
       "    </tr>\n",
       "    <tr>\n",
       "      <th>2</th>\n",
       "      <td>12612844</td>\n",
       "      <td>Modelling and simulation analyst</td>\n",
       "      <td>Mathematical Modeller / Simulation Analyst / O...</td>\n",
       "      <td>Hampshire, South East, South East</td>\n",
       "      <td>Hampshire</td>\n",
       "      <td>NaN</td>\n",
       "      <td>permanent</td>\n",
       "      <td>Gregory Martin International</td>\n",
       "      <td>Engineering Jobs</td>\n",
       "      <td>20000 - 40000/annum 20-40K</td>\n",
       "      <td>30000</td>\n",
       "      <td>cv-library.co.uk</td>\n",
       "    </tr>\n",
       "    <tr>\n",
       "      <th>3</th>\n",
       "      <td>12613049</td>\n",
       "      <td>Engineering Systems Analyst / Mathematical Mod...</td>\n",
       "      <td>Engineering Systems Analyst / Mathematical Mod...</td>\n",
       "      <td>Surrey, South East, South East</td>\n",
       "      <td>Surrey</td>\n",
       "      <td>NaN</td>\n",
       "      <td>permanent</td>\n",
       "      <td>Gregory Martin International</td>\n",
       "      <td>Engineering Jobs</td>\n",
       "      <td>25000 - 30000/annum 25K-30K negotiable</td>\n",
       "      <td>27500</td>\n",
       "      <td>cv-library.co.uk</td>\n",
       "    </tr>\n",
       "    <tr>\n",
       "      <th>4</th>\n",
       "      <td>12613647</td>\n",
       "      <td>Pioneer, Miser Engineering Systems Analyst</td>\n",
       "      <td>Pioneer, Miser  Engineering Systems Analyst Do...</td>\n",
       "      <td>Surrey, South East, South East</td>\n",
       "      <td>Surrey</td>\n",
       "      <td>NaN</td>\n",
       "      <td>permanent</td>\n",
       "      <td>Gregory Martin International</td>\n",
       "      <td>Engineering Jobs</td>\n",
       "      <td>20000 - 30000/annum 20-30K</td>\n",
       "      <td>25000</td>\n",
       "      <td>cv-library.co.uk</td>\n",
       "    </tr>\n",
       "  </tbody>\n",
       "</table>\n",
       "</div>"
      ],
      "text/plain": [
       "         Id                                              Title  \\\n",
       "0  12612628                        Engineering Systems Analyst   \n",
       "1  12612830                            Stress Engineer Glasgow   \n",
       "2  12612844                   Modelling and simulation analyst   \n",
       "3  12613049  Engineering Systems Analyst / Mathematical Mod...   \n",
       "4  12613647         Pioneer, Miser Engineering Systems Analyst   \n",
       "\n",
       "                                     FullDescription  \\\n",
       "0  Engineering Systems Analyst Dorking Surrey Sal...   \n",
       "1  Stress Engineer Glasgow Salary **** to **** We...   \n",
       "2  Mathematical Modeller / Simulation Analyst / O...   \n",
       "3  Engineering Systems Analyst / Mathematical Mod...   \n",
       "4  Pioneer, Miser  Engineering Systems Analyst Do...   \n",
       "\n",
       "                         LocationRaw LocationNormalized ContractType  \\\n",
       "0            Dorking, Surrey, Surrey            Dorking          NaN   \n",
       "1        Glasgow, Scotland, Scotland            Glasgow          NaN   \n",
       "2  Hampshire, South East, South East          Hampshire          NaN   \n",
       "3     Surrey, South East, South East             Surrey          NaN   \n",
       "4     Surrey, South East, South East             Surrey          NaN   \n",
       "\n",
       "  ContractTime                       Company          Category  \\\n",
       "0    permanent  Gregory Martin International  Engineering Jobs   \n",
       "1    permanent  Gregory Martin International  Engineering Jobs   \n",
       "2    permanent  Gregory Martin International  Engineering Jobs   \n",
       "3    permanent  Gregory Martin International  Engineering Jobs   \n",
       "4    permanent  Gregory Martin International  Engineering Jobs   \n",
       "\n",
       "                                SalaryRaw  SalaryNormalized        SourceName  \n",
       "0              20000 - 30000/annum 20-30K             25000  cv-library.co.uk  \n",
       "1              25000 - 35000/annum 25-35K             30000  cv-library.co.uk  \n",
       "2              20000 - 40000/annum 20-40K             30000  cv-library.co.uk  \n",
       "3  25000 - 30000/annum 25K-30K negotiable             27500  cv-library.co.uk  \n",
       "4              20000 - 30000/annum 20-30K             25000  cv-library.co.uk  "
      ]
     },
     "execution_count": 2,
     "metadata": {},
     "output_type": "execute_result"
    }
   ],
   "source": [
    "train_df.head()"
   ]
  },
  {
   "cell_type": "code",
   "execution_count": 3,
   "id": "29851e3c-1812-482e-850e-f9534d5a8d10",
   "metadata": {},
   "outputs": [
    {
     "name": "stdout",
     "output_type": "stream",
     "text": [
      "<class 'pandas.core.frame.DataFrame'>\n",
      "RangeIndex: 244768 entries, 0 to 244767\n",
      "Data columns (total 12 columns):\n",
      " #   Column              Non-Null Count   Dtype \n",
      "---  ------              --------------   ----- \n",
      " 0   Id                  244768 non-null  int64 \n",
      " 1   Title               244767 non-null  object\n",
      " 2   FullDescription     244768 non-null  object\n",
      " 3   LocationRaw         244768 non-null  object\n",
      " 4   LocationNormalized  244768 non-null  object\n",
      " 5   ContractType        65442 non-null   object\n",
      " 6   ContractTime        180863 non-null  object\n",
      " 7   Company             212338 non-null  object\n",
      " 8   Category            244768 non-null  object\n",
      " 9   SalaryRaw           244768 non-null  object\n",
      " 10  SalaryNormalized    244768 non-null  int64 \n",
      " 11  SourceName          244767 non-null  object\n",
      "dtypes: int64(2), object(10)\n",
      "memory usage: 22.4+ MB\n"
     ]
    }
   ],
   "source": [
    "train_df.info()"
   ]
  },
  {
   "cell_type": "markdown",
   "id": "a5143e79-6ff8-4dcd-b42d-c79a36ccdf5c",
   "metadata": {},
   "source": [
    "See we have a big dataset with:\n",
    "\n",
    "- 244.768 samples.\n",
    "- And 12 features."
   ]
  },
  {
   "cell_type": "markdown",
   "id": "fc123591-09e4-4d6a-ad42-44c7f51dc1d6",
   "metadata": {},
   "source": [
    "---"
   ]
  },
  {
   "cell_type": "markdown",
   "id": "7591f853-6978-4acb-8486-1358322bc017",
   "metadata": {},
   "source": [
    "## Check data types"
   ]
  },
  {
   "cell_type": "code",
   "execution_count": 4,
   "id": "33fd56db-5e76-4e78-bbd5-07757753b79e",
   "metadata": {},
   "outputs": [
    {
     "data": {
      "text/plain": [
       "Id                     int64\n",
       "Title                 object\n",
       "FullDescription       object\n",
       "LocationRaw           object\n",
       "LocationNormalized    object\n",
       "ContractType          object\n",
       "ContractTime          object\n",
       "Company               object\n",
       "Category              object\n",
       "SalaryRaw             object\n",
       "SalaryNormalized       int64\n",
       "SourceName            object\n",
       "dtype: object"
      ]
     },
     "execution_count": 4,
     "metadata": {},
     "output_type": "execute_result"
    }
   ],
   "source": [
    "train_df.dtypes"
   ]
  },
  {
   "cell_type": "markdown",
   "id": "36293a98-b2d6-4389-8561-6c9630a1f931",
   "metadata": {},
   "source": [
    " - **See we have \"object\" as the most common data type:**\n",
    "   - These \"objects\" represent texts (information) about the job advertisement.\n",
    "   - We will probably need to apply data preprocessing to get insights from these texts.\n",
    " - **We have only two numerical features:**\n",
    "   - **Id:** Job ad identification.\n",
    "   - **SalaryNormalized:** Target variable."
   ]
  },
  {
   "cell_type": "markdown",
   "id": "546f3060-b65b-4604-b1da-b0d6e74ddee3",
   "metadata": {},
   "source": [
    "---"
   ]
  },
  {
   "cell_type": "markdown",
   "id": "9c227d39-f911-44ed-8329-dd01ca6b6c82",
   "metadata": {},
   "source": [
    "## Check missing data\n",
    "\n",
    "Here, let's check missing data by:\n",
    "\n",
    " - Numerical quantity.\n",
    " - Percent (%)."
   ]
  },
  {
   "cell_type": "markdown",
   "id": "5003ede2-08e3-40a9-993f-fd939c7cc12a",
   "metadata": {},
   "source": [
    "**Numerical quantity aproach:**"
   ]
  },
  {
   "cell_type": "code",
   "execution_count": 5,
   "id": "a41caf58-67ff-4253-b0c9-d154b4cde6b2",
   "metadata": {},
   "outputs": [
    {
     "data": {
      "text/plain": [
       "Id                         0\n",
       "Title                      1\n",
       "FullDescription            0\n",
       "LocationRaw                0\n",
       "LocationNormalized         0\n",
       "ContractType          179326\n",
       "ContractTime           63905\n",
       "Company                32430\n",
       "Category                   0\n",
       "SalaryRaw                  0\n",
       "SalaryNormalized           0\n",
       "SourceName                 1\n",
       "dtype: int64"
      ]
     },
     "execution_count": 5,
     "metadata": {},
     "output_type": "execute_result"
    }
   ],
   "source": [
    "missingByQuantity = train_df.isnull().sum()\n",
    "missingByQuantity"
   ]
  },
  {
   "cell_type": "markdown",
   "id": "f4e40394-4d52-47d2-b468-5f26c4fe1c96",
   "metadata": {},
   "source": [
    "**Percent (%) approach:**"
   ]
  },
  {
   "cell_type": "code",
   "execution_count": 6,
   "id": "36388d29-21f4-426a-bc1b-b41a27374c52",
   "metadata": {},
   "outputs": [
    {
     "data": {
      "text/plain": [
       "Id                     0.000000\n",
       "Title                  0.000409\n",
       "FullDescription        0.000000\n",
       "LocationRaw            0.000000\n",
       "LocationNormalized     0.000000\n",
       "ContractType          73.263662\n",
       "ContractTime          26.108397\n",
       "Company               13.249281\n",
       "Category               0.000000\n",
       "SalaryRaw              0.000000\n",
       "SalaryNormalized       0.000000\n",
       "SourceName             0.000409\n",
       "dtype: float64"
      ]
     },
     "execution_count": 6,
     "metadata": {},
     "output_type": "execute_result"
    }
   ],
   "source": [
    "missingByPercent = (missingByQuantity / len(train_df.index)) * 100\n",
    "missingByPercent"
   ]
  },
  {
   "cell_type": "markdown",
   "id": "3d36d9d7-880e-4459-b255-a8f75a17024f",
   "metadata": {},
   "source": [
    " - See that the features **ContractType**, **ContractTime**, and **Company** have more than 10% missing data.\n",
    " - The feature **ContractType** has more than 73% missing data:\n",
    "   - That's a critical problem because features with more than 60% are almost null in model creation."
   ]
  },
  {
   "cell_type": "markdown",
   "id": "4f1a849c-0096-48e1-bdf8-85544e22aa15",
   "metadata": {},
   "source": [
    "---"
   ]
  },
  {
   "cell_type": "markdown",
   "id": "f3d38976-5389-4c43-8f58-26b045aa36b4",
   "metadata": {},
   "source": [
    "## Categorical Analysis\n",
    "\n",
    "> Now, let's see some categorical analysis."
   ]
  },
  {
   "cell_type": "markdown",
   "id": "be31166d-64f8-42f2-80e9-ddf0f735c2e6",
   "metadata": {},
   "source": [
    "**Categorical Analysis for the \"LocationNormalized\" feature:**"
   ]
  },
  {
   "cell_type": "code",
   "execution_count": 7,
   "id": "f81a8714-a029-4186-a191-53e7b540c251",
   "metadata": {},
   "outputs": [
    {
     "data": {
      "text/plain": [
       "[('UK', 41093),\n",
       " ('London', 30522),\n",
       " ('South East London', 11713),\n",
       " ('The City', 6678),\n",
       " ('Manchester', 3516),\n",
       " ('Leeds', 3401),\n",
       " ('Birmingham', 3061),\n",
       " ('Central London', 2607),\n",
       " ('West Midlands', 2540),\n",
       " ('Surrey', 2397)]"
      ]
     },
     "execution_count": 7,
     "metadata": {},
     "output_type": "execute_result"
    }
   ],
   "source": [
    "from collections import Counter\n",
    "c = Counter(train_df.LocationNormalized)\n",
    "c.most_common(10)"
   ]
  },
  {
   "cell_type": "code",
   "execution_count": 8,
   "id": "89b46b42-a0c1-4022-ba29-d881b27ed063",
   "metadata": {},
   "outputs": [],
   "source": [
    "LocationNormalized_values = c.most_common(10)"
   ]
  },
  {
   "cell_type": "code",
   "execution_count": 9,
   "id": "03b48ac8-282d-4afc-bfa2-137e11fbc656",
   "metadata": {},
   "outputs": [
    {
     "name": "stdout",
     "output_type": "stream",
     "text": [
      "'UK' has 41093 samples representing 16.8% data.\n",
      "'London' has 30522 samples representing 12.5% data.\n",
      "'South East London' has 11713 samples representing 4.8% data.\n",
      "'The City' has 6678 samples representing 2.7% data.\n",
      "'Manchester' has 3516 samples representing 1.4% data.\n",
      "'Leeds' has 3401 samples representing 1.4% data.\n",
      "'Birmingham' has 3061 samples representing 1.3% data.\n",
      "'Central London' has 2607 samples representing 1.1% data.\n",
      "'West Midlands' has 2540 samples representing 1.0% data.\n",
      "'Surrey' has 2397 samples representing 1.0% data.\n"
     ]
    }
   ],
   "source": [
    "# Check categories percent (%) + Missing data.\n",
    "for category in LocationNormalized_values:\n",
    "    percentCategory = (category[1] / len(train_df.index)) * 100\n",
    "    print(f\"'{category[0]}' has {category[1]} samples representing {round(percentCategory, 1)}% data.\")"
   ]
  },
  {
   "cell_type": "markdown",
   "id": "76a0a980-3079-426b-94b5-79ed4c6d89bb",
   "metadata": {},
   "source": [
    " - *LocationNormalized feature:*\n",
    "   - LocationNormalized has not missing data.\n",
    "   - The 10 most common locations for job ad is:\n",
    "     - 'UK' has 41.093 samples representing 16.8% data.\n",
    "     - 'London' has 30.522 samples representing 12.5% data.\n",
    "     - 'South East London' has 11.713 samples representing 4.8% data.\n",
    "     - 'The City' has 6.678 samples representing 2.7% data.\n",
    "     - 'Manchester' has 3.516 samples representing 1.4% data.\n",
    "     - 'Leeds' has 3.401 samples representing 1.4% data.\n",
    "     - 'Birmingham' has 3.061 samples representing 1.3% data.\n",
    "     - 'Central London' has 2.607 samples representing 1.1% data.\n",
    "     - 'West Midlands' has 2.540 samples representing 1.0% data.\n",
    "     - 'Surrey' has 2.397 samples representing 1.0% data."
   ]
  },
  {
   "cell_type": "markdown",
   "id": "b0039766-a17d-4645-86d3-78d271e51f72",
   "metadata": {},
   "source": [
    "**Categorical Analysis for the \"ContractType\" feature:**"
   ]
  },
  {
   "cell_type": "code",
   "execution_count": 10,
   "id": "b2dcc280-a4ed-4197-925e-09753899f8c1",
   "metadata": {},
   "outputs": [
    {
     "data": {
      "text/plain": [
       "[(nan, 179326), ('full_time', 57538), ('part_time', 7904)]"
      ]
     },
     "execution_count": 10,
     "metadata": {},
     "output_type": "execute_result"
    }
   ],
   "source": [
    "from collections import Counter\n",
    "c = Counter(train_df.ContractType)\n",
    "c.most_common()"
   ]
  },
  {
   "cell_type": "code",
   "execution_count": 11,
   "id": "1abd656b-3561-4bf7-83f3-c43e6b9435b1",
   "metadata": {},
   "outputs": [],
   "source": [
    "ContractType_values = c.most_common()"
   ]
  },
  {
   "cell_type": "code",
   "execution_count": 12,
   "id": "ec65a70e-a43a-4f43-84be-0c7f32150e4e",
   "metadata": {},
   "outputs": [
    {
     "name": "stdout",
     "output_type": "stream",
     "text": [
      "The 'nan' category has 179326 samples representing 73.3% data.\n",
      "The 'full_time' category has 57538 samples representing 23.5% data.\n",
      "The 'part_time' category has 7904 samples representing 3.2% data.\n"
     ]
    }
   ],
   "source": [
    "# Check categories percent (%) + Missing data.\n",
    "for category in ContractType_values:\n",
    "    percentCategory = (category[1] / len(train_df.index)) * 100\n",
    "    print(f\"The '{category[0]}' category has {category[1]} samples representing {round(percentCategory, 1)}% data.\")"
   ]
  },
  {
   "cell_type": "markdown",
   "id": "a6f67ba2-edf2-46a1-81ac-387ec5b10e4a",
   "metadata": {},
   "source": [
    " - *ContractType feature:*\n",
    "   - ContractType has many missing data:\n",
    "     - 179.326 missing data.\n",
    "     - Representing 73.2% data.\n",
    "   - The *'full_time'* category:\n",
    "     - Has 57.538 samples.\n",
    "     - Representing 23.5% data.\n",
    "   - The *'part_time'* category:\n",
    "     - Has 7.904 samples.\n",
    "     - Representing 3.2% data."
   ]
  },
  {
   "cell_type": "markdown",
   "id": "a7a3578c-9987-4f73-bc8c-d93a746d1a13",
   "metadata": {},
   "source": [
    "**Categorical Analysis for the \"ContractTime\" feature:**"
   ]
  },
  {
   "cell_type": "code",
   "execution_count": 13,
   "id": "3c83c365-d275-4079-8ac1-d909ad93ebc2",
   "metadata": {},
   "outputs": [
    {
     "data": {
      "text/plain": [
       "[('permanent', 151521), (nan, 63905), ('contract', 29342)]"
      ]
     },
     "execution_count": 13,
     "metadata": {},
     "output_type": "execute_result"
    }
   ],
   "source": [
    "from collections import Counter\n",
    "c = Counter(train_df.ContractTime)\n",
    "c.most_common()"
   ]
  },
  {
   "cell_type": "code",
   "execution_count": 14,
   "id": "f26b33d3-00d9-4bf0-bd61-471544b0d644",
   "metadata": {},
   "outputs": [],
   "source": [
    "ContractTime_values = c.most_common()"
   ]
  },
  {
   "cell_type": "code",
   "execution_count": 15,
   "id": "d4e6b858-be1b-4db0-87a8-3d7b6c7e5b90",
   "metadata": {},
   "outputs": [
    {
     "name": "stdout",
     "output_type": "stream",
     "text": [
      "The 'permanent' category has 151521 samples representing 61.9% data.\n",
      "The 'nan' category has 63905 samples representing 26.1% data.\n",
      "The 'contract' category has 29342 samples representing 12.0% data.\n"
     ]
    }
   ],
   "source": [
    "# Check categories percent (%) + Missing data.\n",
    "for category in ContractTime_values:\n",
    "    percentCategory = (category[1] / len(train_df.index)) * 100\n",
    "    print(f\"The '{category[0]}' category has {category[1]} samples representing {round(percentCategory, 1)}% data.\")"
   ]
  },
  {
   "cell_type": "markdown",
   "id": "e4457b79-83cf-463e-8877-32fc9ace61ea",
   "metadata": {},
   "source": [
    " - *ContractTime feature:*\n",
    "   - ContractType has many missing data:\n",
    "     - 63.905 missing data.\n",
    "     - Representing 26.1% data.\n",
    "   - The *'permanent'* category:\n",
    "     - Has 151.521 samples.\n",
    "     - Representing 61.9% data.\n",
    "   - The *'contract'* category:\n",
    "     - Has 29.342 samples.\n",
    "     - Representing 12.0% data."
   ]
  },
  {
   "cell_type": "markdown",
   "id": "d7879132-e811-4e92-8b74-b43c6712fe70",
   "metadata": {},
   "source": [
    "**Categorical Analysis for the \"Category\" feature:**"
   ]
  },
  {
   "cell_type": "code",
   "execution_count": 16,
   "id": "3b885ed0-e082-4be0-873d-bf35a96f448d",
   "metadata": {},
   "outputs": [],
   "source": [
    "from collections import Counter\n",
    "c = Counter(train_df.Category)\n",
    "Category_values = c.most_common()"
   ]
  },
  {
   "cell_type": "code",
   "execution_count": 17,
   "id": "3998e94a-6220-48fb-8404-7e6ffdd0a8a2",
   "metadata": {},
   "outputs": [
    {
     "name": "stdout",
     "output_type": "stream",
     "text": [
      "The 'IT Jobs' category has 38483 samples representing 15.7% data.\n",
      "The 'Engineering Jobs' category has 25174 samples representing 10.3% data.\n",
      "The 'Accounting & Finance Jobs' category has 21846 samples representing 8.9% data.\n",
      "The 'Healthcare & Nursing Jobs' category has 21076 samples representing 8.6% data.\n",
      "The 'Sales Jobs' category has 17272 samples representing 7.1% data.\n",
      "The 'Other/General Jobs' category has 17055 samples representing 7.0% data.\n",
      "The 'Teaching Jobs' category has 12637 samples representing 5.2% data.\n",
      "The 'Hospitality & Catering Jobs' category has 11351 samples representing 4.6% data.\n",
      "The 'PR, Advertising & Marketing Jobs' category has 8854 samples representing 3.6% data.\n",
      "The 'Trade & Construction Jobs' category has 8837 samples representing 3.6% data.\n",
      "The 'HR & Recruitment Jobs' category has 7713 samples representing 3.2% data.\n",
      "The 'Admin Jobs' category has 7614 samples representing 3.1% data.\n",
      "The 'Retail Jobs' category has 6584 samples representing 2.7% data.\n",
      "The 'Customer Services Jobs' category has 6063 samples representing 2.5% data.\n",
      "The 'Legal Jobs' category has 3939 samples representing 1.6% data.\n",
      "The 'Manufacturing Jobs' category has 3765 samples representing 1.5% data.\n",
      "The 'Logistics & Warehouse Jobs' category has 3633 samples representing 1.5% data.\n",
      "The 'Social work Jobs' category has 3455 samples representing 1.4% data.\n",
      "The 'Consultancy Jobs' category has 3263 samples representing 1.3% data.\n",
      "The 'Travel Jobs' category has 3126 samples representing 1.3% data.\n",
      "The 'Scientific & QA Jobs' category has 2489 samples representing 1.0% data.\n",
      "The 'Charity & Voluntary Jobs' category has 2332 samples representing 1.0% data.\n",
      "The 'Energy, Oil & Gas Jobs' category has 2255 samples representing 0.9% data.\n",
      "The 'Creative & Design Jobs' category has 1605 samples representing 0.7% data.\n",
      "The 'Maintenance Jobs' category has 1542 samples representing 0.6% data.\n",
      "The 'Graduate Jobs' category has 1331 samples representing 0.5% data.\n",
      "The 'Property Jobs' category has 1038 samples representing 0.4% data.\n",
      "The 'Domestic help & Cleaning Jobs' category has 291 samples representing 0.1% data.\n",
      "The 'Part time Jobs' category has 145 samples representing 0.1% data.\n"
     ]
    }
   ],
   "source": [
    "# Check categories percent (%) + Missing data.\n",
    "for category in Category_values:\n",
    "    percentCategory = (category[1] / len(train_df.index)) * 100\n",
    "    print(f\"The '{category[0]}' category has {category[1]} samples representing {round(percentCategory, 1)}% data.\")"
   ]
  },
  {
   "cell_type": "markdown",
   "id": "712aa53e-7037-4c53-a69f-4afc83d753c5",
   "metadata": {},
   "source": [
    " - *Category feature:*\n",
    "   - Category has not missing data.\n",
    "   - The *'IT Jobs'* category:\n",
    "     - Has 38.483 samples.\n",
    "     - Representing 15.7% data.\n",
    "   - The *'Engineering Jobs'* category:\n",
    "     - Has 25.174 samples.\n",
    "     - Representing 10.3% data.\n",
    "   - The *'Accounting & Finance Jobs'* category:\n",
    "     - Has 21.846 samples.\n",
    "     - Representing 8.9% data.\n",
    "   - The *'Healthcare & Nursing Jobs'* category:\n",
    "     - Has 21.076 samples.\n",
    "     - Representing 8.6% data.\n",
    "   - The *'Sales Jobs'* category:\n",
    "     - Has 17.272 samples.\n",
    "     - Representing 7.1% data.\n",
    "   - The *'Other/General Jobs'* category:\n",
    "     - Has 17.055 samples.\n",
    "     - Representing 7.0% data.\n",
    "   - The *'Teaching Jobs'* category:\n",
    "     - Has 12.637 samples.\n",
    "     - Representing 5.2% data.\n",
    "   - The *'Hospitality & Catering Jobs'* category:\n",
    "     - Has 11.351 samples.\n",
    "     - Representing 4.6% data.\n",
    "   - The *'PR, Advertising & Marketing Jobs'* category:\n",
    "     - Has 8.854 samples.\n",
    "     - Representing 3.6% data.\n",
    "   - The *'Trade & Construction Jobs'* category:\n",
    "     - Has 8.837 samples.\n",
    "     - Representing 3.6% data.\n",
    "   - The *'HR & Recruitment Jobs'* category:\n",
    "     - Has 7.713 samples.\n",
    "     - Representing 3.2% data.\n",
    "   - The *'Admin Jobs'* category:\n",
    "     - has 7.614 samples.\n",
    "     - Representing 3.1% data.\n",
    "   - The *'Retail Jobs'* category:\n",
    "     - Has 6.584 samples.\n",
    "     - Representing 2.7% data.\n",
    "   - The *'Customer Services Jobs'* category:\n",
    "     - Has 6.063 samples.\n",
    "     - Representing 2.5% data.\n",
    "   - The *'Legal Jobs'* category:\n",
    "     - Has 3.939 samples.\n",
    "     - Representing 1.6% data.\n",
    "   - The *'Manufacturing Jobs'* category:\n",
    "     - Has 3.765 samples.\n",
    "     - Representing 1.5% data.\n",
    "   - The *'Logistics & Warehouse Jobs'* category:\n",
    "     - Has 3.633 samples.\n",
    "     - Representing 1.5% data.\n",
    "   - The *'Social work Jobs'* category:\n",
    "     - Has 3.455 samples.\n",
    "     - Representing 1.4% data.\n",
    "   - The *'Consultancy Jobs'* category:\n",
    "     - Has 3.263 samples.\n",
    "     - Representing 1.3% data.\n",
    "   - The *'Travel Jobs'* category:\n",
    "     - Has 3.126 samples.\n",
    "     - Representing 1.3% data.\n",
    "   - The *'Scientific & QA Jobs'* category:\n",
    "     - Has 2.489 samples.\n",
    "     - Representing 1.0% data.\n",
    "   - The *'Charity & Voluntary Jobs'* category:\n",
    "     - Has 2.332 samples.\n",
    "     - Representing 1.0% data.\n",
    "   - The *'Energy, Oil & Gas Jobs'* category:\n",
    "     - Has 2.255 samples.\n",
    "     - Representing 0.9% data.\n",
    "   - The *'Creative & Design Jobs'* category:\n",
    "     - Has 1.605 samples.\n",
    "     - Representing 0.7% data.\n",
    "   - The *'Maintenance Jobs'* category:\n",
    "     - Has 1.542 samples.\n",
    "     - Representing 0.6% data.\n",
    "   - The *'Graduate Jobs'* category:\n",
    "     - Has 1.331 samples.\n",
    "     - Representing 0.5% data.\n",
    "   - The *'Property Jobs'* category:\n",
    "     - Has 1.038 samples.\n",
    "     - Representing 0.4% data.\n",
    "   - The *'Domestic help & Cleaning Jobs'* category:\n",
    "     - Has 291 samples.\n",
    "     - Representing 0.1% data.\n",
    "   - The *'Part time Jobs'* category:\n",
    "     - Has 145 samples.\n",
    "     - Representing 0.1% data."
   ]
  },
  {
   "cell_type": "markdown",
   "id": "5c8f4dc7-8039-4c13-8a21-fbd541b5a724",
   "metadata": {},
   "source": [
    "---"
   ]
  },
  {
   "cell_type": "markdown",
   "id": "7c32093e-5f2a-4452-aacb-94d3e41e1903",
   "metadata": {},
   "source": [
    "# Statistical Analysis\n",
    "\n",
    "> Finally, let's do a brief **Statistical Analysis** on the dataset."
   ]
  },
  {
   "cell_type": "markdown",
   "id": "5532dcaf-8b4c-4d2c-a953-9bd9d36ce9e1",
   "metadata": {},
   "source": [
    "**Statistical Overview:**"
   ]
  },
  {
   "cell_type": "code",
   "execution_count": 18,
   "id": "c585c441-e4e3-46b1-b143-df0f4003e43f",
   "metadata": {},
   "outputs": [
    {
     "data": {
      "text/html": [
       "<div>\n",
       "<style scoped>\n",
       "    .dataframe tbody tr th:only-of-type {\n",
       "        vertical-align: middle;\n",
       "    }\n",
       "\n",
       "    .dataframe tbody tr th {\n",
       "        vertical-align: top;\n",
       "    }\n",
       "\n",
       "    .dataframe thead th {\n",
       "        text-align: right;\n",
       "    }\n",
       "</style>\n",
       "<table border=\"1\" class=\"dataframe\">\n",
       "  <thead>\n",
       "    <tr style=\"text-align: right;\">\n",
       "      <th></th>\n",
       "      <th>Id</th>\n",
       "      <th>SalaryNormalized</th>\n",
       "    </tr>\n",
       "  </thead>\n",
       "  <tbody>\n",
       "    <tr>\n",
       "      <th>count</th>\n",
       "      <td>2.447680e+05</td>\n",
       "      <td>244768.000000</td>\n",
       "    </tr>\n",
       "    <tr>\n",
       "      <th>mean</th>\n",
       "      <td>6.970142e+07</td>\n",
       "      <td>34122.577576</td>\n",
       "    </tr>\n",
       "    <tr>\n",
       "      <th>std</th>\n",
       "      <td>3.129813e+06</td>\n",
       "      <td>17640.543124</td>\n",
       "    </tr>\n",
       "    <tr>\n",
       "      <th>min</th>\n",
       "      <td>1.261263e+07</td>\n",
       "      <td>5000.000000</td>\n",
       "    </tr>\n",
       "    <tr>\n",
       "      <th>25%</th>\n",
       "      <td>6.869550e+07</td>\n",
       "      <td>21500.000000</td>\n",
       "    </tr>\n",
       "    <tr>\n",
       "      <th>50%</th>\n",
       "      <td>6.993700e+07</td>\n",
       "      <td>30000.000000</td>\n",
       "    </tr>\n",
       "    <tr>\n",
       "      <th>75%</th>\n",
       "      <td>7.162606e+07</td>\n",
       "      <td>42500.000000</td>\n",
       "    </tr>\n",
       "    <tr>\n",
       "      <th>max</th>\n",
       "      <td>7.270524e+07</td>\n",
       "      <td>200000.000000</td>\n",
       "    </tr>\n",
       "  </tbody>\n",
       "</table>\n",
       "</div>"
      ],
      "text/plain": [
       "                 Id  SalaryNormalized\n",
       "count  2.447680e+05     244768.000000\n",
       "mean   6.970142e+07      34122.577576\n",
       "std    3.129813e+06      17640.543124\n",
       "min    1.261263e+07       5000.000000\n",
       "25%    6.869550e+07      21500.000000\n",
       "50%    6.993700e+07      30000.000000\n",
       "75%    7.162606e+07      42500.000000\n",
       "max    7.270524e+07     200000.000000"
      ]
     },
     "execution_count": 18,
     "metadata": {},
     "output_type": "execute_result"
    }
   ],
   "source": [
    "train_df.describe()"
   ]
  },
  {
   "cell_type": "markdown",
   "id": "ba56db37-0331-4974-afc4-ddd1ad085591",
   "metadata": {},
   "source": [
    "First, let's ignore *\"Id\"* feature and focus only on *\"SalaryNormalized\"*:\n",
    "\n",
    " - *SalaryNormalized:*\n",
    "   - The less salary (annual) was 5.000.\n",
    "   - The highest salary (annual) was 200.000.\n",
    "   - The salary (annual) *mean* was 34.122.\n",
    "   - The salary (annual) *median* was 30.000:\n",
    "     - Second quartile (Q2) or 50% of data.\n",
    "     - See that, our *median* is not far from our *mean*.\n",
    "   - The *Standard Deviation* was 17.640:\n",
    "     - The *Standard Deviation* represents how far we are from the *mean*."
   ]
  },
  {
   "cell_type": "markdown",
   "id": "fa82f7f8-3eb7-49da-bea0-0cb1dfdd342f",
   "metadata": {},
   "source": [
    "**Getting statistical \"mode\":** The describe() function doesn't return the \"mode\" from the data."
   ]
  },
  {
   "cell_type": "code",
   "execution_count": 19,
   "id": "640d4874-285a-47db-9d86-8d975986037c",
   "metadata": {},
   "outputs": [
    {
     "data": {
      "text/plain": [
       "0    35000\n",
       "Name: SalaryNormalized, dtype: int64"
      ]
     },
     "execution_count": 19,
     "metadata": {},
     "output_type": "execute_result"
    }
   ],
   "source": [
    "train_df.SalaryNormalized.mode()"
   ]
  },
  {
   "cell_type": "markdown",
   "id": "804cd7e2-b176-46eb-9bd6-bb1dd32e15bd",
   "metadata": {},
   "source": [
    "**NOTE:**  \n",
    "See that, our *mode* is not far from our *mean*."
   ]
  },
  {
   "cell_type": "markdown",
   "id": "a1eecd65-e9b3-4851-b00a-944589e615dd",
   "metadata": {},
   "source": [
    "**Getting the most common salaries:** Now, let's use the \"Counter\" class to get the top 10 most common salaries."
   ]
  },
  {
   "cell_type": "code",
   "execution_count": 20,
   "id": "a6b451e8-3f95-4309-9e23-f9c846d24c40",
   "metadata": {},
   "outputs": [
    {
     "data": {
      "text/plain": [
       "[(35000, 9178),\n",
       " (30000, 8319),\n",
       " (40000, 7688),\n",
       " (45000, 6735),\n",
       " (25000, 6309),\n",
       " (32500, 6215),\n",
       " (37500, 5756),\n",
       " (27500, 5544),\n",
       " (50000, 5424),\n",
       " (42500, 4555)]"
      ]
     },
     "execution_count": 20,
     "metadata": {},
     "output_type": "execute_result"
    }
   ],
   "source": [
    "from collections import Counter\n",
    "c = Counter(train_df.SalaryNormalized)\n",
    "c.most_common(10)"
   ]
  },
  {
   "cell_type": "markdown",
   "id": "033e9129-1c8c-4509-b888-40ac82700acf",
   "metadata": {},
   "source": [
    "**NOTE:**  \n",
    " - See that the most common salary was 35.000 with 9.178 samples.\n",
    " - See also that the most common salary is not far from the mean."
   ]
  },
  {
   "cell_type": "markdown",
   "id": "da1c2a65-67d5-4e67-b9cd-ebd93a6fadef",
   "metadata": {},
   "source": [
    "---"
   ]
  },
  {
   "cell_type": "markdown",
   "id": "7b184df4-a0d3-4ac8-ac1a-8f5f4a57261d",
   "metadata": {},
   "source": [
    "# [v1] - Exploratory Data Analysis/EDA (Resume)"
   ]
  },
  {
   "cell_type": "markdown",
   "id": "2bf3118c-a698-45a7-a3ec-3de6dc778a97",
   "metadata": {},
   "source": [
    " - **We have a big dataset with:**\n",
    "   - 244.768 samples and 12 features\n",
    " - **We will probably need to apply data preprocessing to get insights from these texts.**\n",
    " - **Some feature has many missing data:**\n",
    "   - ContractType, ContractTime, and Company have more than 10% missing data.\n",
    "   - We have a critical problem with the feature ContractType (more than 73% missing data).\n",
    " - **Statistics from \"SalaryNormalized\" feature:**\n",
    "   - The less salary (annual) was 5.000.\n",
    "   - The highest salary (annual) was 200.000.\n",
    "   - The salary (annual) **mean** was 34.122.\n",
    "   - The salary (annual) **median** was 30.000:\n",
    "     - Second quartile (Q2) or 50% of data.\n",
    "     - See that, our **median** is not far from our **mean**.\n",
    "   - The **mode (most common salary)** was 35.000 (also is not far from the mean)\n",
    "   - TOP 10 most common salaries are:\n",
    "     - 35.000 with 9.178 samples;\n",
    "     - 30.000 with 8.319 samples;\n",
    "     - 40.000 with 7.688 samples;\n",
    "     - 45.000 with 6.735 samples;\n",
    "     - 25.000 with 6.309 samples;\n",
    "     - 32.500 with 6.215 samples;\n",
    "     - 37.500 with 5.756 samples;\n",
    "     - 27.500 with 5.544 samples;\n",
    "     - 50.000 with 5.424 samples;\n",
    "     - 42.500 with 4.555 samples.\n",
    "   - The **Standard Deviation** was 17.640:\n",
    "     - The **Standard Deviation** represents how far we are from the **mean**.\n",
    " - **Categorical analysis:**-\n",
    "   - **LocationNormalized feature:**\n",
    "     - LocationNormalized has not missing data.\n",
    "     - The 10 most common locations for job ad is:\n",
    "       - 'UK' has 41.093 samples representing 16.8% data.\n",
    "       - 'London' has 30.522 samples representing 12.5% data.\n",
    "       - 'South East London' has 11.713 samples representing 4.8% data.\n",
    "       - 'The City' has 6.678 samples representing 2.7% data.\n",
    "       - 'Manchester' has 3.516 samples representing 1.4% data.\n",
    "       - 'Leeds' has 3.401 samples representing 1.4% data.\n",
    "       - 'Birmingham' has 3.061 samples representing 1.3% data.\n",
    "       - 'Central London' has 2.607 samples representing 1.1% data.\n",
    "       - 'West Midlands' has 2.540 samples representing 1.0% data.\n",
    "       - 'Surrey' has 2.397 samples representing 1.0% data.\n",
    "   - **ContractType feature:**\n",
    "     - ContractType has many missing data:\n",
    "       - 179.326 missing data.\n",
    "       - Representing 73.2% data.\n",
    "     - The **'full_time'** category:\n",
    "       - Has 57.538 samples.\n",
    "       - Representing 23.5% data.\n",
    "     - The **'part_time'** category:\n",
    "       - Has 7.904 samples.\n",
    "       - Representing 3.2% data.\n",
    "   - **ContractTime feature:**\n",
    "     - ContractType has many missing data:\n",
    "       - 63.905 missing data.\n",
    "       - Representing 26.1% data.\n",
    "     - The **'permanent'** category:\n",
    "       - Has 151.521 samples.\n",
    "       - Representing 61.9% data.\n",
    "     - The **'contract'** category:\n",
    "       - Has 29.342 samples.\n",
    "       - Representing 12.0% data.\n",
    "   - **Category feature:**\n",
    "     - Category has not missing data.\n",
    "     - The **'IT Jobs'** category:\n",
    "       - Has 38.483 samples.\n",
    "       - Representing 15.7% data.\n",
    "     - The **'Engineering Jobs'** category:\n",
    "       - Has 25.174 samples.\n",
    "       - Representing 10.3% data.\n",
    "     - The **'Accounting & Finance Jobs'** category:\n",
    "       - Has 21.846 samples.\n",
    "       - Representing 8.9% data.\n",
    "     - The **'Healthcare & Nursing Jobs'** category:\n",
    "       - Has 21.076 samples.\n",
    "       - Representing 8.6% data.\n",
    "     - The **'Sales Jobs'** category:\n",
    "       - Has 17.272 samples.\n",
    "       - Representing 7.1% data.\n",
    "     - The **'Other/General Jobs'** category:\n",
    "       - Has 17.055 samples.\n",
    "       - Representing 7.0% data.\n",
    "     - The **'Teaching Jobs'** category:\n",
    "       - Has 12.637 samples.\n",
    "       - Representing 5.2% data.\n",
    "     - The **'Hospitality & Catering Jobs'** category:\n",
    "       - Has 11.351 samples.\n",
    "       - Representing 4.6% data.\n",
    "     - The **'PR, Advertising & Marketing Jobs'** category:\n",
    "       - Has 8.854 samples.\n",
    "       - Representing 3.6% data.\n",
    "     - The **'Trade & Construction Jobs'** category:\n",
    "       - Has 8.837 samples.\n",
    "       - Representing 3.6% data.\n",
    "     - The **'HR & Recruitment Jobs'** category:\n",
    "       - Has 7.713 samples.\n",
    "       - Representing 3.2% data.\n",
    "     - The **'Admin Jobs'** category:\n",
    "       - has 7.614 samples.\n",
    "       - Representing 3.1% data.\n",
    "     - The **'Retail Jobs'** category:\n",
    "       - Has 6.584 samples.\n",
    "       - Representing 2.7% data.\n",
    "     - The **'Customer Services Jobs'** category:\n",
    "       - Has 6.063 samples.\n",
    "       - Representing 2.5% data.\n",
    "     - The **'Legal Jobs'** category:\n",
    "       - Has 3.939 samples.\n",
    "       - Representing 1.6% data.\n",
    "     - The **'Manufacturing Jobs'** category:\n",
    "       - Has 3.765 samples.\n",
    "       - Representing 1.5% data.\n",
    "     - The **'Logistics & Warehouse Jobs'** category:\n",
    "       - Has 3.633 samples.\n",
    "       - Representing 1.5% data.\n",
    "     - The **'Social work Jobs'** category:\n",
    "       - Has 3.455 samples.\n",
    "       - Representing 1.4% data.\n",
    "     - The **'Consultancy Jobs'** category:\n",
    "       - Has 3.263 samples.\n",
    "       - Representing 1.3% data.\n",
    "     - The **'Travel Jobs'** category:\n",
    "       - Has 3.126 samples.\n",
    "       - Representing 1.3% data.\n",
    "     - The **'Scientific & QA Jobs'** category:\n",
    "       - Has 2.489 samples.\n",
    "       - Representing 1.0% data.\n",
    "     - The **'Charity & Voluntary Jobs'** category:\n",
    "       - Has 2.332 samples.\n",
    "       - Representing 1.0% data.\n",
    "     - The **'Energy, Oil & Gas Jobs'** category:\n",
    "       - Has 2.255 samples.\n",
    "       - Representing 0.9% data.\n",
    "     - The **'Creative & Design Jobs'** category:\n",
    "       - Has 1.605 samples.\n",
    "       - Representing 0.7% data.\n",
    "     - The **'Maintenance Jobs**' category:\n",
    "       - Has 1.542 samples.\n",
    "       - Representing 0.6% data.\n",
    "     - The **'Graduate Jobs'** category:\n",
    "       - Has 1.331 samples.\n",
    "       - Representing 0.5% data.\n",
    "     - The **'Property Jobs'** category:\n",
    "       - Has 1.038 samples.\n",
    "       - Representing 0.4% data.\n",
    "     - The **'Domestic help & Cleaning Jobs'** category:\n",
    "       - Has 291 samples.\n",
    "       - Representing 0.1% data.\n",
    "     - The **'Part time Jobs'** category:\n",
    "       - Has 145 samples.\n",
    "       - Representing 0.1% data.\n"
   ]
  },
  {
   "cell_type": "markdown",
   "id": "67538e3e-d5a6-42ea-9671-3d9eab0230fa",
   "metadata": {},
   "source": [
    "---"
   ]
  },
  {
   "cell_type": "markdown",
   "id": "c8d41d17-4a40-42d8-a5c6-fa0fd397c16f",
   "metadata": {},
   "source": [
    "Ro**drigo** **L**eite da **S**ilva - **drigols**"
   ]
  }
 ],
 "metadata": {
  "kernelspec": {
   "display_name": "Python 3 (ipykernel)",
   "language": "python",
   "name": "python3"
  },
  "language_info": {
   "codemirror_mode": {
    "name": "ipython",
    "version": 3
   },
   "file_extension": ".py",
   "mimetype": "text/x-python",
   "name": "python",
   "nbconvert_exporter": "python",
   "pygments_lexer": "ipython3",
   "version": "3.10.12"
  }
 },
 "nbformat": 4,
 "nbformat_minor": 5
}
