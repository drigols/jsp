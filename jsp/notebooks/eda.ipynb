{
 "cells": [
  {
   "cell_type": "markdown",
   "id": "f4acf7cf-3e4e-40f4-ba45-f5f735afbbc4",
   "metadata": {},
   "source": [
    "# [v1] - Exploratory Data Analysis/EDA (Data understanding)\n",
    "\n",
    "> The notebook goal is to create a general *Exploratory Data Analysis (EDA)* on all Dataset features.\n",
    "\n",
    "However, no preprocessing or modeling will be created here. Just:\n",
    "\n",
    " - Analysis.\n",
    " - Hypothesis.\n",
    " - Observations."
   ]
  },
  {
   "cell_type": "markdown",
   "id": "973b5093-1fb9-412b-b443-1080c88e91a6",
   "metadata": {},
   "source": [
    "---"
   ]
  },
  {
   "cell_type": "markdown",
   "id": "44afed48-43e4-4917-bdd9-95bb42367628",
   "metadata": {},
   "source": [
    "## Dataset Overview"
   ]
  },
  {
   "cell_type": "code",
   "execution_count": 1,
   "id": "bb4880c3-2ce3-46e9-8eda-910158bae0c0",
   "metadata": {},
   "outputs": [],
   "source": [
    "import pandas as pd\n",
    "\n",
    "# For Linux users.\n",
    "train_df = pd.read_csv(\"../datalake/landing/Train_rev1.csv\")"
   ]
  },
  {
   "cell_type": "code",
   "execution_count": 2,
   "id": "15dcd283-f86b-43aa-81c7-91b52181f566",
   "metadata": {},
   "outputs": [
    {
     "data": {
      "text/html": [
       "<div>\n",
       "<style scoped>\n",
       "    .dataframe tbody tr th:only-of-type {\n",
       "        vertical-align: middle;\n",
       "    }\n",
       "\n",
       "    .dataframe tbody tr th {\n",
       "        vertical-align: top;\n",
       "    }\n",
       "\n",
       "    .dataframe thead th {\n",
       "        text-align: right;\n",
       "    }\n",
       "</style>\n",
       "<table border=\"1\" class=\"dataframe\">\n",
       "  <thead>\n",
       "    <tr style=\"text-align: right;\">\n",
       "      <th></th>\n",
       "      <th>Id</th>\n",
       "      <th>Title</th>\n",
       "      <th>FullDescription</th>\n",
       "      <th>LocationRaw</th>\n",
       "      <th>LocationNormalized</th>\n",
       "      <th>ContractType</th>\n",
       "      <th>ContractTime</th>\n",
       "      <th>Company</th>\n",
       "      <th>Category</th>\n",
       "      <th>SalaryRaw</th>\n",
       "      <th>SalaryNormalized</th>\n",
       "      <th>SourceName</th>\n",
       "    </tr>\n",
       "  </thead>\n",
       "  <tbody>\n",
       "    <tr>\n",
       "      <th>0</th>\n",
       "      <td>12612628</td>\n",
       "      <td>Engineering Systems Analyst</td>\n",
       "      <td>Engineering Systems Analyst Dorking Surrey Sal...</td>\n",
       "      <td>Dorking, Surrey, Surrey</td>\n",
       "      <td>Dorking</td>\n",
       "      <td>NaN</td>\n",
       "      <td>permanent</td>\n",
       "      <td>Gregory Martin International</td>\n",
       "      <td>Engineering Jobs</td>\n",
       "      <td>20000 - 30000/annum 20-30K</td>\n",
       "      <td>25000</td>\n",
       "      <td>cv-library.co.uk</td>\n",
       "    </tr>\n",
       "    <tr>\n",
       "      <th>1</th>\n",
       "      <td>12612830</td>\n",
       "      <td>Stress Engineer Glasgow</td>\n",
       "      <td>Stress Engineer Glasgow Salary **** to **** We...</td>\n",
       "      <td>Glasgow, Scotland, Scotland</td>\n",
       "      <td>Glasgow</td>\n",
       "      <td>NaN</td>\n",
       "      <td>permanent</td>\n",
       "      <td>Gregory Martin International</td>\n",
       "      <td>Engineering Jobs</td>\n",
       "      <td>25000 - 35000/annum 25-35K</td>\n",
       "      <td>30000</td>\n",
       "      <td>cv-library.co.uk</td>\n",
       "    </tr>\n",
       "    <tr>\n",
       "      <th>2</th>\n",
       "      <td>12612844</td>\n",
       "      <td>Modelling and simulation analyst</td>\n",
       "      <td>Mathematical Modeller / Simulation Analyst / O...</td>\n",
       "      <td>Hampshire, South East, South East</td>\n",
       "      <td>Hampshire</td>\n",
       "      <td>NaN</td>\n",
       "      <td>permanent</td>\n",
       "      <td>Gregory Martin International</td>\n",
       "      <td>Engineering Jobs</td>\n",
       "      <td>20000 - 40000/annum 20-40K</td>\n",
       "      <td>30000</td>\n",
       "      <td>cv-library.co.uk</td>\n",
       "    </tr>\n",
       "    <tr>\n",
       "      <th>3</th>\n",
       "      <td>12613049</td>\n",
       "      <td>Engineering Systems Analyst / Mathematical Mod...</td>\n",
       "      <td>Engineering Systems Analyst / Mathematical Mod...</td>\n",
       "      <td>Surrey, South East, South East</td>\n",
       "      <td>Surrey</td>\n",
       "      <td>NaN</td>\n",
       "      <td>permanent</td>\n",
       "      <td>Gregory Martin International</td>\n",
       "      <td>Engineering Jobs</td>\n",
       "      <td>25000 - 30000/annum 25K-30K negotiable</td>\n",
       "      <td>27500</td>\n",
       "      <td>cv-library.co.uk</td>\n",
       "    </tr>\n",
       "    <tr>\n",
       "      <th>4</th>\n",
       "      <td>12613647</td>\n",
       "      <td>Pioneer, Miser Engineering Systems Analyst</td>\n",
       "      <td>Pioneer, Miser  Engineering Systems Analyst Do...</td>\n",
       "      <td>Surrey, South East, South East</td>\n",
       "      <td>Surrey</td>\n",
       "      <td>NaN</td>\n",
       "      <td>permanent</td>\n",
       "      <td>Gregory Martin International</td>\n",
       "      <td>Engineering Jobs</td>\n",
       "      <td>20000 - 30000/annum 20-30K</td>\n",
       "      <td>25000</td>\n",
       "      <td>cv-library.co.uk</td>\n",
       "    </tr>\n",
       "  </tbody>\n",
       "</table>\n",
       "</div>"
      ],
      "text/plain": [
       "         Id                                              Title  \\\n",
       "0  12612628                        Engineering Systems Analyst   \n",
       "1  12612830                            Stress Engineer Glasgow   \n",
       "2  12612844                   Modelling and simulation analyst   \n",
       "3  12613049  Engineering Systems Analyst / Mathematical Mod...   \n",
       "4  12613647         Pioneer, Miser Engineering Systems Analyst   \n",
       "\n",
       "                                     FullDescription  \\\n",
       "0  Engineering Systems Analyst Dorking Surrey Sal...   \n",
       "1  Stress Engineer Glasgow Salary **** to **** We...   \n",
       "2  Mathematical Modeller / Simulation Analyst / O...   \n",
       "3  Engineering Systems Analyst / Mathematical Mod...   \n",
       "4  Pioneer, Miser  Engineering Systems Analyst Do...   \n",
       "\n",
       "                         LocationRaw LocationNormalized ContractType  \\\n",
       "0            Dorking, Surrey, Surrey            Dorking          NaN   \n",
       "1        Glasgow, Scotland, Scotland            Glasgow          NaN   \n",
       "2  Hampshire, South East, South East          Hampshire          NaN   \n",
       "3     Surrey, South East, South East             Surrey          NaN   \n",
       "4     Surrey, South East, South East             Surrey          NaN   \n",
       "\n",
       "  ContractTime                       Company          Category  \\\n",
       "0    permanent  Gregory Martin International  Engineering Jobs   \n",
       "1    permanent  Gregory Martin International  Engineering Jobs   \n",
       "2    permanent  Gregory Martin International  Engineering Jobs   \n",
       "3    permanent  Gregory Martin International  Engineering Jobs   \n",
       "4    permanent  Gregory Martin International  Engineering Jobs   \n",
       "\n",
       "                                SalaryRaw  SalaryNormalized        SourceName  \n",
       "0              20000 - 30000/annum 20-30K             25000  cv-library.co.uk  \n",
       "1              25000 - 35000/annum 25-35K             30000  cv-library.co.uk  \n",
       "2              20000 - 40000/annum 20-40K             30000  cv-library.co.uk  \n",
       "3  25000 - 30000/annum 25K-30K negotiable             27500  cv-library.co.uk  \n",
       "4              20000 - 30000/annum 20-30K             25000  cv-library.co.uk  "
      ]
     },
     "execution_count": 2,
     "metadata": {},
     "output_type": "execute_result"
    }
   ],
   "source": [
    "train_df.head()"
   ]
  },
  {
   "cell_type": "code",
   "execution_count": 3,
   "id": "29851e3c-1812-482e-850e-f9534d5a8d10",
   "metadata": {},
   "outputs": [
    {
     "name": "stdout",
     "output_type": "stream",
     "text": [
      "<class 'pandas.core.frame.DataFrame'>\n",
      "RangeIndex: 244768 entries, 0 to 244767\n",
      "Data columns (total 12 columns):\n",
      " #   Column              Non-Null Count   Dtype \n",
      "---  ------              --------------   ----- \n",
      " 0   Id                  244768 non-null  int64 \n",
      " 1   Title               244767 non-null  object\n",
      " 2   FullDescription     244768 non-null  object\n",
      " 3   LocationRaw         244768 non-null  object\n",
      " 4   LocationNormalized  244768 non-null  object\n",
      " 5   ContractType        65442 non-null   object\n",
      " 6   ContractTime        180863 non-null  object\n",
      " 7   Company             212338 non-null  object\n",
      " 8   Category            244768 non-null  object\n",
      " 9   SalaryRaw           244768 non-null  object\n",
      " 10  SalaryNormalized    244768 non-null  int64 \n",
      " 11  SourceName          244767 non-null  object\n",
      "dtypes: int64(2), object(10)\n",
      "memory usage: 22.4+ MB\n"
     ]
    }
   ],
   "source": [
    "train_df.info()"
   ]
  },
  {
   "cell_type": "markdown",
   "id": "a5143e79-6ff8-4dcd-b42d-c79a36ccdf5c",
   "metadata": {},
   "source": [
    "See we have a big dataset with:\n",
    "\n",
    "- 244.768 samples.\n",
    "- And 12 features."
   ]
  },
  {
   "cell_type": "markdown",
   "id": "d7984e1c-f007-4300-8027-046156780fad",
   "metadata": {},
   "source": [
    "## Check text features"
   ]
  },
  {
   "cell_type": "code",
   "execution_count": 4,
   "id": "da95f69a-ca3e-41fb-a2a3-c68d6a9f2c05",
   "metadata": {},
   "outputs": [],
   "source": [
    "pd.options.display.max_colwidth = 100000"
   ]
  },
  {
   "cell_type": "code",
   "execution_count": 5,
   "id": "982409b5-1c34-4e42-964c-68f5a15b25a4",
   "metadata": {},
   "outputs": [
    {
     "data": {
      "text/html": [
       "<div>\n",
       "<style scoped>\n",
       "    .dataframe tbody tr th:only-of-type {\n",
       "        vertical-align: middle;\n",
       "    }\n",
       "\n",
       "    .dataframe tbody tr th {\n",
       "        vertical-align: top;\n",
       "    }\n",
       "\n",
       "    .dataframe thead th {\n",
       "        text-align: right;\n",
       "    }\n",
       "</style>\n",
       "<table border=\"1\" class=\"dataframe\">\n",
       "  <thead>\n",
       "    <tr style=\"text-align: right;\">\n",
       "      <th></th>\n",
       "      <th>Title</th>\n",
       "    </tr>\n",
       "  </thead>\n",
       "  <tbody>\n",
       "    <tr>\n",
       "      <th>0</th>\n",
       "      <td>Engineering Systems Analyst</td>\n",
       "    </tr>\n",
       "    <tr>\n",
       "      <th>1</th>\n",
       "      <td>Stress Engineer Glasgow</td>\n",
       "    </tr>\n",
       "    <tr>\n",
       "      <th>2</th>\n",
       "      <td>Modelling and simulation analyst</td>\n",
       "    </tr>\n",
       "    <tr>\n",
       "      <th>3</th>\n",
       "      <td>Engineering Systems Analyst / Mathematical Modeller</td>\n",
       "    </tr>\n",
       "    <tr>\n",
       "      <th>4</th>\n",
       "      <td>Pioneer, Miser Engineering Systems Analyst</td>\n",
       "    </tr>\n",
       "    <tr>\n",
       "      <th>...</th>\n",
       "      <td>...</td>\n",
       "    </tr>\n",
       "    <tr>\n",
       "      <th>244763</th>\n",
       "      <td>TEACHER OF SCIENCE</td>\n",
       "    </tr>\n",
       "    <tr>\n",
       "      <th>244764</th>\n",
       "      <td>TEACHER OF BUSINESS STUDIES AND ICT</td>\n",
       "    </tr>\n",
       "    <tr>\n",
       "      <th>244765</th>\n",
       "      <td>ENGLISH TEACHER</td>\n",
       "    </tr>\n",
       "    <tr>\n",
       "      <th>244766</th>\n",
       "      <td>SUPPLY TEACHERS</td>\n",
       "    </tr>\n",
       "    <tr>\n",
       "      <th>244767</th>\n",
       "      <td>Accountant</td>\n",
       "    </tr>\n",
       "  </tbody>\n",
       "</table>\n",
       "<p>244768 rows × 1 columns</p>\n",
       "</div>"
      ],
      "text/plain": [
       "                                                      Title\n",
       "0                               Engineering Systems Analyst\n",
       "1                                   Stress Engineer Glasgow\n",
       "2                          Modelling and simulation analyst\n",
       "3       Engineering Systems Analyst / Mathematical Modeller\n",
       "4                Pioneer, Miser Engineering Systems Analyst\n",
       "...                                                     ...\n",
       "244763                                   TEACHER OF SCIENCE\n",
       "244764                  TEACHER OF BUSINESS STUDIES AND ICT\n",
       "244765                                      ENGLISH TEACHER\n",
       "244766                                      SUPPLY TEACHERS\n",
       "244767                                           Accountant\n",
       "\n",
       "[244768 rows x 1 columns]"
      ]
     },
     "execution_count": 5,
     "metadata": {},
     "output_type": "execute_result"
    }
   ],
   "source": [
    "Title_df = train_df[['Title']].copy()\n",
    "Title_df"
   ]
  },
  {
   "cell_type": "code",
   "execution_count": 6,
   "id": "d960305b-8b3b-433c-a1d6-4d3faab9a007",
   "metadata": {},
   "outputs": [
    {
     "data": {
      "text/html": [
       "<div>\n",
       "<style scoped>\n",
       "    .dataframe tbody tr th:only-of-type {\n",
       "        vertical-align: middle;\n",
       "    }\n",
       "\n",
       "    .dataframe tbody tr th {\n",
       "        vertical-align: top;\n",
       "    }\n",
       "\n",
       "    .dataframe thead th {\n",
       "        text-align: right;\n",
       "    }\n",
       "</style>\n",
       "<table border=\"1\" class=\"dataframe\">\n",
       "  <thead>\n",
       "    <tr style=\"text-align: right;\">\n",
       "      <th></th>\n",
       "      <th>FullDescription</th>\n",
       "    </tr>\n",
       "  </thead>\n",
       "  <tbody>\n",
       "    <tr>\n",
       "      <th>0</th>\n",
       "      <td>Engineering Systems Analyst Dorking Surrey Salary ****K Our client is located in Dorking, Surrey and are looking for Engineering Systems Analyst our client provides specialist software development Keywords Mathematical Modelling, Risk Analysis, System Modelling, Optimisation, MISER, PIONEEER Engineering Systems Analyst Dorking Surrey Salary ****K</td>\n",
       "    </tr>\n",
       "    <tr>\n",
       "      <th>1</th>\n",
       "      <td>Stress Engineer Glasgow Salary **** to **** We re currently looking for talented engineers to join our growing Glasgow team at a variety of levels. The roles are ideally suited to high calibre engineering graduates with any level of appropriate experience, so that we can give you the opportunity to use your technical skills to provide high quality input to our aerospace projects, spanning both aerostructures and aeroengines. In return, you can expect good career opportunities and the chance for advancement and personal and professional development, support while you gain Chartership and some opportunities to possibly travel or work in other offices, in or outside of the UK. The Requirements You will need to have a good engineering degree that includes structural analysis (such as aeronautical, mechanical, automotive, civil) with some experience in a professional engineering environment relevant to (but not limited to) the aerospace sector. You will need to demonstrate experience in at least one or more of the following areas: Structural/stress analysis Composite stress analysis (any industry) Linear and nonlinear finite element analysis Fatigue and damage tolerance Structural dynamics Thermal analysis Aerostructures experience You will also be expected to demonstrate the following qualities: A strong desire to progress quickly to a position of leadership Professional approach Strong communication skills, written and verbal Commercial awareness Team working, being comfortable working in international teams and self managing PLEASE NOTE SECURITY CLEARANCE IS REQUIRED FOR THIS ROLE Stress Engineer Glasgow Salary **** to ****</td>\n",
       "    </tr>\n",
       "    <tr>\n",
       "      <th>2</th>\n",
       "      <td>Mathematical Modeller / Simulation Analyst / Operational Analyst Basingstoke, Hampshire Up to ****K AAE pension contribution, private medical and dental The opportunity Our client is an independent consultancy firm which has an opportunity for a Data Analyst with 35 years experience. The role will require the successful candidate to demonstrate their ability to analyse a problem and arrive at a solution, with varying levels of data being available. Essential skills Thorough knowledge of Excel and proven ability to utilise this to create powerful decision support models Experience in Modelling and Simulation Techniques, Experience of techniques such as Discrete Event Simulation and/or SD modelling Mathematical/scientific background  minimum degree qualified Proven analytical and problem solving skills Self Starter Ability to develop solid working relationships In addition to formal qualifications and experience, the successful candidate will require excellent written and verbal communication skills, be energetic, enterprising and have a determination to succeed. They will be required to build solid working relationships, both internally with colleagues and, most importantly, externally with our clients. They must be comfortable working independently to deliver against challenging client demands. The offices are located in Basingstoke, Hampshire, but our client work for clients worldwide. The successful candidate must therefore be prepared to undertake work at client sites for short periods of time. Physics, Mathematics, Modelling, Simulation, Analytical, Operational Research, Mathematical Modelling Mathematical Modeller / Simulation Analyst / Operational Analyst Basingstoke, Hampshire ****K AAE pension contribution, private medical and dental</td>\n",
       "    </tr>\n",
       "    <tr>\n",
       "      <th>3</th>\n",
       "      <td>Engineering Systems Analyst / Mathematical Modeller. Our client is a highly successful and respected Consultancy providing specialist software development MISER, PIONEER, Maths, Mathematical, Optimisation, Risk Analysis, Asset Management, Water Industry, Access, Excel, VBA, SQL, Systems . Engineering Systems Analyst / Mathematical Modeller. Salary  ****K****K negotiable Location Dorking, Surrey</td>\n",
       "    </tr>\n",
       "    <tr>\n",
       "      <th>4</th>\n",
       "      <td>Pioneer, Miser  Engineering Systems Analyst Dorking  Surrey Salary ****K Located in Surrey, our client provides specialist software development Pioneer, Miser  Engineering Systems Analyst Dorking  Surrey Salary ****K</td>\n",
       "    </tr>\n",
       "    <tr>\n",
       "      <th>...</th>\n",
       "      <td>...</td>\n",
       "    </tr>\n",
       "    <tr>\n",
       "      <th>244763</th>\n",
       "      <td>Position: Qualified Teacher Subject/Specialism: Science Location: Swindon Contract: Temporary/Supply Pay: **** to **** per week An improving school in Swindon is looking to appoint a dynamic teacher of Science to join their vibrant Science Department for temporary, short term and long term positions. This school provides a state of the art learning environment and excellent teaching resources. The school embraces opportunities for change and focusses on developing the minds of the pupils who attend. Their primary goal is to motivate pupils to realise their full potential. This thriving school is seeking to appoint an enthusiastic and committed colleague to join their successful science team. This post would suit either an NQT or experienced teacher who is committed to helping young people achieve. Specific teaching responsibilities will be discussed at interview. They are looking for an individual who is dedicated to raising attainment and motivating pupils using innovative resources and teaching methods. The post offers the opportunity to teach Science whilst contributing to the thriving extra curricular programme of the school. You must have Qualified Teacher Status in the UK, or an equivalent overseas qualification with UK teaching experience. This will allow you to deliver the National Curriculum and be properly equipped to deal with classroom management. You will be committed to raising standards and have good organisational and interpersonal skills. Energy, ambition and enthusiasm are a must As a supply teacher with Hays you will receive the following benefits:  The support of a dedicated and experienced consultant within Secondary Education  Plenty of variety and a choice of work from day to day cover and longterm assignments  Competitive rates of pay  Excellent opportunities for CPD Keep more of your hard earned pay by using Hay's approved payroll partner. We can help you keep more of your earnings through taxefficient payment methods. Details provided upon application. Hays Education is an accredited Quality Mark company and is committed to a policy of equal opportunities. We respect and value cultural and religious diversity and will not discriminate on the basis of age, gender, sexual orientation, race, ethnic origin, religion, culture or disability. Each individual is assessed on merit alone.</td>\n",
       "    </tr>\n",
       "    <tr>\n",
       "      <th>244764</th>\n",
       "      <td>Position: Qualified Teacher or NQT Subject/Specialism: Business Studies/ICT Location: Swindon Contract: Temporary/Supply Pay: **** to **** per week A popular Secondary School in Swindon is looking for a Qualified Teacher/NQT of Business Studies and ICT to cover a full time longterm role. The initial cover will be for a period of 4 weeks with the possibility of this extending at the end of the assignment. The school is improving year on year with an increasing proportion of teaching graded good and outstanding as a result of good leadership and management, therefore they are looking for dynamic teachers who are committed to raising the attainment levels of the students in the school whilst creating positive relationships with pupils. The school ethos is that good behaviour and positive relationships result in an orderly and effective climate for learning. As a supply teacher with Hays you will receive the following benefits:  The support of a dedicated and experienced consultant within Secondary Education  Plenty of variety and a choice of work from day to day cover and longterm assignments  Competitive rates of pay  Excellent opportunities for CPD Keep more of your hard earned pay by using Hay's approved payroll partner. We can help you keep more of your earnings through taxefficient payment methods. Details provided upon application. Hays Education is an accredited Quality Mark company and is committed to a policy of equal opportunities. We respect and value cultural and religious diversity and will not discriminate on the basis of age, gender, sexual orientation, race, ethnic origin, religion, culture or disability. Each individual is assessed on merit alone.</td>\n",
       "    </tr>\n",
       "    <tr>\n",
       "      <th>244765</th>\n",
       "      <td>Position: Qualified Teacher Subject/Specialism: ENGLISH Location: Swindon Contract: Temporary/Supply Pay: **** to **** per week An outstanding school in Swindon is looking to appoint a dynamic teacher of English to join their successful English department for temporary, short term and long term positions. This school of high achievers need teachers who will push the students to their full potential and maintain their record levels of attainment. The school embraces opportunities for change and focusses on developing the minds of the pupils who attend. The school operates a strict behaviour policy and is seeking to appoint a creative and innovative teacher of English. This post would suit either an NQT or experienced teacher who is committed to helping young people achieve. Specific teaching responsibilities will be discussed at interview. They are looking for an individual who is dedicated to raising attainment and motivating pupils using innovative resources and teaching methods. The post offers the opportunity to teach English whilst contributing to the thriving extra curricular programme of the school. You must have Qualified Teacher Status in the UK, or an equivalent overseas qualification with UK teaching experience. This will allow you to deliver the National Curriculum and be properly equipped to deal with classroom management. You will be committed to raising standards and have good organisational and interpersonal skills. Energy, ambition and enthusiasm are a must As a supply teacher with Hays you will receive the following benefits:  The support of a dedicated and experienced consultant within Secondary Education  Plenty of variety and a choice of work from day to day cover and longterm assignments  Competitive rates of pay  Excellent opportunities for CPD Keep more of your hard earned pay by using Hay's approved payroll partner. We can help you keep more of your earnings through taxefficient payment methods. Details provided upon application. Hays Education is an accredited Quality Mark company and is committed to a policy of equal opportunities. We respect and value cultural and religious diversity and will not discriminate on the basis of age, gender, sexual orientation, race, ethnic origin, religion, culture or disability. Each individual is assessed on merit alone.</td>\n",
       "    </tr>\n",
       "    <tr>\n",
       "      <th>244766</th>\n",
       "      <td>Position: Qualified Teacher Subject/Specialism: English, Maths, Science, MFL, DT, Geography, History, Humanities, PE, ICT Location: East Wiltshire Contract: Temporary/Supply Pay: **** to **** per week A number of Secondary Schools in East Wiltshire are looking for Teachers and NQTs for long term and short term roles to start ASAP. As a Supply Teacher you will have the opportunity to teach your specialised subject in a variety of different schools. You will also have the opportunity to cover a variety of other subjects including English, Maths, Science, Design Technology, ICT, History, Geography and more as well as teaching your own subject which you have trained to teach in. Lessons will be planned and you will be expected to deliver it to the classroom and manage the pupils. It is vital that you have strong classroom management skills and are prepared to cover at short notice. To this end you will be reliable, resourceful and ready for anything If you have been applying for jobs but have been struggling to secure a permanent role within a school then working as a supply teacher offers the perfect opportunity to get your foot through the door with many schools in the local area. More often than not a reliable supply teacher will be offered the opportunity to stay on as a permanent member of staff. It also allows you the chance to find out which schools you would like to be permanently based in before going on to applying for a permanent role with them. We will ensure you get the most out of your time as a supply teacher. Now is an excellent time to be registering with us to gain yourself vital experience within a school and support your future career. As a supply teacher with Hays you will receive the following benefits:  The support of a dedicated and experienced consultant within Secondary Education  Plenty of variety and a choice of work from day to day cover and longterm assignments  Competitive rates of pay  Excellent opportunities for CPD Keep more of your hard earned pay by using Hay's approved payroll partner. We can help you keep more of your earnings through taxefficient payment methods. Details provided upon application. Hays Education is an accredited Quality Mark company and is committed to a policy of equal opportunities. We respect and value cultural and religious diversity and will not discriminate on the basis of age, gender, sexual orientation, race, ethnic origin, religion, culture or disability. Each individual is assessed on merit alone.</td>\n",
       "    </tr>\n",
       "    <tr>\n",
       "      <th>244767</th>\n",
       "      <td>This entrepreneurial and growing private equity backed company is looking for an Accountant to join them and support the FD in running the finance function. As the Accountant you will manage a team of three accounts clerk and take responsibility for maintaining up to date and accurate financial records, preparing monthly management accounts and overseeing the ledgers, payroll and bank reconciliations. You will also provide the operational teams with relevant financial information. This would be an ideal opportunity for someone looking for their first move from practice or for someone already in an SME looking for a step up. You must be qualified (ACA/ACCA/CIMA) and have strong IT skills.</td>\n",
       "    </tr>\n",
       "  </tbody>\n",
       "</table>\n",
       "<p>244768 rows × 1 columns</p>\n",
       "</div>"
      ],
      "text/plain": [
       "                                                                                                                                                                                                                                                                                                                                                                                                                                                                                                                                                                                                                                                                                                                                                                                                                                                                                                                                                                                                                                                                                                                                                                                                                                                                                                                                                                                                                                                                                                                                                                                                                                                                                                                                                                                                                                                                                                                                                                                                                                                                                                                                                                                                                                                                                                                                                                                                                                                                                                                                                                                               FullDescription\n",
       "0                                                                                                                                                                                                                                                                                                                                                                                                                                                                                                                                                                                                                                                                                                                                                                                                                                                                                                                                                                                                                                                                                                                                                                                                                                                                                                                                                                                                                                                                                                                                                                                                                                                                                                                                                                                                                                                                                                                                                                                                                                                                                                                                                                                                                                                 Engineering Systems Analyst Dorking Surrey Salary ****K Our client is located in Dorking, Surrey and are looking for Engineering Systems Analyst our client provides specialist software development Keywords Mathematical Modelling, Risk Analysis, System Modelling, Optimisation, MISER, PIONEEER Engineering Systems Analyst Dorking Surrey Salary ****K\n",
       "1                                                                                                                                                                                                                                                                                                                                                                                                                                                                                                                                                                                                                                                                                                                                                                                                                                                                                            Stress Engineer Glasgow Salary **** to **** We re currently looking for talented engineers to join our growing Glasgow team at a variety of levels. The roles are ideally suited to high calibre engineering graduates with any level of appropriate experience, so that we can give you the opportunity to use your technical skills to provide high quality input to our aerospace projects, spanning both aerostructures and aeroengines. In return, you can expect good career opportunities and the chance for advancement and personal and professional development, support while you gain Chartership and some opportunities to possibly travel or work in other offices, in or outside of the UK. The Requirements You will need to have a good engineering degree that includes structural analysis (such as aeronautical, mechanical, automotive, civil) with some experience in a professional engineering environment relevant to (but not limited to) the aerospace sector. You will need to demonstrate experience in at least one or more of the following areas: Structural/stress analysis Composite stress analysis (any industry) Linear and nonlinear finite element analysis Fatigue and damage tolerance Structural dynamics Thermal analysis Aerostructures experience You will also be expected to demonstrate the following qualities: A strong desire to progress quickly to a position of leadership Professional approach Strong communication skills, written and verbal Commercial awareness Team working, being comfortable working in international teams and self managing PLEASE NOTE SECURITY CLEARANCE IS REQUIRED FOR THIS ROLE Stress Engineer Glasgow Salary **** to ****\n",
       "2                                                                                                                                                                                                                                                                                                                                                                                                                                                                                                                                                                                                                                                                                                                                                                  Mathematical Modeller / Simulation Analyst / Operational Analyst Basingstoke, Hampshire Up to ****K AAE pension contribution, private medical and dental The opportunity Our client is an independent consultancy firm which has an opportunity for a Data Analyst with 35 years experience. The role will require the successful candidate to demonstrate their ability to analyse a problem and arrive at a solution, with varying levels of data being available. Essential skills Thorough knowledge of Excel and proven ability to utilise this to create powerful decision support models Experience in Modelling and Simulation Techniques, Experience of techniques such as Discrete Event Simulation and/or SD modelling Mathematical/scientific background  minimum degree qualified Proven analytical and problem solving skills Self Starter Ability to develop solid working relationships In addition to formal qualifications and experience, the successful candidate will require excellent written and verbal communication skills, be energetic, enterprising and have a determination to succeed. They will be required to build solid working relationships, both internally with colleagues and, most importantly, externally with our clients. They must be comfortable working independently to deliver against challenging client demands. The offices are located in Basingstoke, Hampshire, but our client work for clients worldwide. The successful candidate must therefore be prepared to undertake work at client sites for short periods of time. Physics, Mathematics, Modelling, Simulation, Analytical, Operational Research, Mathematical Modelling Mathematical Modeller / Simulation Analyst / Operational Analyst Basingstoke, Hampshire ****K AAE pension contribution, private medical and dental\n",
       "3                                                                                                                                                                                                                                                                                                                                                                                                                                                                                                                                                                                                                                                                                                                                                                                                                                                                                                                                                                                                                                                                                                                                                                                                                                                                                                                                                                                                                                                                                                                                                                                                                                                                                                                                                                                                                                                                                                                                                                                                                                                                                                                                                                                                Engineering Systems Analyst / Mathematical Modeller. Our client is a highly successful and respected Consultancy providing specialist software development MISER, PIONEER, Maths, Mathematical, Optimisation, Risk Analysis, Asset Management, Water Industry, Access, Excel, VBA, SQL, Systems . Engineering Systems Analyst / Mathematical Modeller. Salary  ****K****K negotiable Location Dorking, Surrey\n",
       "4                                                                                                                                                                                                                                                                                                                                                                                                                                                                                                                                                                                                                                                                                                                                                                                                                                                                                                                                                                                                                                                                                                                                                                                                                                                                                                                                                                                                                                                                                                                                                                                                                                                                                                                                                                                                                                                                                                                                                                                                                                                                                                                                                                                                                                                                                                                                                                                     Pioneer, Miser  Engineering Systems Analyst Dorking  Surrey Salary ****K Located in Surrey, our client provides specialist software development Pioneer, Miser  Engineering Systems Analyst Dorking  Surrey Salary ****K\n",
       "...                                                                                                                                                                                                                                                                                                                                                                                                                                                                                                                                                                                                                                                                                                                                                                                                                                                                                                                                                                                                                                                                                                                                                                                                                                                                                                                                                                                                                                                                                                                                                                                                                                                                                                                                                                                                                                                                                                                                                                                                                                                                                                                                                                                                                                                                                                                                                                                                                                                                                                                                                                                                        ...\n",
       "244763                                                                                                                                                               Position: Qualified Teacher Subject/Specialism: Science Location: Swindon Contract: Temporary/Supply Pay: **** to **** per week An improving school in Swindon is looking to appoint a dynamic teacher of Science to join their vibrant Science Department for temporary, short term and long term positions. This school provides a state of the art learning environment and excellent teaching resources. The school embraces opportunities for change and focusses on developing the minds of the pupils who attend. Their primary goal is to motivate pupils to realise their full potential. This thriving school is seeking to appoint an enthusiastic and committed colleague to join their successful science team. This post would suit either an NQT or experienced teacher who is committed to helping young people achieve. Specific teaching responsibilities will be discussed at interview. They are looking for an individual who is dedicated to raising attainment and motivating pupils using innovative resources and teaching methods. The post offers the opportunity to teach Science whilst contributing to the thriving extra curricular programme of the school. You must have Qualified Teacher Status in the UK, or an equivalent overseas qualification with UK teaching experience. This will allow you to deliver the National Curriculum and be properly equipped to deal with classroom management. You will be committed to raising standards and have good organisational and interpersonal skills. Energy, ambition and enthusiasm are a must As a supply teacher with Hays you will receive the following benefits:  The support of a dedicated and experienced consultant within Secondary Education  Plenty of variety and a choice of work from day to day cover and longterm assignments  Competitive rates of pay  Excellent opportunities for CPD Keep more of your hard earned pay by using Hay's approved payroll partner. We can help you keep more of your earnings through taxefficient payment methods. Details provided upon application. Hays Education is an accredited Quality Mark company and is committed to a policy of equal opportunities. We respect and value cultural and religious diversity and will not discriminate on the basis of age, gender, sexual orientation, race, ethnic origin, religion, culture or disability. Each individual is assessed on merit alone.\n",
       "244764                                                                                                                                                                                                                                                                                                                                                                                                                                                                                                                                                                                                                                                                                                                                                                                                                                               Position: Qualified Teacher or NQT Subject/Specialism: Business Studies/ICT Location: Swindon Contract: Temporary/Supply Pay: **** to **** per week A popular Secondary School in Swindon is looking for a Qualified Teacher/NQT of Business Studies and ICT to cover a full time longterm role. The initial cover will be for a period of 4 weeks with the possibility of this extending at the end of the assignment. The school is improving year on year with an increasing proportion of teaching graded good and outstanding as a result of good leadership and management, therefore they are looking for dynamic teachers who are committed to raising the attainment levels of the students in the school whilst creating positive relationships with pupils. The school ethos is that good behaviour and positive relationships result in an orderly and effective climate for learning. As a supply teacher with Hays you will receive the following benefits:  The support of a dedicated and experienced consultant within Secondary Education  Plenty of variety and a choice of work from day to day cover and longterm assignments  Competitive rates of pay  Excellent opportunities for CPD Keep more of your hard earned pay by using Hay's approved payroll partner. We can help you keep more of your earnings through taxefficient payment methods. Details provided upon application. Hays Education is an accredited Quality Mark company and is committed to a policy of equal opportunities. We respect and value cultural and religious diversity and will not discriminate on the basis of age, gender, sexual orientation, race, ethnic origin, religion, culture or disability. Each individual is assessed on merit alone.\n",
       "244765                                                                                                                                                                                        Position: Qualified Teacher Subject/Specialism: ENGLISH Location: Swindon Contract: Temporary/Supply Pay: **** to **** per week An outstanding school in Swindon is looking to appoint a dynamic teacher of English to join their successful English department for temporary, short term and long term positions. This school of high achievers need teachers who will push the students to their full potential and maintain their record levels of attainment. The school embraces opportunities for change and focusses on developing the minds of the pupils who attend. The school operates a strict behaviour policy and is seeking to appoint a creative and innovative teacher of English. This post would suit either an NQT or experienced teacher who is committed to helping young people achieve. Specific teaching responsibilities will be discussed at interview. They are looking for an individual who is dedicated to raising attainment and motivating pupils using innovative resources and teaching methods. The post offers the opportunity to teach English whilst contributing to the thriving extra curricular programme of the school. You must have Qualified Teacher Status in the UK, or an equivalent overseas qualification with UK teaching experience. This will allow you to deliver the National Curriculum and be properly equipped to deal with classroom management. You will be committed to raising standards and have good organisational and interpersonal skills. Energy, ambition and enthusiasm are a must As a supply teacher with Hays you will receive the following benefits:  The support of a dedicated and experienced consultant within Secondary Education  Plenty of variety and a choice of work from day to day cover and longterm assignments  Competitive rates of pay  Excellent opportunities for CPD Keep more of your hard earned pay by using Hay's approved payroll partner. We can help you keep more of your earnings through taxefficient payment methods. Details provided upon application. Hays Education is an accredited Quality Mark company and is committed to a policy of equal opportunities. We respect and value cultural and religious diversity and will not discriminate on the basis of age, gender, sexual orientation, race, ethnic origin, religion, culture or disability. Each individual is assessed on merit alone.\n",
       "244766  Position: Qualified Teacher Subject/Specialism: English, Maths, Science, MFL, DT, Geography, History, Humanities, PE, ICT Location: East Wiltshire Contract: Temporary/Supply Pay: **** to **** per week A number of Secondary Schools in East Wiltshire are looking for Teachers and NQTs for long term and short term roles to start ASAP. As a Supply Teacher you will have the opportunity to teach your specialised subject in a variety of different schools. You will also have the opportunity to cover a variety of other subjects including English, Maths, Science, Design Technology, ICT, History, Geography and more as well as teaching your own subject which you have trained to teach in. Lessons will be planned and you will be expected to deliver it to the classroom and manage the pupils. It is vital that you have strong classroom management skills and are prepared to cover at short notice. To this end you will be reliable, resourceful and ready for anything If you have been applying for jobs but have been struggling to secure a permanent role within a school then working as a supply teacher offers the perfect opportunity to get your foot through the door with many schools in the local area. More often than not a reliable supply teacher will be offered the opportunity to stay on as a permanent member of staff. It also allows you the chance to find out which schools you would like to be permanently based in before going on to applying for a permanent role with them. We will ensure you get the most out of your time as a supply teacher. Now is an excellent time to be registering with us to gain yourself vital experience within a school and support your future career. As a supply teacher with Hays you will receive the following benefits:  The support of a dedicated and experienced consultant within Secondary Education  Plenty of variety and a choice of work from day to day cover and longterm assignments  Competitive rates of pay  Excellent opportunities for CPD Keep more of your hard earned pay by using Hay's approved payroll partner. We can help you keep more of your earnings through taxefficient payment methods. Details provided upon application. Hays Education is an accredited Quality Mark company and is committed to a policy of equal opportunities. We respect and value cultural and religious diversity and will not discriminate on the basis of age, gender, sexual orientation, race, ethnic origin, religion, culture or disability. Each individual is assessed on merit alone.\n",
       "244767                                                                                                                                                                                                                                                                                                                                                                                                                                                                                                                                                                                                                                                                                                                                                                                                                                                                                                                                                                                                                                                                                                                                                                                                                                                                                                                                                                                                                                                                                                                                                                                                                                                                                                                                                                                                                                                                                This entrepreneurial and growing private equity backed company is looking for an Accountant to join them and support the FD in running the finance function. As the Accountant you will manage a team of three accounts clerk and take responsibility for maintaining up to date and accurate financial records, preparing monthly management accounts and overseeing the ledgers, payroll and bank reconciliations. You will also provide the operational teams with relevant financial information. This would be an ideal opportunity for someone looking for their first move from practice or for someone already in an SME looking for a step up. You must be qualified (ACA/ACCA/CIMA) and have strong IT skills.\n",
       "\n",
       "[244768 rows x 1 columns]"
      ]
     },
     "execution_count": 6,
     "metadata": {},
     "output_type": "execute_result"
    }
   ],
   "source": [
    "FullDescription_df = train_df[['FullDescription']].copy()\n",
    "FullDescription_df"
   ]
  },
  {
   "cell_type": "markdown",
   "id": "fc123591-09e4-4d6a-ad42-44c7f51dc1d6",
   "metadata": {},
   "source": [
    "---"
   ]
  },
  {
   "cell_type": "markdown",
   "id": "7591f853-6978-4acb-8486-1358322bc017",
   "metadata": {},
   "source": [
    "## Check data types"
   ]
  },
  {
   "cell_type": "code",
   "execution_count": 7,
   "id": "33fd56db-5e76-4e78-bbd5-07757753b79e",
   "metadata": {},
   "outputs": [
    {
     "data": {
      "text/plain": [
       "Id                     int64\n",
       "Title                 object\n",
       "FullDescription       object\n",
       "LocationRaw           object\n",
       "LocationNormalized    object\n",
       "ContractType          object\n",
       "ContractTime          object\n",
       "Company               object\n",
       "Category              object\n",
       "SalaryRaw             object\n",
       "SalaryNormalized       int64\n",
       "SourceName            object\n",
       "dtype: object"
      ]
     },
     "execution_count": 7,
     "metadata": {},
     "output_type": "execute_result"
    }
   ],
   "source": [
    "train_df.dtypes"
   ]
  },
  {
   "cell_type": "markdown",
   "id": "36293a98-b2d6-4389-8561-6c9630a1f931",
   "metadata": {},
   "source": [
    " - **See we have \"object\" as the most common data type:**\n",
    "   - These \"objects\" represent texts (information) about the job advertisement.\n",
    "   - We will probably need to apply data preprocessing to get insights from these texts.\n",
    " - **We have only two numerical features:**\n",
    "   - **Id:** Job ad identification.\n",
    "   - **SalaryNormalized:** Target variable."
   ]
  },
  {
   "cell_type": "markdown",
   "id": "546f3060-b65b-4604-b1da-b0d6e74ddee3",
   "metadata": {},
   "source": [
    "---"
   ]
  },
  {
   "cell_type": "markdown",
   "id": "9c227d39-f911-44ed-8329-dd01ca6b6c82",
   "metadata": {},
   "source": [
    "## Check missing data\n",
    "\n",
    "Here, let's check missing data by:\n",
    "\n",
    " - Numerical quantity.\n",
    " - Percent (%)."
   ]
  },
  {
   "cell_type": "markdown",
   "id": "5003ede2-08e3-40a9-993f-fd939c7cc12a",
   "metadata": {},
   "source": [
    "**Numerical quantity aproach:**"
   ]
  },
  {
   "cell_type": "code",
   "execution_count": 8,
   "id": "a41caf58-67ff-4253-b0c9-d154b4cde6b2",
   "metadata": {},
   "outputs": [
    {
     "data": {
      "text/plain": [
       "Id                         0\n",
       "Title                      1\n",
       "FullDescription            0\n",
       "LocationRaw                0\n",
       "LocationNormalized         0\n",
       "ContractType          179326\n",
       "ContractTime           63905\n",
       "Company                32430\n",
       "Category                   0\n",
       "SalaryRaw                  0\n",
       "SalaryNormalized           0\n",
       "SourceName                 1\n",
       "dtype: int64"
      ]
     },
     "execution_count": 8,
     "metadata": {},
     "output_type": "execute_result"
    }
   ],
   "source": [
    "missingByQuantity = train_df.isnull().sum()\n",
    "missingByQuantity"
   ]
  },
  {
   "cell_type": "markdown",
   "id": "f4e40394-4d52-47d2-b468-5f26c4fe1c96",
   "metadata": {},
   "source": [
    "**Percent (%) approach:**"
   ]
  },
  {
   "cell_type": "code",
   "execution_count": 9,
   "id": "36388d29-21f4-426a-bc1b-b41a27374c52",
   "metadata": {},
   "outputs": [
    {
     "data": {
      "text/plain": [
       "Id                     0.000000\n",
       "Title                  0.000409\n",
       "FullDescription        0.000000\n",
       "LocationRaw            0.000000\n",
       "LocationNormalized     0.000000\n",
       "ContractType          73.263662\n",
       "ContractTime          26.108397\n",
       "Company               13.249281\n",
       "Category               0.000000\n",
       "SalaryRaw              0.000000\n",
       "SalaryNormalized       0.000000\n",
       "SourceName             0.000409\n",
       "dtype: float64"
      ]
     },
     "execution_count": 9,
     "metadata": {},
     "output_type": "execute_result"
    }
   ],
   "source": [
    "missingByPercent = (missingByQuantity / len(train_df.index)) * 100\n",
    "missingByPercent"
   ]
  },
  {
   "cell_type": "markdown",
   "id": "3d36d9d7-880e-4459-b255-a8f75a17024f",
   "metadata": {},
   "source": [
    " - See that the features **ContractType**, **ContractTime**, and **Company** have more than 10% missing data.\n",
    " - The feature **ContractType** has more than 73% missing data:\n",
    "   - That's a critical problem because features with more than 60% are almost null in model creation."
   ]
  },
  {
   "cell_type": "markdown",
   "id": "4f1a849c-0096-48e1-bdf8-85544e22aa15",
   "metadata": {},
   "source": [
    "---"
   ]
  },
  {
   "cell_type": "markdown",
   "id": "f3d38976-5389-4c43-8f58-26b045aa36b4",
   "metadata": {},
   "source": [
    "## Categorical Analysis\n",
    "\n",
    "> Now, let's see some categorical analysis."
   ]
  },
  {
   "cell_type": "markdown",
   "id": "be31166d-64f8-42f2-80e9-ddf0f735c2e6",
   "metadata": {},
   "source": [
    "**Categorical Analysis for the \"LocationNormalized\" feature:**"
   ]
  },
  {
   "cell_type": "code",
   "execution_count": 10,
   "id": "f81a8714-a029-4186-a191-53e7b540c251",
   "metadata": {},
   "outputs": [
    {
     "data": {
      "text/plain": [
       "2732"
      ]
     },
     "execution_count": 10,
     "metadata": {},
     "output_type": "execute_result"
    }
   ],
   "source": [
    "from collections import Counter\n",
    "c = Counter(train_df.LocationNormalized)\n",
    "len(c.most_common())"
   ]
  },
  {
   "cell_type": "markdown",
   "id": "03146200-e0d2-42dd-a4e7-b02bfcb1656d",
   "metadata": {},
   "source": [
    "> **NOTE:**  \n",
    "> See we have 2.732 different locations (categories).\n",
    "\n",
    "Let's see some samples:"
   ]
  },
  {
   "cell_type": "code",
   "execution_count": 11,
   "id": "89b46b42-a0c1-4022-ba29-d881b27ed063",
   "metadata": {},
   "outputs": [],
   "source": [
    "LocationNormalized_values = c.most_common(20)"
   ]
  },
  {
   "cell_type": "code",
   "execution_count": 12,
   "id": "03b48ac8-282d-4afc-bfa2-137e11fbc656",
   "metadata": {},
   "outputs": [
    {
     "name": "stdout",
     "output_type": "stream",
     "text": [
      "'UK' has 41093 samples representing 16.8% data.\n",
      "'London' has 30522 samples representing 12.5% data.\n",
      "'South East London' has 11713 samples representing 4.8% data.\n",
      "'The City' has 6678 samples representing 2.7% data.\n",
      "'Manchester' has 3516 samples representing 1.4% data.\n",
      "'Leeds' has 3401 samples representing 1.4% data.\n",
      "'Birmingham' has 3061 samples representing 1.3% data.\n",
      "'Central London' has 2607 samples representing 1.1% data.\n",
      "'West Midlands' has 2540 samples representing 1.0% data.\n",
      "'Surrey' has 2397 samples representing 1.0% data.\n",
      "'Reading' has 2187 samples representing 0.9% data.\n",
      "'Bristol' has 2085 samples representing 0.9% data.\n",
      "'Nottingham' has 1873 samples representing 0.8% data.\n",
      "'Sheffield' has 1766 samples representing 0.7% data.\n",
      "'Aberdeen' has 1634 samples representing 0.7% data.\n",
      "'Hampshire' has 1557 samples representing 0.6% data.\n",
      "'Belfast' has 1537 samples representing 0.6% data.\n",
      "'East Sheen' has 1531 samples representing 0.6% data.\n",
      "'Milton Keynes' has 1523 samples representing 0.6% data.\n",
      "'Berkshire' has 1502 samples representing 0.6% data.\n"
     ]
    }
   ],
   "source": [
    "# Check categories percent (%) + Missing data.\n",
    "for category in LocationNormalized_values:\n",
    "    percentCategory = (category[1] / len(train_df.index)) * 100\n",
    "    print(f\"'{category[0]}' has {category[1]} samples representing {round(percentCategory, 1)}% data.\")"
   ]
  },
  {
   "cell_type": "markdown",
   "id": "b0039766-a17d-4645-86d3-78d271e51f72",
   "metadata": {},
   "source": [
    "**Categorical Analysis for the \"ContractType\" feature:**"
   ]
  },
  {
   "cell_type": "code",
   "execution_count": 13,
   "id": "b2dcc280-a4ed-4197-925e-09753899f8c1",
   "metadata": {},
   "outputs": [
    {
     "data": {
      "text/plain": [
       "[(nan, 179326), ('full_time', 57538), ('part_time', 7904)]"
      ]
     },
     "execution_count": 13,
     "metadata": {},
     "output_type": "execute_result"
    }
   ],
   "source": [
    "from collections import Counter\n",
    "c = Counter(train_df.ContractType)\n",
    "c.most_common()"
   ]
  },
  {
   "cell_type": "code",
   "execution_count": 14,
   "id": "1abd656b-3561-4bf7-83f3-c43e6b9435b1",
   "metadata": {},
   "outputs": [],
   "source": [
    "ContractType_values = c.most_common()"
   ]
  },
  {
   "cell_type": "code",
   "execution_count": 15,
   "id": "ec65a70e-a43a-4f43-84be-0c7f32150e4e",
   "metadata": {},
   "outputs": [
    {
     "name": "stdout",
     "output_type": "stream",
     "text": [
      "The 'nan' category has 179326 samples representing 73.3% data.\n",
      "The 'full_time' category has 57538 samples representing 23.5% data.\n",
      "The 'part_time' category has 7904 samples representing 3.2% data.\n"
     ]
    }
   ],
   "source": [
    "# Check categories percent (%) + Missing data.\n",
    "for category in ContractType_values:\n",
    "    percentCategory = (category[1] / len(train_df.index)) * 100\n",
    "    print(f\"The '{category[0]}' category has {category[1]} samples representing {round(percentCategory, 1)}% data.\")"
   ]
  },
  {
   "cell_type": "markdown",
   "id": "a7a3578c-9987-4f73-bc8c-d93a746d1a13",
   "metadata": {},
   "source": [
    "**Categorical Analysis for the \"ContractTime\" feature:**"
   ]
  },
  {
   "cell_type": "code",
   "execution_count": 16,
   "id": "3c83c365-d275-4079-8ac1-d909ad93ebc2",
   "metadata": {},
   "outputs": [
    {
     "data": {
      "text/plain": [
       "[('permanent', 151521), (nan, 63905), ('contract', 29342)]"
      ]
     },
     "execution_count": 16,
     "metadata": {},
     "output_type": "execute_result"
    }
   ],
   "source": [
    "from collections import Counter\n",
    "c = Counter(train_df.ContractTime)\n",
    "c.most_common()"
   ]
  },
  {
   "cell_type": "code",
   "execution_count": 17,
   "id": "f26b33d3-00d9-4bf0-bd61-471544b0d644",
   "metadata": {},
   "outputs": [],
   "source": [
    "ContractTime_values = c.most_common()"
   ]
  },
  {
   "cell_type": "code",
   "execution_count": 18,
   "id": "d4e6b858-be1b-4db0-87a8-3d7b6c7e5b90",
   "metadata": {},
   "outputs": [
    {
     "name": "stdout",
     "output_type": "stream",
     "text": [
      "The 'permanent' category has 151521 samples representing 61.9% data.\n",
      "The 'nan' category has 63905 samples representing 26.1% data.\n",
      "The 'contract' category has 29342 samples representing 12.0% data.\n"
     ]
    }
   ],
   "source": [
    "# Check categories percent (%) + Missing data.\n",
    "for category in ContractTime_values:\n",
    "    percentCategory = (category[1] / len(train_df.index)) * 100\n",
    "    print(f\"The '{category[0]}' category has {category[1]} samples representing {round(percentCategory, 1)}% data.\")"
   ]
  },
  {
   "cell_type": "markdown",
   "id": "d7879132-e811-4e92-8b74-b43c6712fe70",
   "metadata": {},
   "source": [
    "**Categorical Analysis for the \"Category\" feature:**"
   ]
  },
  {
   "cell_type": "code",
   "execution_count": 19,
   "id": "3b885ed0-e082-4be0-873d-bf35a96f448d",
   "metadata": {},
   "outputs": [],
   "source": [
    "from collections import Counter\n",
    "c = Counter(train_df.Category)\n",
    "Category_values = c.most_common()"
   ]
  },
  {
   "cell_type": "code",
   "execution_count": 20,
   "id": "3998e94a-6220-48fb-8404-7e6ffdd0a8a2",
   "metadata": {},
   "outputs": [
    {
     "name": "stdout",
     "output_type": "stream",
     "text": [
      "The 'IT Jobs' category has 38483 samples representing 15.7% data.\n",
      "The 'Engineering Jobs' category has 25174 samples representing 10.3% data.\n",
      "The 'Accounting & Finance Jobs' category has 21846 samples representing 8.9% data.\n",
      "The 'Healthcare & Nursing Jobs' category has 21076 samples representing 8.6% data.\n",
      "The 'Sales Jobs' category has 17272 samples representing 7.1% data.\n",
      "The 'Other/General Jobs' category has 17055 samples representing 7.0% data.\n",
      "The 'Teaching Jobs' category has 12637 samples representing 5.2% data.\n",
      "The 'Hospitality & Catering Jobs' category has 11351 samples representing 4.6% data.\n",
      "The 'PR, Advertising & Marketing Jobs' category has 8854 samples representing 3.6% data.\n",
      "The 'Trade & Construction Jobs' category has 8837 samples representing 3.6% data.\n",
      "The 'HR & Recruitment Jobs' category has 7713 samples representing 3.2% data.\n",
      "The 'Admin Jobs' category has 7614 samples representing 3.1% data.\n",
      "The 'Retail Jobs' category has 6584 samples representing 2.7% data.\n",
      "The 'Customer Services Jobs' category has 6063 samples representing 2.5% data.\n",
      "The 'Legal Jobs' category has 3939 samples representing 1.6% data.\n",
      "The 'Manufacturing Jobs' category has 3765 samples representing 1.5% data.\n",
      "The 'Logistics & Warehouse Jobs' category has 3633 samples representing 1.5% data.\n",
      "The 'Social work Jobs' category has 3455 samples representing 1.4% data.\n",
      "The 'Consultancy Jobs' category has 3263 samples representing 1.3% data.\n",
      "The 'Travel Jobs' category has 3126 samples representing 1.3% data.\n",
      "The 'Scientific & QA Jobs' category has 2489 samples representing 1.0% data.\n",
      "The 'Charity & Voluntary Jobs' category has 2332 samples representing 1.0% data.\n",
      "The 'Energy, Oil & Gas Jobs' category has 2255 samples representing 0.9% data.\n",
      "The 'Creative & Design Jobs' category has 1605 samples representing 0.7% data.\n",
      "The 'Maintenance Jobs' category has 1542 samples representing 0.6% data.\n",
      "The 'Graduate Jobs' category has 1331 samples representing 0.5% data.\n",
      "The 'Property Jobs' category has 1038 samples representing 0.4% data.\n",
      "The 'Domestic help & Cleaning Jobs' category has 291 samples representing 0.1% data.\n",
      "The 'Part time Jobs' category has 145 samples representing 0.1% data.\n"
     ]
    }
   ],
   "source": [
    "# Check categories percent (%) + Missing data.\n",
    "for category in Category_values:\n",
    "    percentCategory = (category[1] / len(train_df.index)) * 100\n",
    "    print(f\"The '{category[0]}' category has {category[1]} samples representing {round(percentCategory, 1)}% data.\")"
   ]
  },
  {
   "cell_type": "markdown",
   "id": "9e8bc6c2-2e8a-4e96-91b9-816c628f71e9",
   "metadata": {},
   "source": [
    "**Categorical Analysis for the \"SourceName\" feature:**"
   ]
  },
  {
   "cell_type": "code",
   "execution_count": 21,
   "id": "b2ebc749-60a6-4c6f-b789-893054a43ea9",
   "metadata": {},
   "outputs": [],
   "source": [
    "from collections import Counter\n",
    "c = Counter(train_df.SourceName)\n",
    "SourceName_values = c.most_common(50)"
   ]
  },
  {
   "cell_type": "code",
   "execution_count": 22,
   "id": "4eeed83b-2892-4d64-b46d-7fe86b847535",
   "metadata": {},
   "outputs": [
    {
     "name": "stdout",
     "output_type": "stream",
     "text": [
      "The 'totaljobs.com' category has 48149 samples representing 19.7% data.\n",
      "The 'cv-library.co.uk' category has 34279 samples representing 14.0% data.\n",
      "The 'Jobcentre Plus' category has 17929 samples representing 7.3% data.\n",
      "The 'jobsite.co.uk' category has 12225 samples representing 5.0% data.\n",
      "The 'cwjobs.co.uk' category has 7011 samples representing 2.9% data.\n",
      "The 'fish4.co.uk' category has 6016 samples representing 2.5% data.\n",
      "The 'MyUkJobs' category has 5522 samples representing 2.3% data.\n",
      "The 'ukstaffsearch.com' category has 4997 samples representing 2.0% data.\n",
      "The 'jobs.guardian.co.uk' category has 4965 samples representing 2.0% data.\n",
      "The 'technojobs.co.uk' category has 4638 samples representing 1.9% data.\n",
      "The 'staffnurse.com' category has 4472 samples representing 1.8% data.\n",
      "The 'caterer.com' category has 4256 samples representing 1.7% data.\n",
      "The 'careworx.co.uk' category has 4228 samples representing 1.7% data.\n",
      "The 'jobserve.com' category has 4176 samples representing 1.7% data.\n",
      "The 'jobs.catererandhotelkeeper.com' category has 3691 samples representing 1.5% data.\n",
      "The 'hays.co.uk' category has 3187 samples representing 1.3% data.\n",
      "The 'cvbrowser.com' category has 2977 samples representing 1.2% data.\n",
      "The 'gojobsearch.co.uk' category has 2871 samples representing 1.2% data.\n",
      "The 'retailchoice.com' category has 2515 samples representing 1.0% data.\n",
      "The 'theitjobboard.co.uk' category has 2496 samples representing 1.0% data.\n",
      "The 'careers4a.com' category has 2413 samples representing 1.0% data.\n",
      "The 'salestarget.co.uk' category has 2395 samples representing 1.0% data.\n",
      "The 'london4jobs.co.uk' category has 2345 samples representing 1.0% data.\n",
      "The 'theladders.co.uk' category has 2296 samples representing 0.9% data.\n",
      "The 'careerbuilder.com' category has 2176 samples representing 0.9% data.\n",
      "The 'GAAPweb' category has 1917 samples representing 0.8% data.\n",
      "The 'rengineeringjobs.com' category has 1686 samples representing 0.7% data.\n",
      "The 'jobs.telegraph.co.uk' category has 1557 samples representing 0.6% data.\n",
      "The 'britishjobsonthe.net' category has 1449 samples representing 0.6% data.\n",
      "The 'onlymarketingjobs.com' category has 1394 samples representing 0.6% data.\n",
      "The 'simplysalesjobs.co.uk' category has 1377 samples representing 0.6% data.\n",
      "The 'justengineers.net' category has 1372 samples representing 0.6% data.\n",
      "The 'jobs.communitycare.co.uk' category has 1346 samples representing 0.5% data.\n",
      "The 'careerstructure.com' category has 1251 samples representing 0.5% data.\n",
      "The 'planetrecruit.com' category has 1197 samples representing 0.5% data.\n",
      "The 'jobg8.com' category has 1139 samples representing 0.5% data.\n",
      "The 'strike-jobs.co.uk' category has 1075 samples representing 0.4% data.\n",
      "The 'TotallyLegal' category has 1006 samples representing 0.4% data.\n",
      "The 'nijobs.com' category has 984 samples representing 0.4% data.\n",
      "The 'jobs.newstatesman.com' category has 973 samples representing 0.4% data.\n",
      "The 'Brand Republic Jobs' category has 962 samples representing 0.4% data.\n",
      "The 'nijobfinder.co.uk' category has 946 samples representing 0.4% data.\n",
      "The 'michaelpage.co.uk' category has 931 samples representing 0.4% data.\n",
      "The 'jobsineducation.co.uk' category has 875 samples representing 0.4% data.\n",
      "The 'Jobs Ac' category has 872 samples representing 0.4% data.\n",
      "The 'recruitni.com' category has 847 samples representing 0.3% data.\n",
      "The 'jobs4medical.co.uk' category has 838 samples representing 0.3% data.\n",
      "The 'legalweekjobs.com' category has 825 samples representing 0.3% data.\n",
      "The 'jobstoday.co.uk' category has 774 samples representing 0.3% data.\n",
      "The 'jobsinscotland.com' category has 773 samples representing 0.3% data.\n"
     ]
    }
   ],
   "source": [
    "# Check categories percent (%) + Missing data.\n",
    "for category in SourceName_values:\n",
    "    percentCategory = (category[1] / len(train_df.index)) * 100\n",
    "    print(f\"The '{category[0]}' category has {category[1]} samples representing {round(percentCategory, 1)}% data.\")"
   ]
  },
  {
   "cell_type": "markdown",
   "id": "5c8f4dc7-8039-4c13-8a21-fbd541b5a724",
   "metadata": {},
   "source": [
    "---"
   ]
  },
  {
   "cell_type": "markdown",
   "id": "7c32093e-5f2a-4452-aacb-94d3e41e1903",
   "metadata": {},
   "source": [
    "# Statistical Analysis\n",
    "\n",
    "> Finally, let's do a brief **Statistical Analysis** on the dataset."
   ]
  },
  {
   "cell_type": "markdown",
   "id": "5532dcaf-8b4c-4d2c-a953-9bd9d36ce9e1",
   "metadata": {},
   "source": [
    "**Statistical Overview:**"
   ]
  },
  {
   "cell_type": "code",
   "execution_count": 23,
   "id": "c585c441-e4e3-46b1-b143-df0f4003e43f",
   "metadata": {},
   "outputs": [
    {
     "data": {
      "text/html": [
       "<div>\n",
       "<style scoped>\n",
       "    .dataframe tbody tr th:only-of-type {\n",
       "        vertical-align: middle;\n",
       "    }\n",
       "\n",
       "    .dataframe tbody tr th {\n",
       "        vertical-align: top;\n",
       "    }\n",
       "\n",
       "    .dataframe thead th {\n",
       "        text-align: right;\n",
       "    }\n",
       "</style>\n",
       "<table border=\"1\" class=\"dataframe\">\n",
       "  <thead>\n",
       "    <tr style=\"text-align: right;\">\n",
       "      <th></th>\n",
       "      <th>Id</th>\n",
       "      <th>SalaryNormalized</th>\n",
       "    </tr>\n",
       "  </thead>\n",
       "  <tbody>\n",
       "    <tr>\n",
       "      <th>count</th>\n",
       "      <td>2.447680e+05</td>\n",
       "      <td>244768.000000</td>\n",
       "    </tr>\n",
       "    <tr>\n",
       "      <th>mean</th>\n",
       "      <td>6.970142e+07</td>\n",
       "      <td>34122.577576</td>\n",
       "    </tr>\n",
       "    <tr>\n",
       "      <th>std</th>\n",
       "      <td>3.129813e+06</td>\n",
       "      <td>17640.543124</td>\n",
       "    </tr>\n",
       "    <tr>\n",
       "      <th>min</th>\n",
       "      <td>1.261263e+07</td>\n",
       "      <td>5000.000000</td>\n",
       "    </tr>\n",
       "    <tr>\n",
       "      <th>25%</th>\n",
       "      <td>6.869550e+07</td>\n",
       "      <td>21500.000000</td>\n",
       "    </tr>\n",
       "    <tr>\n",
       "      <th>50%</th>\n",
       "      <td>6.993700e+07</td>\n",
       "      <td>30000.000000</td>\n",
       "    </tr>\n",
       "    <tr>\n",
       "      <th>75%</th>\n",
       "      <td>7.162606e+07</td>\n",
       "      <td>42500.000000</td>\n",
       "    </tr>\n",
       "    <tr>\n",
       "      <th>max</th>\n",
       "      <td>7.270524e+07</td>\n",
       "      <td>200000.000000</td>\n",
       "    </tr>\n",
       "  </tbody>\n",
       "</table>\n",
       "</div>"
      ],
      "text/plain": [
       "                 Id  SalaryNormalized\n",
       "count  2.447680e+05     244768.000000\n",
       "mean   6.970142e+07      34122.577576\n",
       "std    3.129813e+06      17640.543124\n",
       "min    1.261263e+07       5000.000000\n",
       "25%    6.869550e+07      21500.000000\n",
       "50%    6.993700e+07      30000.000000\n",
       "75%    7.162606e+07      42500.000000\n",
       "max    7.270524e+07     200000.000000"
      ]
     },
     "execution_count": 23,
     "metadata": {},
     "output_type": "execute_result"
    }
   ],
   "source": [
    "train_df.describe()"
   ]
  },
  {
   "cell_type": "markdown",
   "id": "ba56db37-0331-4974-afc4-ddd1ad085591",
   "metadata": {},
   "source": [
    "First, let's ignore *\"Id\"* feature and focus only on *\"SalaryNormalized\"*:\n",
    "\n",
    " - *SalaryNormalized:*\n",
    "   - The less salary (annual) was 5.000.\n",
    "   - The highest salary (annual) was 200.000.\n",
    "   - The salary (annual) *mean* was 34.122.\n",
    "   - The salary (annual) *median* was 30.000:\n",
    "     - Second quartile (Q2) or 50% of data.\n",
    "     - See that, our *median* is not far from our *mean*.\n",
    "   - The *Standard Deviation* was 17.640:\n",
    "     - The *Standard Deviation* represents how far we are from the *mean*."
   ]
  },
  {
   "cell_type": "markdown",
   "id": "fa82f7f8-3eb7-49da-bea0-0cb1dfdd342f",
   "metadata": {},
   "source": [
    "**Getting statistical \"mode\":** The describe() function doesn't return the \"mode\" from the data."
   ]
  },
  {
   "cell_type": "code",
   "execution_count": 24,
   "id": "640d4874-285a-47db-9d86-8d975986037c",
   "metadata": {},
   "outputs": [
    {
     "data": {
      "text/plain": [
       "0    35000\n",
       "Name: SalaryNormalized, dtype: int64"
      ]
     },
     "execution_count": 24,
     "metadata": {},
     "output_type": "execute_result"
    }
   ],
   "source": [
    "train_df.SalaryNormalized.mode()"
   ]
  },
  {
   "cell_type": "markdown",
   "id": "804cd7e2-b176-46eb-9bd6-bb1dd32e15bd",
   "metadata": {},
   "source": [
    "**NOTE:**  \n",
    "See that, our *mode* is not far from our *mean*."
   ]
  },
  {
   "cell_type": "markdown",
   "id": "a1eecd65-e9b3-4851-b00a-944589e615dd",
   "metadata": {},
   "source": [
    "**Getting the most common salaries:**  \n",
    "Now, let's use the \"Counter\" class to get the top 10 most common salaries."
   ]
  },
  {
   "cell_type": "code",
   "execution_count": 25,
   "id": "a6b451e8-3f95-4309-9e23-f9c846d24c40",
   "metadata": {},
   "outputs": [
    {
     "data": {
      "text/plain": [
       "[(35000, 9178),\n",
       " (30000, 8319),\n",
       " (40000, 7688),\n",
       " (45000, 6735),\n",
       " (25000, 6309),\n",
       " (32500, 6215),\n",
       " (37500, 5756),\n",
       " (27500, 5544),\n",
       " (50000, 5424),\n",
       " (42500, 4555)]"
      ]
     },
     "execution_count": 25,
     "metadata": {},
     "output_type": "execute_result"
    }
   ],
   "source": [
    "from collections import Counter\n",
    "c = Counter(train_df.SalaryNormalized)\n",
    "c.most_common(10)"
   ]
  },
  {
   "cell_type": "markdown",
   "id": "033e9129-1c8c-4509-b888-40ac82700acf",
   "metadata": {},
   "source": [
    "**NOTE:**  \n",
    " - See that the most common salary was 35.000 with 9.178 samples.\n",
    " - See also that the most common salary is not far from the mean."
   ]
  },
  {
   "cell_type": "markdown",
   "id": "da1c2a65-67d5-4e67-b9cd-ebd93a6fadef",
   "metadata": {},
   "source": [
    "---"
   ]
  },
  {
   "cell_type": "markdown",
   "id": "c8d41d17-4a40-42d8-a5c6-fa0fd397c16f",
   "metadata": {},
   "source": [
    "Ro**drigo** **L**eite da **S**ilva - **drigols**"
   ]
  }
 ],
 "metadata": {
  "kernelspec": {
   "display_name": "Python 3 (ipykernel)",
   "language": "python",
   "name": "python3"
  },
  "language_info": {
   "codemirror_mode": {
    "name": "ipython",
    "version": 3
   },
   "file_extension": ".py",
   "mimetype": "text/x-python",
   "name": "python",
   "nbconvert_exporter": "python",
   "pygments_lexer": "ipython3",
   "version": "3.10.12"
  }
 },
 "nbformat": 4,
 "nbformat_minor": 5
}
