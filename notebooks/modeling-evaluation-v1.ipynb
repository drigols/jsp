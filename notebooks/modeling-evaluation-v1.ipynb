{
 "cells": [
  {
   "cell_type": "markdown",
   "id": "9b8df903",
   "metadata": {},
   "source": [
    "# Modeling & Evaluation (v1)\n",
    "\n",
    "> Here, we go create **models** to make predicts and **Evaluation** how well our models learned."
   ]
  },
  {
   "cell_type": "markdown",
   "id": "f8d34181",
   "metadata": {},
   "source": [
    "---"
   ]
  },
  {
   "cell_type": "markdown",
   "id": "8a00e890",
   "metadata": {},
   "source": [
    "# \"Training\" class\n",
    "Here, we will create a **Training class** that will be used for training models in the future."
   ]
  },
  {
   "cell_type": "code",
   "execution_count": 1,
   "id": "70a1c3a9",
   "metadata": {},
   "outputs": [],
   "source": [
    "from datetime import datetime\n",
    "\n",
    "from sklearn.model_selection import train_test_split\n",
    "from catboost import CatBoostRegressor\n",
    "\n",
    "\n",
    "class Training:\n",
    "    \n",
    "    def split_data(self, x, y):\n",
    "\n",
    "        start_time = datetime.now()\n",
    "\n",
    "        X_train, X_valid, y_train, y_valid = train_test_split(X, y, test_size=0.3, random_state=42)\n",
    "        print(\"Data splitted!\")\n",
    "\n",
    "        end_time = datetime.now()\n",
    "        print('Method runtime: {}'.format(end_time - start_time))\n",
    "\n",
    "        return X_train, X_valid, y_train, y_valid\n",
    "\n",
    "\n",
    "\n",
    "    def catBoostRegressor(self, X_train, y_train, X_valid_or_test, cat_features=[0], predict=False):\n",
    "\n",
    "        start_time = datetime.now()\n",
    "        \n",
    "        train_data = X_train # X data.\n",
    "        train_labels = y_train # y data.\n",
    "        \n",
    "        model = CatBoostRegressor()\n",
    "        model.fit(\n",
    "            train_data,\n",
    "            train_labels,\n",
    "            cat_features\n",
    "        )\n",
    "        \n",
    "        if predict is True:\n",
    "            salaries_predicted = pd.DataFrame(model.predict(X_valid_or_test), columns=[\"SalaryNormalized\"])\n",
    "            end_time = datetime.now()\n",
    "            print('Method runtime: {}'.format(end_time - start_time))\n",
    "            return salaries_predicted"
   ]
  },
  {
   "cell_type": "code",
   "execution_count": 2,
   "id": "a4d73863",
   "metadata": {},
   "outputs": [],
   "source": [
    "# Training instance.\n",
    "training = Training()"
   ]
  },
  {
   "cell_type": "markdown",
   "id": "79f8b6ef",
   "metadata": {},
   "source": [
    "---"
   ]
  },
  {
   "cell_type": "markdown",
   "id": "a0783491",
   "metadata": {},
   "source": [
    "# Import Preprocessing class\n",
    "We also have a Preprocessing class to work with the data. Let's go use she to work here:"
   ]
  },
  {
   "cell_type": "code",
   "execution_count": 3,
   "id": "ebed682f",
   "metadata": {},
   "outputs": [],
   "source": [
    "%run \"../src/preprocessing.py\""
   ]
  },
  {
   "cell_type": "code",
   "execution_count": 4,
   "id": "f9bc29a9",
   "metadata": {},
   "outputs": [],
   "source": [
    "preprocessing = Preprocessing()"
   ]
  },
  {
   "cell_type": "markdown",
   "id": "f7819dba",
   "metadata": {},
   "source": [
    "# Getting Training and Testing sets"
   ]
  },
  {
   "cell_type": "code",
   "execution_count": 5,
   "id": "da242ea2",
   "metadata": {},
   "outputs": [
    {
     "name": "stdout",
     "output_type": "stream",
     "text": [
      "File extracted!\n",
      "Method runtime: 0:00:05.883333\n"
     ]
    }
   ],
   "source": [
    "# Extract training set.\n",
    "preprocessing.extract_7z_data(\"../datasets/Train_rev1.7z\")"
   ]
  },
  {
   "cell_type": "code",
   "execution_count": 6,
   "id": "1ec5cdc8",
   "metadata": {},
   "outputs": [
    {
     "name": "stdout",
     "output_type": "stream",
     "text": [
      "Training data is ready!\n",
      "Method runtime: 0:00:04.814837\n"
     ]
    }
   ],
   "source": [
    "df_training = preprocessing.get_training_data()"
   ]
  },
  {
   "cell_type": "markdown",
   "id": "4029cb85",
   "metadata": {},
   "source": [
    "---"
   ]
  },
  {
   "cell_type": "markdown",
   "id": "bfbac987",
   "metadata": {},
   "source": [
    "# Getting Independent and dependent (target) variables to training the model"
   ]
  },
  {
   "cell_type": "code",
   "execution_count": 7,
   "id": "a9912a3e",
   "metadata": {},
   "outputs": [
    {
     "data": {
      "text/html": [
       "<div>\n",
       "<style scoped>\n",
       "    .dataframe tbody tr th:only-of-type {\n",
       "        vertical-align: middle;\n",
       "    }\n",
       "\n",
       "    .dataframe tbody tr th {\n",
       "        vertical-align: top;\n",
       "    }\n",
       "\n",
       "    .dataframe thead th {\n",
       "        text-align: right;\n",
       "    }\n",
       "</style>\n",
       "<table border=\"1\" class=\"dataframe\">\n",
       "  <thead>\n",
       "    <tr style=\"text-align: right;\">\n",
       "      <th></th>\n",
       "      <th>ContractType</th>\n",
       "      <th>ContractTime</th>\n",
       "    </tr>\n",
       "  </thead>\n",
       "  <tbody>\n",
       "    <tr>\n",
       "      <th>0</th>\n",
       "      <td>0</td>\n",
       "      <td>permanent</td>\n",
       "    </tr>\n",
       "    <tr>\n",
       "      <th>1</th>\n",
       "      <td>0</td>\n",
       "      <td>permanent</td>\n",
       "    </tr>\n",
       "    <tr>\n",
       "      <th>2</th>\n",
       "      <td>0</td>\n",
       "      <td>permanent</td>\n",
       "    </tr>\n",
       "    <tr>\n",
       "      <th>3</th>\n",
       "      <td>0</td>\n",
       "      <td>permanent</td>\n",
       "    </tr>\n",
       "    <tr>\n",
       "      <th>4</th>\n",
       "      <td>0</td>\n",
       "      <td>permanent</td>\n",
       "    </tr>\n",
       "    <tr>\n",
       "      <th>...</th>\n",
       "      <td>...</td>\n",
       "      <td>...</td>\n",
       "    </tr>\n",
       "    <tr>\n",
       "      <th>244763</th>\n",
       "      <td>0</td>\n",
       "      <td>contract</td>\n",
       "    </tr>\n",
       "    <tr>\n",
       "      <th>244764</th>\n",
       "      <td>0</td>\n",
       "      <td>contract</td>\n",
       "    </tr>\n",
       "    <tr>\n",
       "      <th>244765</th>\n",
       "      <td>0</td>\n",
       "      <td>contract</td>\n",
       "    </tr>\n",
       "    <tr>\n",
       "      <th>244766</th>\n",
       "      <td>0</td>\n",
       "      <td>contract</td>\n",
       "    </tr>\n",
       "    <tr>\n",
       "      <th>244767</th>\n",
       "      <td>0</td>\n",
       "      <td>permanent</td>\n",
       "    </tr>\n",
       "  </tbody>\n",
       "</table>\n",
       "<p>244768 rows × 2 columns</p>\n",
       "</div>"
      ],
      "text/plain": [
       "       ContractType ContractTime\n",
       "0                 0    permanent\n",
       "1                 0    permanent\n",
       "2                 0    permanent\n",
       "3                 0    permanent\n",
       "4                 0    permanent\n",
       "...             ...          ...\n",
       "244763            0     contract\n",
       "244764            0     contract\n",
       "244765            0     contract\n",
       "244766            0     contract\n",
       "244767            0    permanent\n",
       "\n",
       "[244768 rows x 2 columns]"
      ]
     },
     "execution_count": 7,
     "metadata": {},
     "output_type": "execute_result"
    }
   ],
   "source": [
    "X = df_training.drop(columns=[\n",
    "    'Id',\n",
    "    'Title',\n",
    "    'FullDescription',\n",
    "    'LocationRaw',\n",
    "    'LocationNormalized',\n",
    "    'Company',\n",
    "    'Category',\n",
    "    'SalaryRaw',\n",
    "    'SalaryNormalized',\n",
    "    'SourceName'\n",
    "]).fillna(0)\n",
    "X"
   ]
  },
  {
   "cell_type": "code",
   "execution_count": 8,
   "id": "3dcace5e",
   "metadata": {},
   "outputs": [
    {
     "data": {
      "text/plain": [
       "0         25000\n",
       "1         30000\n",
       "2         30000\n",
       "3         27500\n",
       "4         25000\n",
       "          ...  \n",
       "244763    22800\n",
       "244764    22800\n",
       "244765    22800\n",
       "244766    22800\n",
       "244767    42500\n",
       "Name: SalaryNormalized, Length: 244768, dtype: int64"
      ]
     },
     "execution_count": 8,
     "metadata": {},
     "output_type": "execute_result"
    }
   ],
   "source": [
    "y = df_training[\"SalaryNormalized\"]\n",
    "y"
   ]
  },
  {
   "cell_type": "markdown",
   "id": "a04e759c",
   "metadata": {},
   "source": [
    "---"
   ]
  },
  {
   "cell_type": "markdown",
   "id": "2a229430",
   "metadata": {},
   "source": [
    "# Split data into Training and Testing"
   ]
  },
  {
   "cell_type": "code",
   "execution_count": 9,
   "id": "30a009e5",
   "metadata": {},
   "outputs": [
    {
     "name": "stdout",
     "output_type": "stream",
     "text": [
      "Data splitted!\n",
      "Method runtime: 0:00:00.031475\n"
     ]
    }
   ],
   "source": [
    "X_train, X_valid, y_train, y_valid = training.split_data(X, y)"
   ]
  },
  {
   "cell_type": "code",
   "execution_count": 10,
   "id": "ad859f18",
   "metadata": {},
   "outputs": [
    {
     "data": {
      "text/html": [
       "<div>\n",
       "<style scoped>\n",
       "    .dataframe tbody tr th:only-of-type {\n",
       "        vertical-align: middle;\n",
       "    }\n",
       "\n",
       "    .dataframe tbody tr th {\n",
       "        vertical-align: top;\n",
       "    }\n",
       "\n",
       "    .dataframe thead th {\n",
       "        text-align: right;\n",
       "    }\n",
       "</style>\n",
       "<table border=\"1\" class=\"dataframe\">\n",
       "  <thead>\n",
       "    <tr style=\"text-align: right;\">\n",
       "      <th></th>\n",
       "      <th>ContractType</th>\n",
       "      <th>ContractTime</th>\n",
       "    </tr>\n",
       "  </thead>\n",
       "  <tbody>\n",
       "    <tr>\n",
       "      <th>241453</th>\n",
       "      <td>0</td>\n",
       "      <td>permanent</td>\n",
       "    </tr>\n",
       "    <tr>\n",
       "      <th>169520</th>\n",
       "      <td>full_time</td>\n",
       "      <td>contract</td>\n",
       "    </tr>\n",
       "    <tr>\n",
       "      <th>136661</th>\n",
       "      <td>full_time</td>\n",
       "      <td>0</td>\n",
       "    </tr>\n",
       "    <tr>\n",
       "      <th>125435</th>\n",
       "      <td>0</td>\n",
       "      <td>contract</td>\n",
       "    </tr>\n",
       "    <tr>\n",
       "      <th>192568</th>\n",
       "      <td>0</td>\n",
       "      <td>permanent</td>\n",
       "    </tr>\n",
       "    <tr>\n",
       "      <th>...</th>\n",
       "      <td>...</td>\n",
       "      <td>...</td>\n",
       "    </tr>\n",
       "    <tr>\n",
       "      <th>119879</th>\n",
       "      <td>0</td>\n",
       "      <td>permanent</td>\n",
       "    </tr>\n",
       "    <tr>\n",
       "      <th>103694</th>\n",
       "      <td>0</td>\n",
       "      <td>permanent</td>\n",
       "    </tr>\n",
       "    <tr>\n",
       "      <th>131932</th>\n",
       "      <td>0</td>\n",
       "      <td>0</td>\n",
       "    </tr>\n",
       "    <tr>\n",
       "      <th>146867</th>\n",
       "      <td>0</td>\n",
       "      <td>0</td>\n",
       "    </tr>\n",
       "    <tr>\n",
       "      <th>121958</th>\n",
       "      <td>0</td>\n",
       "      <td>contract</td>\n",
       "    </tr>\n",
       "  </tbody>\n",
       "</table>\n",
       "<p>171337 rows × 2 columns</p>\n",
       "</div>"
      ],
      "text/plain": [
       "       ContractType ContractTime\n",
       "241453            0    permanent\n",
       "169520    full_time     contract\n",
       "136661    full_time            0\n",
       "125435            0     contract\n",
       "192568            0    permanent\n",
       "...             ...          ...\n",
       "119879            0    permanent\n",
       "103694            0    permanent\n",
       "131932            0            0\n",
       "146867            0            0\n",
       "121958            0     contract\n",
       "\n",
       "[171337 rows x 2 columns]"
      ]
     },
     "execution_count": 10,
     "metadata": {},
     "output_type": "execute_result"
    }
   ],
   "source": [
    "X_train"
   ]
  },
  {
   "cell_type": "code",
   "execution_count": 11,
   "id": "17ffd878",
   "metadata": {},
   "outputs": [
    {
     "data": {
      "text/html": [
       "<div>\n",
       "<style scoped>\n",
       "    .dataframe tbody tr th:only-of-type {\n",
       "        vertical-align: middle;\n",
       "    }\n",
       "\n",
       "    .dataframe tbody tr th {\n",
       "        vertical-align: top;\n",
       "    }\n",
       "\n",
       "    .dataframe thead th {\n",
       "        text-align: right;\n",
       "    }\n",
       "</style>\n",
       "<table border=\"1\" class=\"dataframe\">\n",
       "  <thead>\n",
       "    <tr style=\"text-align: right;\">\n",
       "      <th></th>\n",
       "      <th>ContractType</th>\n",
       "      <th>ContractTime</th>\n",
       "    </tr>\n",
       "  </thead>\n",
       "  <tbody>\n",
       "    <tr>\n",
       "      <th>30390</th>\n",
       "      <td>0</td>\n",
       "      <td>permanent</td>\n",
       "    </tr>\n",
       "    <tr>\n",
       "      <th>108709</th>\n",
       "      <td>full_time</td>\n",
       "      <td>0</td>\n",
       "    </tr>\n",
       "    <tr>\n",
       "      <th>13924</th>\n",
       "      <td>full_time</td>\n",
       "      <td>permanent</td>\n",
       "    </tr>\n",
       "    <tr>\n",
       "      <th>154606</th>\n",
       "      <td>full_time</td>\n",
       "      <td>permanent</td>\n",
       "    </tr>\n",
       "    <tr>\n",
       "      <th>172891</th>\n",
       "      <td>0</td>\n",
       "      <td>permanent</td>\n",
       "    </tr>\n",
       "    <tr>\n",
       "      <th>...</th>\n",
       "      <td>...</td>\n",
       "      <td>...</td>\n",
       "    </tr>\n",
       "    <tr>\n",
       "      <th>196783</th>\n",
       "      <td>0</td>\n",
       "      <td>permanent</td>\n",
       "    </tr>\n",
       "    <tr>\n",
       "      <th>157358</th>\n",
       "      <td>0</td>\n",
       "      <td>permanent</td>\n",
       "    </tr>\n",
       "    <tr>\n",
       "      <th>73696</th>\n",
       "      <td>0</td>\n",
       "      <td>permanent</td>\n",
       "    </tr>\n",
       "    <tr>\n",
       "      <th>142365</th>\n",
       "      <td>part_time</td>\n",
       "      <td>0</td>\n",
       "    </tr>\n",
       "    <tr>\n",
       "      <th>105535</th>\n",
       "      <td>0</td>\n",
       "      <td>permanent</td>\n",
       "    </tr>\n",
       "  </tbody>\n",
       "</table>\n",
       "<p>73431 rows × 2 columns</p>\n",
       "</div>"
      ],
      "text/plain": [
       "       ContractType ContractTime\n",
       "30390             0    permanent\n",
       "108709    full_time            0\n",
       "13924     full_time    permanent\n",
       "154606    full_time    permanent\n",
       "172891            0    permanent\n",
       "...             ...          ...\n",
       "196783            0    permanent\n",
       "157358            0    permanent\n",
       "73696             0    permanent\n",
       "142365    part_time            0\n",
       "105535            0    permanent\n",
       "\n",
       "[73431 rows x 2 columns]"
      ]
     },
     "execution_count": 11,
     "metadata": {},
     "output_type": "execute_result"
    }
   ],
   "source": [
    "X_valid"
   ]
  },
  {
   "cell_type": "code",
   "execution_count": 12,
   "id": "1ad8072f",
   "metadata": {},
   "outputs": [
    {
     "data": {
      "text/plain": [
       "241453    19000\n",
       "169520    29172\n",
       "136661    23000\n",
       "125435    13440\n",
       "192568    48000\n",
       "          ...  \n",
       "119879    79000\n",
       "103694    19000\n",
       "131932    52000\n",
       "146867    30000\n",
       "121958    12950\n",
       "Name: SalaryNormalized, Length: 171337, dtype: int64"
      ]
     },
     "execution_count": 12,
     "metadata": {},
     "output_type": "execute_result"
    }
   ],
   "source": [
    "y_train"
   ]
  },
  {
   "cell_type": "code",
   "execution_count": 13,
   "id": "ca341d56",
   "metadata": {},
   "outputs": [
    {
     "data": {
      "text/plain": [
       "30390     23500\n",
       "108709    23040\n",
       "13924     34850\n",
       "154606    22500\n",
       "172891    55000\n",
       "          ...  \n",
       "196783    51000\n",
       "157358    27000\n",
       "73696     15500\n",
       "142365    27819\n",
       "105535    21500\n",
       "Name: SalaryNormalized, Length: 73431, dtype: int64"
      ]
     },
     "execution_count": 13,
     "metadata": {},
     "output_type": "execute_result"
    }
   ],
   "source": [
    "y_valid"
   ]
  },
  {
   "cell_type": "markdown",
   "id": "f734b7fc",
   "metadata": {},
   "source": [
    "---"
   ]
  },
  {
   "cell_type": "markdown",
   "id": "f6a57792",
   "metadata": {},
   "source": [
    "# Training the model"
   ]
  },
  {
   "cell_type": "code",
   "execution_count": 15,
   "id": "6a8ca453",
   "metadata": {},
   "outputs": [],
   "source": [
    "from catboost import Pool\n",
    "\n",
    "# Encapsulate training data.\n",
    "pool_train = Pool(\n",
    "    X_train,\n",
    "    y_train,\n",
    "    cat_features = ['ContractType', 'ContractTime'],\n",
    ")\n",
    "\n",
    "# Encapsulate validate data.\n",
    "pool_valid = Pool(\n",
    "    X_valid,\n",
    "    y_valid,\n",
    "    cat_features = ['ContractType', 'ContractTime'],\n",
    ")"
   ]
  },
  {
   "cell_type": "code",
   "execution_count": 16,
   "id": "4dabbfd1",
   "metadata": {},
   "outputs": [
    {
     "data": {
      "text/plain": [
       "<catboost.core.CatBoostRegressor at 0x1ee9e853370>"
      ]
     },
     "execution_count": 16,
     "metadata": {},
     "output_type": "execute_result"
    }
   ],
   "source": [
    "from catboost import CatBoostRegressor\n",
    "\n",
    "model = CatBoostRegressor()\n",
    "\n",
    "model.fit(\n",
    "    pool_train,\n",
    "    eval_set=pool_valid,\n",
    "    silent=True,\n",
    ")"
   ]
  },
  {
   "cell_type": "markdown",
   "id": "e2b86185",
   "metadata": {},
   "source": [
    "# Making predicts\n",
    "Now, let's do some predicts:"
   ]
  },
  {
   "cell_type": "code",
   "execution_count": 17,
   "id": "c1ef30db",
   "metadata": {},
   "outputs": [],
   "source": [
    "salaries_predicted = model.predict(X_valid)"
   ]
  },
  {
   "cell_type": "code",
   "execution_count": 18,
   "id": "88feffae",
   "metadata": {},
   "outputs": [
    {
     "data": {
      "text/plain": [
       "(73431,)"
      ]
     },
     "execution_count": 18,
     "metadata": {},
     "output_type": "execute_result"
    }
   ],
   "source": [
    "salaries_predicted.shape"
   ]
  },
  {
   "cell_type": "code",
   "execution_count": 19,
   "id": "b074a912",
   "metadata": {},
   "outputs": [
    {
     "data": {
      "text/plain": [
       "array([35356.20052772, 24519.87864313, 35898.96578245, ...,\n",
       "       35356.20052772, 18477.37896706, 35356.20052772])"
      ]
     },
     "execution_count": 19,
     "metadata": {},
     "output_type": "execute_result"
    }
   ],
   "source": [
    "salaries_predicted"
   ]
  },
  {
   "cell_type": "markdown",
   "id": "abd301c8",
   "metadata": {},
   "source": [
    "# Comparing predicts with \"y_valid\""
   ]
  },
  {
   "cell_type": "code",
   "execution_count": 20,
   "id": "92dfb155",
   "metadata": {},
   "outputs": [
    {
     "data": {
      "text/html": [
       "<div>\n",
       "<style scoped>\n",
       "    .dataframe tbody tr th:only-of-type {\n",
       "        vertical-align: middle;\n",
       "    }\n",
       "\n",
       "    .dataframe tbody tr th {\n",
       "        vertical-align: top;\n",
       "    }\n",
       "\n",
       "    .dataframe thead th {\n",
       "        text-align: right;\n",
       "    }\n",
       "</style>\n",
       "<table border=\"1\" class=\"dataframe\">\n",
       "  <thead>\n",
       "    <tr style=\"text-align: right;\">\n",
       "      <th></th>\n",
       "      <th>salary_predicted</th>\n",
       "    </tr>\n",
       "  </thead>\n",
       "  <tbody>\n",
       "    <tr>\n",
       "      <th>count</th>\n",
       "      <td>73431.000000</td>\n",
       "    </tr>\n",
       "    <tr>\n",
       "      <th>mean</th>\n",
       "      <td>34160.545258</td>\n",
       "    </tr>\n",
       "    <tr>\n",
       "      <th>std</th>\n",
       "      <td>4154.619585</td>\n",
       "    </tr>\n",
       "    <tr>\n",
       "      <th>min</th>\n",
       "      <td>18477.378967</td>\n",
       "    </tr>\n",
       "    <tr>\n",
       "      <th>25%</th>\n",
       "      <td>35356.200528</td>\n",
       "    </tr>\n",
       "    <tr>\n",
       "      <th>50%</th>\n",
       "      <td>35356.200528</td>\n",
       "    </tr>\n",
       "    <tr>\n",
       "      <th>75%</th>\n",
       "      <td>35767.796688</td>\n",
       "    </tr>\n",
       "    <tr>\n",
       "      <th>max</th>\n",
       "      <td>36596.411695</td>\n",
       "    </tr>\n",
       "  </tbody>\n",
       "</table>\n",
       "</div>"
      ],
      "text/plain": [
       "       salary_predicted\n",
       "count      73431.000000\n",
       "mean       34160.545258\n",
       "std         4154.619585\n",
       "min        18477.378967\n",
       "25%        35356.200528\n",
       "50%        35356.200528\n",
       "75%        35767.796688\n",
       "max        36596.411695"
      ]
     },
     "execution_count": 20,
     "metadata": {},
     "output_type": "execute_result"
    }
   ],
   "source": [
    "df_salaries_predicted = pd.DataFrame(salaries_predicted)\n",
    "df_salaries_predicted.columns = ['salary_predicted']\n",
    "df_salaries_predicted.describe()"
   ]
  },
  {
   "cell_type": "code",
   "execution_count": 21,
   "id": "32320acd",
   "metadata": {},
   "outputs": [
    {
     "data": {
      "text/html": [
       "<div>\n",
       "<style scoped>\n",
       "    .dataframe tbody tr th:only-of-type {\n",
       "        vertical-align: middle;\n",
       "    }\n",
       "\n",
       "    .dataframe tbody tr th {\n",
       "        vertical-align: top;\n",
       "    }\n",
       "\n",
       "    .dataframe thead th {\n",
       "        text-align: right;\n",
       "    }\n",
       "</style>\n",
       "<table border=\"1\" class=\"dataframe\">\n",
       "  <thead>\n",
       "    <tr style=\"text-align: right;\">\n",
       "      <th></th>\n",
       "      <th>salary_predicted</th>\n",
       "    </tr>\n",
       "  </thead>\n",
       "  <tbody>\n",
       "    <tr>\n",
       "      <th>0</th>\n",
       "      <td>35356.200528</td>\n",
       "    </tr>\n",
       "  </tbody>\n",
       "</table>\n",
       "</div>"
      ],
      "text/plain": [
       "   salary_predicted\n",
       "0      35356.200528"
      ]
     },
     "execution_count": 21,
     "metadata": {},
     "output_type": "execute_result"
    }
   ],
   "source": [
    "df_salaries_predicted.mode()"
   ]
  },
  {
   "cell_type": "code",
   "execution_count": 22,
   "id": "bd5cca5b",
   "metadata": {},
   "outputs": [
    {
     "data": {
      "text/html": [
       "<div>\n",
       "<style scoped>\n",
       "    .dataframe tbody tr th:only-of-type {\n",
       "        vertical-align: middle;\n",
       "    }\n",
       "\n",
       "    .dataframe tbody tr th {\n",
       "        vertical-align: top;\n",
       "    }\n",
       "\n",
       "    .dataframe thead th {\n",
       "        text-align: right;\n",
       "    }\n",
       "</style>\n",
       "<table border=\"1\" class=\"dataframe\">\n",
       "  <thead>\n",
       "    <tr style=\"text-align: right;\">\n",
       "      <th></th>\n",
       "      <th>y_valid</th>\n",
       "    </tr>\n",
       "  </thead>\n",
       "  <tbody>\n",
       "    <tr>\n",
       "      <th>count</th>\n",
       "      <td>73431.000000</td>\n",
       "    </tr>\n",
       "    <tr>\n",
       "      <th>mean</th>\n",
       "      <td>34070.297531</td>\n",
       "    </tr>\n",
       "    <tr>\n",
       "      <th>std</th>\n",
       "      <td>17589.390641</td>\n",
       "    </tr>\n",
       "    <tr>\n",
       "      <th>min</th>\n",
       "      <td>5000.000000</td>\n",
       "    </tr>\n",
       "    <tr>\n",
       "      <th>25%</th>\n",
       "      <td>21500.000000</td>\n",
       "    </tr>\n",
       "    <tr>\n",
       "      <th>50%</th>\n",
       "      <td>30000.000000</td>\n",
       "    </tr>\n",
       "    <tr>\n",
       "      <th>75%</th>\n",
       "      <td>42500.000000</td>\n",
       "    </tr>\n",
       "    <tr>\n",
       "      <th>max</th>\n",
       "      <td>200000.000000</td>\n",
       "    </tr>\n",
       "  </tbody>\n",
       "</table>\n",
       "</div>"
      ],
      "text/plain": [
       "             y_valid\n",
       "count   73431.000000\n",
       "mean    34070.297531\n",
       "std     17589.390641\n",
       "min      5000.000000\n",
       "25%     21500.000000\n",
       "50%     30000.000000\n",
       "75%     42500.000000\n",
       "max    200000.000000"
      ]
     },
     "execution_count": 22,
     "metadata": {},
     "output_type": "execute_result"
    }
   ],
   "source": [
    "df_y_valid = pd.DataFrame(y_valid)\n",
    "df_y_valid.columns = ['y_valid']\n",
    "df_y_valid.describe()"
   ]
  },
  {
   "cell_type": "code",
   "execution_count": 23,
   "id": "0c08461c",
   "metadata": {},
   "outputs": [
    {
     "data": {
      "text/html": [
       "<div>\n",
       "<style scoped>\n",
       "    .dataframe tbody tr th:only-of-type {\n",
       "        vertical-align: middle;\n",
       "    }\n",
       "\n",
       "    .dataframe tbody tr th {\n",
       "        vertical-align: top;\n",
       "    }\n",
       "\n",
       "    .dataframe thead th {\n",
       "        text-align: right;\n",
       "    }\n",
       "</style>\n",
       "<table border=\"1\" class=\"dataframe\">\n",
       "  <thead>\n",
       "    <tr style=\"text-align: right;\">\n",
       "      <th></th>\n",
       "      <th>y_valid</th>\n",
       "    </tr>\n",
       "  </thead>\n",
       "  <tbody>\n",
       "    <tr>\n",
       "      <th>0</th>\n",
       "      <td>35000</td>\n",
       "    </tr>\n",
       "  </tbody>\n",
       "</table>\n",
       "</div>"
      ],
      "text/plain": [
       "   y_valid\n",
       "0    35000"
      ]
     },
     "execution_count": 23,
     "metadata": {},
     "output_type": "execute_result"
    }
   ],
   "source": [
    "df_y_valid.mode()"
   ]
  },
  {
   "cell_type": "markdown",
   "id": "578f4d7e",
   "metadata": {},
   "source": [
    " - **Min value:**\n",
    "   - Salary predicted: 18.477\n",
    "   - y_valid: 5.000\n",
    " - **Max value:**\n",
    "   - Salary predicted: 36.596\n",
    "   - y_valid: 200.000\n",
    " - **Mean:**\n",
    "   - Salary predicted: 34.160\n",
    "   - y_valid: 34.070\n",
    " - **Median:**\n",
    "   - Salary predicted: 35.356\n",
    "   - y_valid: 30.000\n",
    " - **Mode:**\n",
    "   - Salary predicted: 35.356\n",
    "   - y_valid: 35.000\n",
    " - **Standard Deviation:**\n",
    "   - Salary predicted: 4.154\n",
    "   - y_valid: 17.589"
   ]
  },
  {
   "cell_type": "markdown",
   "id": "903ef177",
   "metadata": {},
   "source": [
    "---"
   ]
  },
  {
   "cell_type": "markdown",
   "id": "37fe27ab",
   "metadata": {},
   "source": [
    "# Evaluation the model\n",
    "\n",
    "> Finally, let's go **Evaluation the model**.\n",
    "\n",
    "The **Evaluation Metric** is **[MAE](https://en.wikipedia.org/wiki/Mean_absolute_error)**."
   ]
  },
  {
   "cell_type": "code",
   "execution_count": 24,
   "id": "d0f1c4b1",
   "metadata": {},
   "outputs": [],
   "source": [
    "from sklearn.metrics import mean_absolute_error"
   ]
  },
  {
   "cell_type": "code",
   "execution_count": 25,
   "id": "0853a9c3",
   "metadata": {},
   "outputs": [
    {
     "data": {
      "text/plain": [
       "12877.813536658401"
      ]
     },
     "execution_count": 25,
     "metadata": {},
     "output_type": "execute_result"
    }
   ],
   "source": [
    "mae = mean_absolute_error(y_valid, salaries_predicted)\n",
    "mae"
   ]
  },
  {
   "cell_type": "markdown",
   "id": "44c22a76",
   "metadata": {},
   "source": [
    "---"
   ]
  },
  {
   "cell_type": "markdown",
   "id": "e7a38c9f",
   "metadata": {},
   "source": [
    "# Modeling & Evaluation (v1) - Resume\n",
    "\n",
    " - **In this model, we use the features:**\n",
    "   - **Independent variables:**\n",
    "     - ContractType\n",
    "     - ContractTime\n",
    "   - **Dependent variables:**\n",
    "     - SalaryNormalized\n",
    " - **Preprocessing:**\n",
    "   - We only apply \"fillna = 0\" to missing data.\n",
    "     - ContractType had 73% missing data.\n",
    "     - ContractTime had 26% missing data.\n",
    "   - **NOTE:**\n",
    "     - We have many missing data, but the focus for now is creating a baseline model (baseline, dummy, PoC, prototype).\n",
    "     - That's, creates a more simple model possible.\n",
    " - **Comparison between predicted data and validation data (y_valid):**\n",
    "   - **Min value:**\n",
    "     - Salary predicted: 18.477\n",
    "     - y_valid: 5.000\n",
    "   - **Max value:**\n",
    "     - Salary predicted: 36.596\n",
    "     - y_valid: 200.000\n",
    "   - **Mean:**\n",
    "     - Salary predicted: 34.160\n",
    "     - y_valid: 34.070\n",
    "   - **Median:**\n",
    "     - Salary predicted: 35.356\n",
    "     - y_valid: 30.000\n",
    "   - **Mode:**\n",
    "     - Salary predicted: 35.356\n",
    "     - y_valid: 35.000\n",
    "   - **Standard Deviation:**\n",
    "     - Salary predicted: 4.154\n",
    "     - y_valid: 17.589\n",
    " - **The result of Evaluation Metric (MAE) was:**\n",
    "   - 12877.813536658401"
   ]
  },
  {
   "cell_type": "markdown",
   "id": "73a363bb",
   "metadata": {},
   "source": [
    "---"
   ]
  },
  {
   "cell_type": "markdown",
   "id": "c1b26576",
   "metadata": {},
   "source": [
    "Ro**drigo** **L**eite da **S**ilva - **drigols**"
   ]
  }
 ],
 "metadata": {
  "kernelspec": {
   "display_name": "Python 3 (ipykernel)",
   "language": "python",
   "name": "python3"
  },
  "language_info": {
   "codemirror_mode": {
    "name": "ipython",
    "version": 3
   },
   "file_extension": ".py",
   "mimetype": "text/x-python",
   "name": "python",
   "nbconvert_exporter": "python",
   "pygments_lexer": "ipython3",
   "version": "3.10.0"
  },
  "vscode": {
   "interpreter": {
    "hash": "044f4585b8a1c164933773d30e73c15bb4bc9687ac31d60085f99e2c1c0a6795"
   }
  }
 },
 "nbformat": 4,
 "nbformat_minor": 5
}
