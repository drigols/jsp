{
 "cells": [
  {
   "cell_type": "markdown",
   "id": "770d412e",
   "metadata": {},
   "source": [
    "# Data Preprocessing"
   ]
  },
  {
   "cell_type": "markdown",
   "id": "3fb5ac4a",
   "metadata": {},
   "source": [
    "---"
   ]
  },
  {
   "cell_type": "markdown",
   "id": "3489ba89",
   "metadata": {},
   "source": [
    "# \"Preprocessing\" class\n",
    "Here, we will create a Preprocessing class that will be used for **preprocessing data** in the future."
   ]
  },
  {
   "cell_type": "code",
   "execution_count": 3,
   "id": "5d87ed8f",
   "metadata": {},
   "outputs": [],
   "source": [
    "import pandas as pd\n",
    "import platform\n",
    "import py7zr\n",
    "\n",
    "from datetime import datetime\n",
    "\n",
    "class Preprocessing:\n",
    "\n",
    "    def extract_7z_data(self, path):\n",
    "        \n",
    "        start_time = datetime.now()\n",
    "        \n",
    "        # For Windows users.\n",
    "        if platform.system() == 'Windows':\n",
    "            try:\n",
    "\n",
    "                with py7zr.SevenZipFile(path, mode='r') as archive:\n",
    "                    archive.extractall(path=\"C:\\Windows\\Temp\")\n",
    "            except FileNotFoundError:\n",
    "                print(\"File or path not found!\")\n",
    "            else:\n",
    "                print(\"File extracted!\")\n",
    "        # For Linux users.\n",
    "        elif platform.system() == 'Linux':\n",
    "            try:\n",
    "                with py7zr.SevenZipFile(path, mode='r') as archive:\n",
    "                    archive.extractall(path=\"/tmp\")\n",
    "            except FileNotFoundError:\n",
    "                print(\"File or path not found!\")\n",
    "            else:\n",
    "                print(\"File extracted!\")\n",
    "        else:\n",
    "            print(\"This method only works with Windows and Linux Operating Systems.\")\n",
    "        \n",
    "        # Time used to extract the file.\n",
    "        end_time = datetime.now()\n",
    "        print('Method runtime: {}'.format(end_time - start_time))\n",
    "\n",
    "        \n",
    "    def get_training_data(self):\n",
    "\n",
    "        start_time = datetime.now()\n",
    "\n",
    "        # For Windows users.\n",
    "        if platform.system() == 'Windows':\n",
    "            try:\n",
    "                df_training = pd.read_csv(\"C:\\Windows\\Temp\\Train_rev1.csv\")\n",
    "            except FileNotFoundError:\n",
    "                print(\"File or path not found!\")\n",
    "            else:\n",
    "                print(\"Training data is ready!\")\n",
    "                # Time used to get the file.\n",
    "                end_time = datetime.now()\n",
    "                print('Method runtime: {}'.format(end_time - start_time))\n",
    "                return df_training\n",
    "        # For Linux users.\n",
    "        elif platform.system() == 'Linux':\n",
    "            try:\n",
    "                df_training = pd.read_csv(\"/tmp/Train_rev1.csv\")\n",
    "            except FileNotFoundError:\n",
    "                print(\"File or path not found!\")\n",
    "            else:\n",
    "                print(\"Training data is ready!\")\n",
    "                # Time used to get the file.\n",
    "                end_time = datetime.now()\n",
    "                print('Method runtime: {}'.format(end_time - start_time))\n",
    "                return df_training\n",
    "\n",
    "\n",
    "    def get_testing_data(self):\n",
    "        \n",
    "        start_time = datetime.now()\n",
    "        \n",
    "        # For Windows users.\n",
    "        if platform.system() == 'Windows':\n",
    "            try:\n",
    "                df_testing = pd.read_csv(\"C:\\Windows\\Temp\\Test_rev1.csv\")\n",
    "            except FileNotFoundError:\n",
    "                print(\"File or path not found!\")\n",
    "            else:\n",
    "                print(\"Testing data ready!\")\n",
    "                # Time used to get the file.\n",
    "                end_time = datetime.now()\n",
    "                print('Method runtime: {}'.format(end_time - start_time))\n",
    "                return df_testing\n",
    "        # For Linux users.\n",
    "        elif platform.system() == 'Linux':\n",
    "            try:\n",
    "                df_testing = pd.read_csv(\"/tmp/Test_rev1.7z\")\n",
    "            except FileNotFoundError:\n",
    "                print(\"File or path not found!\")\n",
    "            else:\n",
    "                print(\"Testing data ready!\")\n",
    "                # Time used to get the file.\n",
    "                end_time = datetime.now()\n",
    "                print('Method runtime: {}'.format(end_time - start_time))\n",
    "                return df_testing"
   ]
  },
  {
   "cell_type": "code",
   "execution_count": 4,
   "id": "4c77d1d8",
   "metadata": {},
   "outputs": [],
   "source": [
    "# Preprocessing instance.\n",
    "preprocessing = Preprocessing()"
   ]
  },
  {
   "cell_type": "markdown",
   "id": "dab6c1f0",
   "metadata": {},
   "source": [
    "---"
   ]
  },
  {
   "cell_type": "markdown",
   "id": "5564fb6f",
   "metadata": {},
   "source": [
    "# Extracting Training and Testing sets"
   ]
  },
  {
   "cell_type": "code",
   "execution_count": 5,
   "id": "fd8b7ab9",
   "metadata": {},
   "outputs": [
    {
     "name": "stdout",
     "output_type": "stream",
     "text": [
      "File extracted!\n",
      "Method runtime: 0:00:06.291400\n"
     ]
    }
   ],
   "source": [
    "# Extract training set.\n",
    "preprocessing.extract_7z_data(\"../datasets/Train_rev1.7z\")"
   ]
  },
  {
   "cell_type": "code",
   "execution_count": 6,
   "id": "8f4cc54f",
   "metadata": {},
   "outputs": [
    {
     "name": "stdout",
     "output_type": "stream",
     "text": [
      "File extracted!\n",
      "Method runtime: 0:00:08.217949\n"
     ]
    }
   ],
   "source": [
    "# Extract testing set.\n",
    "preprocessing.extract_7z_data(\"../datasets/Test_rev1.7z\")"
   ]
  },
  {
   "cell_type": "markdown",
   "id": "b9547fc8",
   "metadata": {},
   "source": [
    "---"
   ]
  },
  {
   "cell_type": "markdown",
   "id": "ebee5d7b",
   "metadata": {},
   "source": [
    "# Getting training and testing sets"
   ]
  },
  {
   "cell_type": "code",
   "execution_count": 7,
   "id": "8fb52244",
   "metadata": {},
   "outputs": [
    {
     "name": "stdout",
     "output_type": "stream",
     "text": [
      "Training data is ready!\n",
      "Method runtime: 0:00:05.150901\n"
     ]
    }
   ],
   "source": [
    "df_train = preprocessing.get_training_data()"
   ]
  },
  {
   "cell_type": "code",
   "execution_count": 8,
   "id": "839992a7",
   "metadata": {},
   "outputs": [
    {
     "name": "stdout",
     "output_type": "stream",
     "text": [
      "Testing data ready!\n",
      "Method runtime: 0:00:02.585301\n"
     ]
    }
   ],
   "source": [
    "df_test = preprocessing.get_testing_data()"
   ]
  },
  {
   "cell_type": "markdown",
   "id": "76bbc33b",
   "metadata": {},
   "source": [
    "---"
   ]
  },
  {
   "cell_type": "markdown",
   "id": "685d11b1",
   "metadata": {},
   "source": [
    "Ro**drigo** **L**eite da **S**ilva - **drigols**"
   ]
  }
 ],
 "metadata": {
  "kernelspec": {
   "display_name": "Python 3 (ipykernel)",
   "language": "python",
   "name": "python3"
  },
  "language_info": {
   "codemirror_mode": {
    "name": "ipython",
    "version": 3
   },
   "file_extension": ".py",
   "mimetype": "text/x-python",
   "name": "python",
   "nbconvert_exporter": "python",
   "pygments_lexer": "ipython3",
   "version": "3.10.5"
  }
 },
 "nbformat": 4,
 "nbformat_minor": 5
}
