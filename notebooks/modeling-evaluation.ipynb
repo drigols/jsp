{
 "cells": [
  {
   "cell_type": "markdown",
   "id": "9b8df903",
   "metadata": {},
   "source": [
    "# Modeling & Evaluation"
   ]
  },
  {
   "cell_type": "markdown",
   "id": "f8d34181",
   "metadata": {},
   "source": [
    "---"
   ]
  },
  {
   "cell_type": "markdown",
   "id": "8cc51c81",
   "metadata": {},
   "source": [
    "# Download necessary libraries"
   ]
  },
  {
   "cell_type": "code",
   "execution_count": 25,
   "id": "417007f6",
   "metadata": {},
   "outputs": [],
   "source": [
    "# To download the necessary libraries remove the comment and run this cell.\n",
    "#!pip install --upgrade -r ../requirements.txt --user"
   ]
  },
  {
   "cell_type": "markdown",
   "id": "ee943a2b",
   "metadata": {},
   "source": [
    "---"
   ]
  },
  {
   "cell_type": "markdown",
   "id": "8a00e890",
   "metadata": {},
   "source": [
    "# \"Training\" class\n",
    "Here, we will create a **Training class** that will be used for training models in the future."
   ]
  },
  {
   "cell_type": "code",
   "execution_count": 27,
   "id": "70a1c3a9",
   "metadata": {},
   "outputs": [
    {
     "ename": "ModuleNotFoundError",
     "evalue": "No module named 'sklearn'",
     "output_type": "error",
     "traceback": [
      "\u001b[1;31m---------------------------------------------------------------------------\u001b[0m",
      "\u001b[1;31mModuleNotFoundError\u001b[0m                       Traceback (most recent call last)",
      "Cell \u001b[1;32mIn [27], line 3\u001b[0m\n\u001b[0;32m      1\u001b[0m \u001b[38;5;28;01mfrom\u001b[39;00m \u001b[38;5;21;01mdatetime\u001b[39;00m \u001b[38;5;28;01mimport\u001b[39;00m datetime\n\u001b[1;32m----> 3\u001b[0m \u001b[38;5;28;01mfrom\u001b[39;00m \u001b[38;5;21;01msklearn\u001b[39;00m\u001b[38;5;21;01m.\u001b[39;00m\u001b[38;5;21;01mmodel_selection\u001b[39;00m \u001b[38;5;28;01mimport\u001b[39;00m train_test_split\n\u001b[0;32m      6\u001b[0m \u001b[38;5;28;01mclass\u001b[39;00m \u001b[38;5;21;01mTraining\u001b[39;00m:\n\u001b[0;32m      8\u001b[0m     \u001b[38;5;28;01mdef\u001b[39;00m \u001b[38;5;21msplit_data\u001b[39m(\u001b[38;5;28mself\u001b[39m, x, y):\n",
      "\u001b[1;31mModuleNotFoundError\u001b[0m: No module named 'sklearn'"
     ]
    }
   ],
   "source": [
    "from datetime import datetime\n",
    "\n",
    "from sklearn.model_selection import train_test_split\n",
    "\n",
    "\n",
    "class Training:\n",
    "    \n",
    "    def split_data(self, x, y):\n",
    "        start_time = datetime.now()\n",
    "        x_train, x_valid, y_train, y_valid = train_test_split(x, y, test_size=0.3, random_state=42)\n",
    "        end_time = datetime.now()\n",
    "        print(\"Data splitted!\")\n",
    "        print('Method runtime: {}'.format(end_time - start_time))\n",
    "        return x_train, x_valid, y_train, y_valid\n",
    "    \n",
    "    def training_catboost(self, x_train, y_train, x_valid_test, predict=False, model_name=None):\n",
    "        start_time = datetime.now()\n",
    "        model = LinearRegression() # Instance.\n",
    "        model.fit(x_train, y_train) # Training.\n",
    "        # Save model process.\n",
    "        if model_name is not None:\n",
    "          joblib.dump(\n",
    "            value=model,\n",
    "            filename=f\"../resources/load/{model_name}.pkl\"\n",
    "          )\n",
    "          print(\"Model saved!\")\n",
    "        # Predict process.\n",
    "        if predict is True:\n",
    "          salaries_predicted = pd.DataFrame(model.predict(x_valid_test), columns=[\"SalaryNormalized\"])\n",
    "          end_time = datetime.now()\n",
    "          print('Method runtime: {}'.format(end_time - start_time))\n",
    "          return salaries_predicted"
   ]
  },
  {
   "cell_type": "code",
   "execution_count": 16,
   "id": "a4d73863",
   "metadata": {},
   "outputs": [],
   "source": [
    "# Training instance.\n",
    "training = Training()"
   ]
  },
  {
   "cell_type": "markdown",
   "id": "79f8b6ef",
   "metadata": {},
   "source": [
    "---"
   ]
  },
  {
   "cell_type": "markdown",
   "id": "a0783491",
   "metadata": {},
   "source": [
    "# Import Preprocessing class\n",
    "We also have a Preprocessing class to work with the data. Let's go use she to work here:"
   ]
  },
  {
   "cell_type": "code",
   "execution_count": 17,
   "id": "ebed682f",
   "metadata": {},
   "outputs": [],
   "source": [
    "%run \"../src/preprocessing.py\""
   ]
  },
  {
   "cell_type": "code",
   "execution_count": 18,
   "id": "f9bc29a9",
   "metadata": {},
   "outputs": [],
   "source": [
    "preprocessing = Preprocessing()"
   ]
  },
  {
   "cell_type": "markdown",
   "id": "f7819dba",
   "metadata": {},
   "source": [
    "# Getting Training and Testing sets"
   ]
  },
  {
   "cell_type": "code",
   "execution_count": 19,
   "id": "da242ea2",
   "metadata": {},
   "outputs": [
    {
     "name": "stdout",
     "output_type": "stream",
     "text": [
      "File extracted!\n",
      "Method runtime: 0:00:06.678719\n"
     ]
    }
   ],
   "source": [
    "# Extract training set.\n",
    "preprocessing.extract_7z_data(\"../datasets/Train_rev1.7z\")"
   ]
  },
  {
   "cell_type": "code",
   "execution_count": 20,
   "id": "1ec5cdc8",
   "metadata": {},
   "outputs": [
    {
     "name": "stdout",
     "output_type": "stream",
     "text": [
      "Training data is ready!\n",
      "Method runtime: 0:00:05.904719\n"
     ]
    }
   ],
   "source": [
    "df_training = preprocessing.get_training_data()"
   ]
  },
  {
   "cell_type": "markdown",
   "id": "4029cb85",
   "metadata": {},
   "source": [
    "---"
   ]
  },
  {
   "cell_type": "markdown",
   "id": "bfbac987",
   "metadata": {},
   "source": [
    "# Getting Independent and dependent (target) variables to training the model"
   ]
  },
  {
   "cell_type": "code",
   "execution_count": 21,
   "id": "a9912a3e",
   "metadata": {},
   "outputs": [],
   "source": [
    "x = df_training['Category']"
   ]
  },
  {
   "cell_type": "code",
   "execution_count": 22,
   "id": "3dcace5e",
   "metadata": {},
   "outputs": [],
   "source": [
    "y = df_training[\"SalaryNormalized\"]"
   ]
  },
  {
   "cell_type": "markdown",
   "id": "a04e759c",
   "metadata": {},
   "source": [
    "---"
   ]
  },
  {
   "cell_type": "markdown",
   "id": "2a229430",
   "metadata": {},
   "source": [
    "# Split data into Training and Testing"
   ]
  },
  {
   "cell_type": "code",
   "execution_count": null,
   "id": "30a009e5",
   "metadata": {},
   "outputs": [],
   "source": [
    "x_train, x_valid, y_train, y_valid = training.split_data(x, y)"
   ]
  },
  {
   "cell_type": "markdown",
   "id": "f734b7fc",
   "metadata": {},
   "source": [
    "---"
   ]
  },
  {
   "cell_type": "code",
   "execution_count": null,
   "id": "0fe669aa",
   "metadata": {},
   "outputs": [],
   "source": []
  },
  {
   "cell_type": "code",
   "execution_count": null,
   "id": "24b9c8dc",
   "metadata": {},
   "outputs": [],
   "source": []
  },
  {
   "cell_type": "code",
   "execution_count": null,
   "id": "4f9bb94f",
   "metadata": {},
   "outputs": [],
   "source": []
  },
  {
   "cell_type": "code",
   "execution_count": null,
   "id": "648bcf5d",
   "metadata": {},
   "outputs": [],
   "source": []
  },
  {
   "cell_type": "code",
   "execution_count": null,
   "id": "f8d1eeed",
   "metadata": {},
   "outputs": [],
   "source": []
  },
  {
   "cell_type": "code",
   "execution_count": null,
   "id": "1482f9b3",
   "metadata": {},
   "outputs": [],
   "source": []
  },
  {
   "cell_type": "code",
   "execution_count": null,
   "id": "67fa1b34",
   "metadata": {},
   "outputs": [],
   "source": []
  },
  {
   "cell_type": "code",
   "execution_count": null,
   "id": "04186e6d",
   "metadata": {},
   "outputs": [],
   "source": []
  },
  {
   "cell_type": "markdown",
   "id": "73a363bb",
   "metadata": {},
   "source": [
    "---"
   ]
  },
  {
   "cell_type": "markdown",
   "id": "c1b26576",
   "metadata": {},
   "source": [
    "Ro**drigo** **L**eite da **S**ilva - **drigols**"
   ]
  }
 ],
 "metadata": {
  "kernelspec": {
   "display_name": "Python 3 (ipykernel)",
   "language": "python",
   "name": "python3"
  },
  "language_info": {
   "codemirror_mode": {
    "name": "ipython",
    "version": 3
   },
   "file_extension": ".py",
   "mimetype": "text/x-python",
   "name": "python",
   "nbconvert_exporter": "python",
   "pygments_lexer": "ipython3",
   "version": "3.10.5"
  }
 },
 "nbformat": 4,
 "nbformat_minor": 5
}
