{
 "cells": [
  {
   "cell_type": "markdown",
   "id": "0b3e189c",
   "metadata": {},
   "source": [
    "# Exploratory Data Analysis\n",
    "\n",
    "> The notebook goal is creating an **Exploratory Data Analysis (EDA)**.\n",
    "\n",
    "However, none preprocessing or modeling will be created here. Just:\n",
    " - Analysis\n",
    " - Hypothesis\n",
    " - Observation"
   ]
  },
  {
   "cell_type": "markdown",
   "id": "9e858d82",
   "metadata": {},
   "source": [
    "---"
   ]
  },
  {
   "cell_type": "markdown",
   "id": "8cc51c81",
   "metadata": {},
   "source": [
    "# Download and Import necessary libraries"
   ]
  },
  {
   "cell_type": "code",
   "execution_count": 1,
   "id": "417007f6",
   "metadata": {},
   "outputs": [],
   "source": [
    "# To download the necessary libraries remove the comment and run this cell.\n",
    "#!pip install --upgrade -r ../requirements.txt --user"
   ]
  },
  {
   "cell_type": "code",
   "execution_count": 2,
   "id": "222d210a",
   "metadata": {},
   "outputs": [],
   "source": [
    "import pandas as pd\n",
    "import py7zr"
   ]
  },
  {
   "cell_type": "markdown",
   "id": "0fa32288",
   "metadata": {},
   "source": [
    "---"
   ]
  },
  {
   "cell_type": "markdown",
   "id": "26b963b0",
   "metadata": {},
   "source": [
    "# Decompress dataset\n",
    " - How the dataset is very big I chose download the compressed data **(.7z)**.\n",
    " - I also choose decompress in a temporary folder **(/temp)**."
   ]
  },
  {
   "cell_type": "code",
   "execution_count": 3,
   "id": "a549e7d7",
   "metadata": {},
   "outputs": [],
   "source": [
    "# For Linux users.\n",
    "# with py7zr.SevenZipFile(\"../datasets/Train_rev1.7z\", mode='r') as archive:\n",
    "#    archive.extractall(path=\"/tmp\")"
   ]
  },
  {
   "cell_type": "code",
   "execution_count": 4,
   "id": "92d9c9f1",
   "metadata": {},
   "outputs": [],
   "source": [
    "# For Windows users.\n",
    "with py7zr.SevenZipFile(\"../datasets/Train_rev1.7z\", mode='r') as archive:\n",
    "    archive.extractall(path=\"C:\\Windows\\Temp\")"
   ]
  },
  {
   "cell_type": "markdown",
   "id": "d2c4e206",
   "metadata": {},
   "source": [
    "---"
   ]
  },
  {
   "cell_type": "markdown",
   "id": "812c48c1",
   "metadata": {},
   "source": [
    "# Dataset Overview\n",
    "Let's start with **Dataset Overview**:"
   ]
  },
  {
   "cell_type": "code",
   "execution_count": 5,
   "id": "c55e17c8",
   "metadata": {},
   "outputs": [],
   "source": [
    "# For Linux users.\n",
    "# df = pd.read_csv(\"/tmp/Train_rev1.csv\")"
   ]
  },
  {
   "cell_type": "code",
   "execution_count": 6,
   "id": "a0cb82d5",
   "metadata": {},
   "outputs": [],
   "source": [
    "# For Windows users.\n",
    "df = pd.read_csv(\"C:\\Windows\\Temp\\Train_rev1.csv\")"
   ]
  },
  {
   "cell_type": "code",
   "execution_count": 7,
   "id": "7c51b3eb",
   "metadata": {
    "scrolled": true
   },
   "outputs": [
    {
     "data": {
      "text/html": [
       "<div>\n",
       "<style scoped>\n",
       "    .dataframe tbody tr th:only-of-type {\n",
       "        vertical-align: middle;\n",
       "    }\n",
       "\n",
       "    .dataframe tbody tr th {\n",
       "        vertical-align: top;\n",
       "    }\n",
       "\n",
       "    .dataframe thead th {\n",
       "        text-align: right;\n",
       "    }\n",
       "</style>\n",
       "<table border=\"1\" class=\"dataframe\">\n",
       "  <thead>\n",
       "    <tr style=\"text-align: right;\">\n",
       "      <th></th>\n",
       "      <th>Id</th>\n",
       "      <th>Title</th>\n",
       "      <th>FullDescription</th>\n",
       "      <th>LocationRaw</th>\n",
       "      <th>LocationNormalized</th>\n",
       "      <th>ContractType</th>\n",
       "      <th>ContractTime</th>\n",
       "      <th>Company</th>\n",
       "      <th>Category</th>\n",
       "      <th>SalaryRaw</th>\n",
       "      <th>SalaryNormalized</th>\n",
       "      <th>SourceName</th>\n",
       "    </tr>\n",
       "  </thead>\n",
       "  <tbody>\n",
       "    <tr>\n",
       "      <th>0</th>\n",
       "      <td>12612628</td>\n",
       "      <td>Engineering Systems Analyst</td>\n",
       "      <td>Engineering Systems Analyst Dorking Surrey Sal...</td>\n",
       "      <td>Dorking, Surrey, Surrey</td>\n",
       "      <td>Dorking</td>\n",
       "      <td>NaN</td>\n",
       "      <td>permanent</td>\n",
       "      <td>Gregory Martin International</td>\n",
       "      <td>Engineering Jobs</td>\n",
       "      <td>20000 - 30000/annum 20-30K</td>\n",
       "      <td>25000</td>\n",
       "      <td>cv-library.co.uk</td>\n",
       "    </tr>\n",
       "    <tr>\n",
       "      <th>1</th>\n",
       "      <td>12612830</td>\n",
       "      <td>Stress Engineer Glasgow</td>\n",
       "      <td>Stress Engineer Glasgow Salary **** to **** We...</td>\n",
       "      <td>Glasgow, Scotland, Scotland</td>\n",
       "      <td>Glasgow</td>\n",
       "      <td>NaN</td>\n",
       "      <td>permanent</td>\n",
       "      <td>Gregory Martin International</td>\n",
       "      <td>Engineering Jobs</td>\n",
       "      <td>25000 - 35000/annum 25-35K</td>\n",
       "      <td>30000</td>\n",
       "      <td>cv-library.co.uk</td>\n",
       "    </tr>\n",
       "    <tr>\n",
       "      <th>2</th>\n",
       "      <td>12612844</td>\n",
       "      <td>Modelling and simulation analyst</td>\n",
       "      <td>Mathematical Modeller / Simulation Analyst / O...</td>\n",
       "      <td>Hampshire, South East, South East</td>\n",
       "      <td>Hampshire</td>\n",
       "      <td>NaN</td>\n",
       "      <td>permanent</td>\n",
       "      <td>Gregory Martin International</td>\n",
       "      <td>Engineering Jobs</td>\n",
       "      <td>20000 - 40000/annum 20-40K</td>\n",
       "      <td>30000</td>\n",
       "      <td>cv-library.co.uk</td>\n",
       "    </tr>\n",
       "    <tr>\n",
       "      <th>3</th>\n",
       "      <td>12613049</td>\n",
       "      <td>Engineering Systems Analyst / Mathematical Mod...</td>\n",
       "      <td>Engineering Systems Analyst / Mathematical Mod...</td>\n",
       "      <td>Surrey, South East, South East</td>\n",
       "      <td>Surrey</td>\n",
       "      <td>NaN</td>\n",
       "      <td>permanent</td>\n",
       "      <td>Gregory Martin International</td>\n",
       "      <td>Engineering Jobs</td>\n",
       "      <td>25000 - 30000/annum 25K-30K negotiable</td>\n",
       "      <td>27500</td>\n",
       "      <td>cv-library.co.uk</td>\n",
       "    </tr>\n",
       "    <tr>\n",
       "      <th>4</th>\n",
       "      <td>12613647</td>\n",
       "      <td>Pioneer, Miser Engineering Systems Analyst</td>\n",
       "      <td>Pioneer, Miser  Engineering Systems Analyst Do...</td>\n",
       "      <td>Surrey, South East, South East</td>\n",
       "      <td>Surrey</td>\n",
       "      <td>NaN</td>\n",
       "      <td>permanent</td>\n",
       "      <td>Gregory Martin International</td>\n",
       "      <td>Engineering Jobs</td>\n",
       "      <td>20000 - 30000/annum 20-30K</td>\n",
       "      <td>25000</td>\n",
       "      <td>cv-library.co.uk</td>\n",
       "    </tr>\n",
       "  </tbody>\n",
       "</table>\n",
       "</div>"
      ],
      "text/plain": [
       "         Id                                              Title  \\\n",
       "0  12612628                        Engineering Systems Analyst   \n",
       "1  12612830                            Stress Engineer Glasgow   \n",
       "2  12612844                   Modelling and simulation analyst   \n",
       "3  12613049  Engineering Systems Analyst / Mathematical Mod...   \n",
       "4  12613647         Pioneer, Miser Engineering Systems Analyst   \n",
       "\n",
       "                                     FullDescription  \\\n",
       "0  Engineering Systems Analyst Dorking Surrey Sal...   \n",
       "1  Stress Engineer Glasgow Salary **** to **** We...   \n",
       "2  Mathematical Modeller / Simulation Analyst / O...   \n",
       "3  Engineering Systems Analyst / Mathematical Mod...   \n",
       "4  Pioneer, Miser  Engineering Systems Analyst Do...   \n",
       "\n",
       "                         LocationRaw LocationNormalized ContractType  \\\n",
       "0            Dorking, Surrey, Surrey            Dorking          NaN   \n",
       "1        Glasgow, Scotland, Scotland            Glasgow          NaN   \n",
       "2  Hampshire, South East, South East          Hampshire          NaN   \n",
       "3     Surrey, South East, South East             Surrey          NaN   \n",
       "4     Surrey, South East, South East             Surrey          NaN   \n",
       "\n",
       "  ContractTime                       Company          Category  \\\n",
       "0    permanent  Gregory Martin International  Engineering Jobs   \n",
       "1    permanent  Gregory Martin International  Engineering Jobs   \n",
       "2    permanent  Gregory Martin International  Engineering Jobs   \n",
       "3    permanent  Gregory Martin International  Engineering Jobs   \n",
       "4    permanent  Gregory Martin International  Engineering Jobs   \n",
       "\n",
       "                                SalaryRaw  SalaryNormalized        SourceName  \n",
       "0              20000 - 30000/annum 20-30K             25000  cv-library.co.uk  \n",
       "1              25000 - 35000/annum 25-35K             30000  cv-library.co.uk  \n",
       "2              20000 - 40000/annum 20-40K             30000  cv-library.co.uk  \n",
       "3  25000 - 30000/annum 25K-30K negotiable             27500  cv-library.co.uk  \n",
       "4              20000 - 30000/annum 20-30K             25000  cv-library.co.uk  "
      ]
     },
     "execution_count": 7,
     "metadata": {},
     "output_type": "execute_result"
    }
   ],
   "source": [
    "df.head()"
   ]
  },
  {
   "cell_type": "code",
   "execution_count": 8,
   "id": "d26fbaee",
   "metadata": {},
   "outputs": [
    {
     "name": "stdout",
     "output_type": "stream",
     "text": [
      "<class 'pandas.core.frame.DataFrame'>\n",
      "RangeIndex: 244768 entries, 0 to 244767\n",
      "Data columns (total 12 columns):\n",
      " #   Column              Non-Null Count   Dtype \n",
      "---  ------              --------------   ----- \n",
      " 0   Id                  244768 non-null  int64 \n",
      " 1   Title               244767 non-null  object\n",
      " 2   FullDescription     244768 non-null  object\n",
      " 3   LocationRaw         244768 non-null  object\n",
      " 4   LocationNormalized  244768 non-null  object\n",
      " 5   ContractType        65442 non-null   object\n",
      " 6   ContractTime        180863 non-null  object\n",
      " 7   Company             212338 non-null  object\n",
      " 8   Category            244768 non-null  object\n",
      " 9   SalaryRaw           244768 non-null  object\n",
      " 10  SalaryNormalized    244768 non-null  int64 \n",
      " 11  SourceName          244767 non-null  object\n",
      "dtypes: int64(2), object(10)\n",
      "memory usage: 22.4+ MB\n"
     ]
    }
   ],
   "source": [
    "df.info()"
   ]
  },
  {
   "cell_type": "markdown",
   "id": "f09b20df",
   "metadata": {},
   "source": [
    " - **See we have a big dataset with:**\n",
    "   - 244.768 samples.\n",
    "   - And 12 features."
   ]
  },
  {
   "cell_type": "markdown",
   "id": "3713ffa3",
   "metadata": {},
   "source": [
    "---"
   ]
  },
  {
   "cell_type": "markdown",
   "id": "9f85f5de",
   "metadata": {},
   "source": [
    "# Check data types"
   ]
  },
  {
   "cell_type": "code",
   "execution_count": 9,
   "id": "0e017085",
   "metadata": {},
   "outputs": [
    {
     "data": {
      "text/plain": [
       "Id                     int64\n",
       "Title                 object\n",
       "FullDescription       object\n",
       "LocationRaw           object\n",
       "LocationNormalized    object\n",
       "ContractType          object\n",
       "ContractTime          object\n",
       "Company               object\n",
       "Category              object\n",
       "SalaryRaw             object\n",
       "SalaryNormalized       int64\n",
       "SourceName            object\n",
       "dtype: object"
      ]
     },
     "execution_count": 9,
     "metadata": {},
     "output_type": "execute_result"
    }
   ],
   "source": [
    "df.dtypes"
   ]
  },
  {
   "cell_type": "markdown",
   "id": "f8777a5d",
   "metadata": {},
   "source": [
    " - **See we have \"object\" as most common data type:**\n",
    "   - This \"objects\" represent texts (information) about the job vacancies.\n",
    "   - Probably, we will need to apply a data preprocessing to get *insights* from this texts.\n",
    " - **We have only two numerical features:**\n",
    "   - **Id:** Job ad identification.\n",
    "   - **SalaryNormalized:** Target variable."
   ]
  },
  {
   "cell_type": "markdown",
   "id": "ab0819d9",
   "metadata": {},
   "source": [
    "---"
   ]
  },
  {
   "cell_type": "markdown",
   "id": "5cea8c49",
   "metadata": {},
   "source": [
    "# Check missing data\n",
    "Here we check missing data by:\n",
    " - Numerical quantity;\n",
    " - Percent (%)."
   ]
  },
  {
   "cell_type": "markdown",
   "id": "f3a42abc",
   "metadata": {},
   "source": [
    "**Numerical quantity aproach:**"
   ]
  },
  {
   "cell_type": "code",
   "execution_count": 10,
   "id": "de1c7293",
   "metadata": {},
   "outputs": [
    {
     "data": {
      "text/plain": [
       "Id                         0\n",
       "Title                      1\n",
       "FullDescription            0\n",
       "LocationRaw                0\n",
       "LocationNormalized         0\n",
       "ContractType          179326\n",
       "ContractTime           63905\n",
       "Company                32430\n",
       "Category                   0\n",
       "SalaryRaw                  0\n",
       "SalaryNormalized           0\n",
       "SourceName                 1\n",
       "dtype: int64"
      ]
     },
     "execution_count": 10,
     "metadata": {},
     "output_type": "execute_result"
    }
   ],
   "source": [
    "quantityMissing = df.isnull().sum()\n",
    "quantityMissing"
   ]
  },
  {
   "cell_type": "markdown",
   "id": "f8db4527",
   "metadata": {},
   "source": [
    "**Percent (%) approach:**"
   ]
  },
  {
   "cell_type": "code",
   "execution_count": 11,
   "id": "07b5d86d",
   "metadata": {},
   "outputs": [
    {
     "data": {
      "text/plain": [
       "Id                     0.000000\n",
       "Title                  0.000409\n",
       "FullDescription        0.000000\n",
       "LocationRaw            0.000000\n",
       "LocationNormalized     0.000000\n",
       "ContractType          73.263662\n",
       "ContractTime          26.108397\n",
       "Company               13.249281\n",
       "Category               0.000000\n",
       "SalaryRaw              0.000000\n",
       "SalaryNormalized       0.000000\n",
       "SourceName             0.000409\n",
       "dtype: float64"
      ]
     },
     "execution_count": 11,
     "metadata": {},
     "output_type": "execute_result"
    }
   ],
   "source": [
    "percentMissing = (quantityMissing / len(df.index)) * 100\n",
    "percentMissing"
   ]
  },
  {
   "cell_type": "markdown",
   "id": "1ecac122",
   "metadata": {},
   "source": [
    " - See that the features **ContractType**, **ContractTime** and **Company** has more 10% missing data.\n",
    " - However, another observation is that the feature **ContractType** has more 73% missing data:\n",
    "   - That's a critical problem, because features with more 60% are almost null in model creation."
   ]
  },
  {
   "cell_type": "markdown",
   "id": "9d64541e",
   "metadata": {},
   "source": [
    "---"
   ]
  },
  {
   "cell_type": "markdown",
   "id": "3fac6eb6",
   "metadata": {},
   "source": [
    "# Statistical Analysis\n",
    "\n",
    "> Finally, let's do a brief **Statistical Analysis** on the dataset."
   ]
  },
  {
   "cell_type": "markdown",
   "id": "bf0509b7",
   "metadata": {},
   "source": [
    "### Statistical Overview\n",
    "Let's get started with a **Statistical Overview** on the features:"
   ]
  },
  {
   "cell_type": "code",
   "execution_count": 12,
   "id": "e4f817df",
   "metadata": {},
   "outputs": [
    {
     "data": {
      "text/html": [
       "<div>\n",
       "<style scoped>\n",
       "    .dataframe tbody tr th:only-of-type {\n",
       "        vertical-align: middle;\n",
       "    }\n",
       "\n",
       "    .dataframe tbody tr th {\n",
       "        vertical-align: top;\n",
       "    }\n",
       "\n",
       "    .dataframe thead th {\n",
       "        text-align: right;\n",
       "    }\n",
       "</style>\n",
       "<table border=\"1\" class=\"dataframe\">\n",
       "  <thead>\n",
       "    <tr style=\"text-align: right;\">\n",
       "      <th></th>\n",
       "      <th>Id</th>\n",
       "      <th>SalaryNormalized</th>\n",
       "    </tr>\n",
       "  </thead>\n",
       "  <tbody>\n",
       "    <tr>\n",
       "      <th>count</th>\n",
       "      <td>2.447680e+05</td>\n",
       "      <td>244768.000000</td>\n",
       "    </tr>\n",
       "    <tr>\n",
       "      <th>mean</th>\n",
       "      <td>6.970142e+07</td>\n",
       "      <td>34122.577576</td>\n",
       "    </tr>\n",
       "    <tr>\n",
       "      <th>std</th>\n",
       "      <td>3.129813e+06</td>\n",
       "      <td>17640.543124</td>\n",
       "    </tr>\n",
       "    <tr>\n",
       "      <th>min</th>\n",
       "      <td>1.261263e+07</td>\n",
       "      <td>5000.000000</td>\n",
       "    </tr>\n",
       "    <tr>\n",
       "      <th>25%</th>\n",
       "      <td>6.869550e+07</td>\n",
       "      <td>21500.000000</td>\n",
       "    </tr>\n",
       "    <tr>\n",
       "      <th>50%</th>\n",
       "      <td>6.993700e+07</td>\n",
       "      <td>30000.000000</td>\n",
       "    </tr>\n",
       "    <tr>\n",
       "      <th>75%</th>\n",
       "      <td>7.162606e+07</td>\n",
       "      <td>42500.000000</td>\n",
       "    </tr>\n",
       "    <tr>\n",
       "      <th>max</th>\n",
       "      <td>7.270524e+07</td>\n",
       "      <td>200000.000000</td>\n",
       "    </tr>\n",
       "  </tbody>\n",
       "</table>\n",
       "</div>"
      ],
      "text/plain": [
       "                 Id  SalaryNormalized\n",
       "count  2.447680e+05     244768.000000\n",
       "mean   6.970142e+07      34122.577576\n",
       "std    3.129813e+06      17640.543124\n",
       "min    1.261263e+07       5000.000000\n",
       "25%    6.869550e+07      21500.000000\n",
       "50%    6.993700e+07      30000.000000\n",
       "75%    7.162606e+07      42500.000000\n",
       "max    7.270524e+07     200000.000000"
      ]
     },
     "execution_count": 12,
     "metadata": {},
     "output_type": "execute_result"
    }
   ],
   "source": [
    "df.describe()"
   ]
  },
  {
   "cell_type": "markdown",
   "id": "2c559682",
   "metadata": {},
   "source": [
    " - **First, let's ignore \"Id\" feature and focus only in \"SalaryNormalized\".**\n",
    " - **SalaryNormalized:**\n",
    "   - The less salary (annual) was 5.000.\n",
    "   - The highest salary (annual) was 200.000.\n",
    "   - The salary (annual) **mean** was 34.122.\n",
    "   - The salary (annual) **median** was 30.000:\n",
    "     - Second quartile (Q2) or 50% of data.\n",
    "     - See that, our **median** is not far from our **mean**.\n",
    "   - The **Standard Deviation** was 17.640:\n",
    "     - The **Standard Deviation** represents how far we are from the **mean**."
   ]
  },
  {
   "cell_type": "markdown",
   "id": "c8152e1d",
   "metadata": {},
   "source": [
    "### Getting a moda\n",
    "However, the **describe()** function doesn't return the **\"mode\"** from the data:"
   ]
  },
  {
   "cell_type": "code",
   "execution_count": 13,
   "id": "f1ec85f7",
   "metadata": {},
   "outputs": [
    {
     "data": {
      "text/plain": [
       "0    35000\n",
       "Name: SalaryNormalized, dtype: int64"
      ]
     },
     "execution_count": 13,
     "metadata": {},
     "output_type": "execute_result"
    }
   ],
   "source": [
    "df.SalaryNormalized.mode()"
   ]
  },
  {
   "cell_type": "markdown",
   "id": "75e46744",
   "metadata": {},
   "source": [
    "**NOTE:**  \n",
    "See that, our **mode** is not far from our **mean**."
   ]
  },
  {
   "cell_type": "markdown",
   "id": "8dabc5f0",
   "metadata": {},
   "source": [
    "### Getting the most common salaries\n",
    "Now, let's use the **class \"Counter\"** to get a top 10 most common salaries:"
   ]
  },
  {
   "cell_type": "code",
   "execution_count": 14,
   "id": "a59947c8",
   "metadata": {},
   "outputs": [
    {
     "data": {
      "text/plain": [
       "[(35000, 9178),\n",
       " (30000, 8319),\n",
       " (40000, 7688),\n",
       " (45000, 6735),\n",
       " (25000, 6309),\n",
       " (32500, 6215),\n",
       " (37500, 5756),\n",
       " (27500, 5544),\n",
       " (50000, 5424),\n",
       " (42500, 4555)]"
      ]
     },
     "execution_count": 14,
     "metadata": {},
     "output_type": "execute_result"
    }
   ],
   "source": [
    "from collections import Counter\n",
    "c = Counter(df.SalaryNormalized)\n",
    "c.most_common(10)"
   ]
  },
  {
   "cell_type": "markdown",
   "id": "b7eb7886",
   "metadata": {},
   "source": [
    "**NOTE:**  \n",
    " - See that the most common salary was 35.000 with 9.178 samples.\n",
    " - See also that the most common salary is no far from the mean."
   ]
  },
  {
   "cell_type": "markdown",
   "id": "3ae2ed06",
   "metadata": {},
   "source": [
    "---"
   ]
  },
  {
   "cell_type": "markdown",
   "id": "a293e826",
   "metadata": {},
   "source": [
    "# EDA: First cycle analysis\n",
    "\n",
    "> Here we have some important analysis of the **First cycle analysis**.\n",
    "\n",
    " - We have a big dataset with:\n",
    "   - 244.768 samples and 12 features\n",
    " - Probably, we will need to apply a data preprocessing to get insights from this texts.\n",
    " - Some feature has many missing data:\n",
    "   - ContractType, ContractTime and Company has more 10% missing data.\n",
    "   - We have a critical problem with the feature ContractType (more 73% missing data)\n",
    " - Statistics from \"SalaryNormalized\" feature:\n",
    "   - The less salary (annual) was 5.000.\n",
    "   - The highest salary (annual) was 200.000.\n",
    "   - The salary (annual) **mean** was 34.122.\n",
    "   - The salary (annual) **median** was 30.000:\n",
    "     - Second quartile (Q2) or 50% of data.\n",
    "     - See that, our **median** is not far from our **mean**.\n",
    "   - The **mode (most common salary)** was 35.000 (also is not far from the mean)\n",
    "   - TOP 10 most common salaries are:\n",
    "     - 35.000 with 9.178 samples;\n",
    "     - 30.000 with 8.319 samples;\n",
    "     - 40.000 with 7.688 samples;\n",
    "     - 45.000 with 6.735 samples;\n",
    "     - 25.000 with 6.309 samples;\n",
    "     - 32.500 with 6.215 samples;\n",
    "     - 37.500 with 5.756 samples;\n",
    "     - 27.500 with 5.544 samples;\n",
    "     - 50.000 with 5.424 samples;\n",
    "     - 42.500 with 4.555 samples.\n",
    "   - The **Standard Deviation** was 17.640:\n",
    "     - The **Standard Deviation** represents how far we are from the **mean**."
   ]
  },
  {
   "cell_type": "markdown",
   "id": "1645b363",
   "metadata": {},
   "source": [
    "---"
   ]
  },
  {
   "cell_type": "markdown",
   "id": "685d11b1",
   "metadata": {},
   "source": [
    "Ro**drigo** **L**eite da **S**ilva - **drigols**"
   ]
  }
 ],
 "metadata": {
  "kernelspec": {
   "display_name": "Python 3 (ipykernel)",
   "language": "python",
   "name": "python3"
  },
  "language_info": {
   "codemirror_mode": {
    "name": "ipython",
    "version": 3
   },
   "file_extension": ".py",
   "mimetype": "text/x-python",
   "name": "python",
   "nbconvert_exporter": "python",
   "pygments_lexer": "ipython3",
   "version": "3.10.5"
  }
 },
 "nbformat": 4,
 "nbformat_minor": 5
}
